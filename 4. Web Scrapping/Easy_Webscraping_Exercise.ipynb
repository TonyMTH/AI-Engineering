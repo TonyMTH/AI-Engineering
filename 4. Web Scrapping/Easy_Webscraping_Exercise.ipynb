{
 "cells": [
  {
   "cell_type": "markdown",
   "source": [
    "# API REQUEST"
   ],
   "metadata": {}
  },
  {
   "cell_type": "code",
   "execution_count": 28,
   "source": [
    "import requests\r\n",
    "from bs4 import BeautifulSoup\r\n",
    "import pandas as pd\r\n",
    "from dateutil.parser import parse\r\n",
    "import datetime"
   ],
   "outputs": [],
   "metadata": {}
  },
  {
   "cell_type": "code",
   "execution_count": 3,
   "source": [
    "def f2c(f):\r\n",
    "    return round( (f - 32) * (5/9) )\r\n",
    "\r\n",
    "\r\n",
    "def getDay(val):\r\n",
    "    return ' '.join(val.split('<p class=\"period-name\">')[-1].split('</p>')[0].split('<br/>'))"
   ],
   "outputs": [],
   "metadata": {}
  },
  {
   "cell_type": "code",
   "execution_count": 35,
   "source": [
    "url = 'https://forecast.weather.gov/MapClick.php?x=276&y=148&site=lox&zmx=&zmy=&map_x=276&map_y=148#.YVLh87gzZEY'\r\n",
    "response = requests.get(url)\r\n",
    "\r\n",
    "soup = BeautifulSoup(response.content, \"html.parser\")\r\n",
    "forecast_list = soup.findAll('li', class_ = \"forecast-tombstone\")\r\n",
    "\r\n",
    "date_current = soup.find('div', id = \"current_conditions_detail\")\r\n",
    "date_current = date_current.findAll('tr')[-1].findAll('td')[-1].text.strip()\r\n",
    "\r\n",
    "\r\n",
    "contents = {'day_of_week':[],'date':[], 'short_desc':[],'temperature':[],'full_description':[]}\r\n",
    "\r\n",
    "for i in range(len(forecast_list)):\r\n",
    "\r\n",
    "    contents['day_of_week'].append( getDay(str( forecast_list[i].find('p', class_ = \"period-name\") )) )\r\n",
    "    contents['short_desc'].append( forecast_list[i].find('p', class_ = \"short-desc\").text )\r\n",
    "\r\n",
    "    date_current = parse(date_current) + datetime.timedelta(days=i)\r\n",
    "    date_current = date_current.strftime('%d/%m/%Y')\r\n",
    "    contents['date'].append(date_current)\r\n",
    "\r\n",
    "    temperature = forecast_list[i].find('p', class_ = \"temp\").text\r\n",
    "    temp_breaks = temperature.split()\r\n",
    "    temp_celsuis = f2c(float(temp_breaks[1]))\r\n",
    "    contents['temperature'].append( temp_breaks[0]+\" \"+str(temp_celsuis)+\"°C\" )\r\n",
    "    \r\n",
    "\r\n",
    "    contents['full_description'].append( forecast_list[i].find('img').get('title') )\r\n",
    "\r\n",
    "df = pd.DataFrame(contents)\r\n",
    "print(df)"
   ],
   "outputs": [
    {
     "output_type": "stream",
     "name": "stdout",
     "text": [
      "       day_of_week        date               short_desc temperature  \\\n",
      "0          Today    28/09/2021  PatchyDrizzle thenSunny  High: 22°C   \n",
      "1        Tonight    29/09/2021         IncreasingClouds   Low: 16°C   \n",
      "2      Wednesday    01/10/2021            BecomingSunny  High: 24°C   \n",
      "3  Wednesday Night  13/01/2021                    Clear   Low: 14°C   \n",
      "4       Thursday    17/01/2021                    Sunny  High: 28°C   \n",
      "5   Thursday Night  22/01/2021             Mostly Clear   Low: 16°C   \n",
      "6         Friday    28/01/2021                    Sunny  High: 32°C   \n",
      "7     Friday Night  04/02/2021             Mostly Clear   Low: 16°C   \n",
      "8       Saturday    10/04/2021                    Sunny  High: 33°C   \n",
      "\n",
      "                                    full_description  \n",
      "0  Today: Patchy drizzle before 11am.  Cloudy thr...  \n",
      "1  Tonight: Increasing clouds, with a low around ...  \n",
      "2  Wednesday: Cloudy through mid morning, then gr...  \n",
      "3  Wednesday Night: Clear, with a low around 58. ...  \n",
      "4  Thursday: Sunny, with a high near 83. Light an...  \n",
      "5  Thursday Night: Mostly clear, with a low aroun...  \n",
      "6                Friday: Sunny, with a high near 89.  \n",
      "7  Friday Night: Mostly clear, with a low around 61.  \n",
      "8              Saturday: Sunny, with a high near 91.  \n"
     ]
    }
   ],
   "metadata": {}
  },
  {
   "cell_type": "code",
   "execution_count": null,
   "source": [],
   "outputs": [],
   "metadata": {}
  }
 ],
 "metadata": {
  "kernelspec": {
   "name": "python3",
   "display_name": "Python 3.8.11 64-bit ('strive': conda)"
  },
  "language_info": {
   "codemirror_mode": {
    "name": "ipython",
    "version": 3
   },
   "file_extension": ".py",
   "mimetype": "text/x-python",
   "name": "python",
   "nbconvert_exporter": "python",
   "pygments_lexer": "ipython3",
   "version": "3.8.11"
  },
  "interpreter": {
   "hash": "2f9376a53bea67c1ed5cf17fe4a618ec842560647dcd0f876afebe1c5f60995f"
  }
 },
 "nbformat": 4,
 "nbformat_minor": 4
}