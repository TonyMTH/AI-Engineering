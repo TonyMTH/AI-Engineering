{
 "cells": [
  {
   "cell_type": "markdown",
   "source": [
    "# API REQUEST"
   ],
   "metadata": {}
  },
  {
   "cell_type": "code",
   "execution_count": 1,
   "source": [
    "from selenium import webdriver\r\n",
    "import pandas as pd\r\n",
    "from dateutil.parser import parse\r\n",
    "import datetime"
   ],
   "outputs": [],
   "metadata": {}
  },
  {
   "cell_type": "code",
   "execution_count": 2,
   "source": [
    "def f2c(content,j):\r\n",
    "    temperature = content.find_elements_by_class_name('DailyContent--temp--3d4dn')[j].text\r\n",
    "    temp = temperature.strip().strip('°')\r\n",
    "    temp_celsuis = round( (float(temp) - 32) * (5/9) )\r\n",
    "    temp_celsuis = getLowHigh(full_description) +\": \"+str(temp_celsuis)+\"°C\"\r\n",
    "    return temp_celsuis\r\n",
    "\r\n",
    "\r\n",
    "def getDay(day_of_week,i):\r\n",
    "    date_current = day_of_week.split('|')[0].strip()\r\n",
    "    date_current = parse(date_current) + datetime.timedelta(days=i)\r\n",
    "    date_current = date_current.strftime('%d/%m/%Y')\r\n",
    "    return date_current\r\n",
    "\r\n",
    "def getLowHigh(description):\r\n",
    "    return description.split('.')[1].split()[0]"
   ],
   "outputs": [],
   "metadata": {}
  },
  {
   "cell_type": "code",
   "execution_count": 3,
   "source": [
    "\r\n",
    "url = 'https://weather.com/weather/tenday/l/San+Francisco+CA?canonicalCityId=dfdaba8cbe3a4d12a8796e1f7b1ccc7174b4b0a2d5ddb1c8566ae9f154fa638c'\r\n",
    "my_driver = \"chromedriver.exe\"\r\n",
    "\r\n",
    "driver = webdriver.Chrome(my_driver)\r\n",
    "driver.implicitly_wait(3)\r\n",
    "driver.get(url)\r\n",
    "\r\n",
    "content =  driver.find_element_by_class_name('DailyForecast--DisclosureList--msYIJ')\r\n",
    "content = content.find_elements_by_class_name('Disclosure--themeList--25Q0H')\r\n",
    "\r\n",
    "\r\n",
    "content_dict = {'day_of_week':[],'date':[],'temperature':[],'full_description':[]}\r\n",
    "\r\n",
    "for i in range(len(content)):\r\n",
    "    if i != 0:\r\n",
    "        element = content[i].find_element_by_xpath(\".//summary[@role='button']\")\r\n",
    "        driver.execute_script(\"arguments[0].click();\", element)\r\n",
    "\r\n",
    "    for j in [0,1]:#0->Day, 1->Night\r\n",
    "        try:\r\n",
    "            full_description = content[i].find_elements_by_class_name('DailyContent--narrative--hplRl')[j].text\r\n",
    "            content_dict['full_description'].append( full_description )\r\n",
    "\r\n",
    "            temp_celsuis = f2c(content[i],j)\r\n",
    "            content_dict['temperature'].append( temp_celsuis )\r\n",
    "\r\n",
    "            day_of_week = content[i].find_elements_by_tag_name('h3')[j].text\r\n",
    "            content_dict['day_of_week'].append( day_of_week )\r\n",
    "\r\n",
    "            date_current = getDay(day_of_week,i)\r\n",
    "            content_dict['date'].append( date_current )\r\n",
    "        except:\r\n",
    "            pass\r\n",
    "\r\n",
    "\r\n",
    "df = pd.DataFrame(content_dict)\r\n",
    "print(df)\r\n",
    "\r\n"
   ],
   "outputs": [
    {
     "output_type": "stream",
     "name": "stdout",
     "text": [
      "       day_of_week        date temperature  \\\n",
      "0   Tue 28 | Night  28/09/2021   Low: 11°C   \n",
      "1     Wed 29 | Day  30/09/2021  High: 18°C   \n",
      "2   Wed 29 | Night  30/09/2021   Low: 10°C   \n",
      "3     Thu 30 | Day  02/10/2021  High: 20°C   \n",
      "4   Thu 30 | Night  02/10/2021   Low: 11°C   \n",
      "5     Fri 01 | Day  04/09/2021  High: 20°C   \n",
      "6   Fri 01 | Night  04/09/2021   Low: 12°C   \n",
      "7     Sat 02 | Day  06/09/2021  High: 21°C   \n",
      "8   Sat 02 | Night  06/09/2021   Low: 12°C   \n",
      "9     Sun 03 | Day  08/09/2021  High: 21°C   \n",
      "10  Sun 03 | Night  08/09/2021   Low: 12°C   \n",
      "11    Mon 04 | Day  10/09/2021  High: 21°C   \n",
      "12  Mon 04 | Night  10/09/2021   Low: 12°C   \n",
      "13    Tue 05 | Day  12/09/2021  High: 18°C   \n",
      "14  Tue 05 | Night  12/09/2021   Low: 12°C   \n",
      "15    Wed 06 | Day  14/09/2021  High: 17°C   \n",
      "16  Wed 06 | Night  14/09/2021   Low: 11°C   \n",
      "17    Thu 07 | Day  16/09/2021  High: 17°C   \n",
      "18  Thu 07 | Night  16/09/2021   Low: 11°C   \n",
      "19    Fri 08 | Day  18/09/2021  High: 18°C   \n",
      "20  Fri 08 | Night  18/09/2021   Low: 11°C   \n",
      "21    Sat 09 | Day  20/09/2021  High: 18°C   \n",
      "22  Sat 09 | Night  20/09/2021   Low: 11°C   \n",
      "23    Sun 10 | Day  22/09/2021  High: 18°C   \n",
      "24  Sun 10 | Night  22/09/2021   Low: 11°C   \n",
      "25    Mon 11 | Day  24/09/2021  High: 19°C   \n",
      "26  Mon 11 | Night  24/09/2021   Low: 11°C   \n",
      "27    Tue 12 | Day  26/09/2021  High: 19°C   \n",
      "28  Tue 12 | Night  26/09/2021   Low: 11°C   \n",
      "\n",
      "                                     full_description  \n",
      "0   Some clouds. Low 52F. NW winds at 10 to 20 mph...  \n",
      "1   Sunshine along with some cloudy intervals. Hig...  \n",
      "2   Clear. Low around 50F. Winds WNW at 10 to 15 mph.  \n",
      "3   Sunny skies. High 68F. NNE winds shifting to W...  \n",
      "4   Generally fair. Low 52F. Winds WSW at 10 to 15...  \n",
      "5   Sunshine along with some cloudy intervals. Hig...  \n",
      "6   A few clouds from time to time. Low 54F. Winds...  \n",
      "7   Abundant sunshine. High 69F. Winds NNW at 10 t...  \n",
      "8           Clear. Low 54F. Winds WNW at 5 to 10 mph.  \n",
      "9   Mainly sunny. High near 70F. Winds NW at 10 to...  \n",
      "10  Clear skies with a few passing clouds. Low 53F...  \n",
      "11  Intervals of clouds and sunshine. High 69F. Wi...  \n",
      "12  Partly cloudy skies during the evening will gi...  \n",
      "13  Partly cloudy skies. High around 65F. Winds WS...  \n",
      "14  Considerable cloudiness. Low 53F. Winds W at 1...  \n",
      "15  Partly to mostly cloudy. High 63F. Winds WSW a...  \n",
      "16  A few clouds from time to time. Low 52F. Winds...  \n",
      "17  Partly cloudy skies. High 63F. Winds W at 10 t...  \n",
      "18  Partly cloudy skies. Low 52F. Winds W at 10 to...  \n",
      "19  Partly cloudy. High 64F. Winds W at 10 to 15 mph.  \n",
      "20  Partly cloudy skies early followed by mostly c...  \n",
      "21  Sunshine and clouds mixed. High 64F. Winds W a...  \n",
      "22  Partly cloudy. Low 52F. Winds WNW at 10 to 15 ...  \n",
      "23  Intervals of clouds and sunshine. High 64F. Wi...  \n",
      "24   A few clouds. Low 51F. Winds NW at 10 to 15 mph.  \n",
      "25  A few clouds early, otherwise mostly sunny. Hi...  \n",
      "26  A few clouds. Low 51F. Winds WNW at 10 to 15 mph.  \n",
      "27  Generally sunny despite a few afternoon clouds...  \n",
      "28  A mostly clear sky. Low 51F. Winds NW at 10 to...  \n"
     ]
    }
   ],
   "metadata": {}
  }
 ],
 "metadata": {
  "kernelspec": {
   "name": "python3",
   "display_name": "Python 3.8.11 64-bit ('strive': conda)"
  },
  "language_info": {
   "codemirror_mode": {
    "name": "ipython",
    "version": 3
   },
   "file_extension": ".py",
   "mimetype": "text/x-python",
   "name": "python",
   "nbconvert_exporter": "python",
   "pygments_lexer": "ipython3",
   "version": "3.8.11"
  },
  "interpreter": {
   "hash": "2f9376a53bea67c1ed5cf17fe4a618ec842560647dcd0f876afebe1c5f60995f"
  }
 },
 "nbformat": 4,
 "nbformat_minor": 4
}