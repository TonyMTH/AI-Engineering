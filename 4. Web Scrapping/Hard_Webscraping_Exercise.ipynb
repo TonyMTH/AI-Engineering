{
 "cells": [
  {
   "cell_type": "markdown",
   "source": [
    "# API REQUEST"
   ],
   "metadata": {}
  },
  {
   "cell_type": "code",
   "execution_count": 3,
   "source": [
    "from selenium import webdriver\r\n",
    "import selenium\r\n",
    "from selenium.webdriver.common.keys import Keys\r\n",
    "from time import sleep\r\n",
    "\r\n",
    "\r\n",
    "url = 'https://weather.com/weather/tenday/l/San+Francisco+CA?canonicalCityId=dfdaba8cbe3a4d12a8796e1f7b1ccc7174b4b0a2d5ddb1c8566ae9f154fa638c'\r\n",
    "my_driver = \"chromedriver.exe\"\r\n",
    "\r\n",
    "driver = webdriver.Chrome(my_driver)\r\n",
    "\r\n",
    "driver.get(url)"
   ],
   "outputs": [],
   "metadata": {}
  },
  {
   "cell_type": "code",
   "execution_count": 63,
   "source": [
    "def f2c(f):\r\n",
    "    return round( (f - 32) * (5/9) )\r\n",
    "\r\n",
    "\r\n",
    "def getDay(val):\r\n",
    "    return ' '.join(val.split('<p class=\"period-name\">')[-1].split('</p>')[0].split('<br/>'))"
   ],
   "outputs": [],
   "metadata": {}
  },
  {
   "cell_type": "code",
   "execution_count": 67,
   "source": [
    "url = 'https://weather.com/weather/tenday/l/San+Francisco+CA?canonicalCityId=dfdaba8cbe3a4d12a8796e1f7b1ccc7174b4b0a2d5ddb1c8566ae9f154fa638c'\r\n",
    "response = requests.get(url)\r\n",
    "\r\n",
    "soup = BeautifulSoup(response.content, \"html.parser\")\r\n",
    "forecast_list = soup.findAll('li', class_ = \"forecast-tombstone\")\r\n",
    "print(len(forecast_list))\r\n",
    "contents = {'day_of_week':[],'short_desc':[],'temperature':[],'full_description':[]}\r\n",
    "\r\n",
    "for i in range(len(forecast_list)):\r\n",
    "\r\n",
    "    contents['day_of_week'].append( getDay(str( forecast_list[i].find('p', class_ = \"period-name\") )) )\r\n",
    "    contents['short_desc'].append( forecast_list[i].find('p', class_ = \"short-desc\").text )\r\n",
    "\r\n",
    "    temperature = forecast_list[i].find('p', class_ = \"temp\").text\r\n",
    "    temp_breaks = temperature.split()\r\n",
    "    temp_celsuis = f2c(float(temp_breaks[1]))\r\n",
    "    contents['temperature'].append( temp_breaks[0]+\" \"+str(temp_celsuis)+\"°C\" )\r\n",
    "    \r\n",
    "\r\n",
    "    contents['full_description'].append( forecast_list[i].find('img').get('title') )\r\n",
    "\r\n",
    "df = pd.DataFrame(contents)\r\n",
    "print(df)"
   ],
   "outputs": [
    {
     "output_type": "stream",
     "name": "stdout",
     "text": [
      "9\n",
      "       day_of_week               short_desc temperature  \\\n",
      "0      Overnight                     Cloudy   Low: 16°C   \n",
      "1        Tuesday    PatchyDrizzle thenSunny  High: 22°C   \n",
      "2    Tuesday Night         IncreasingClouds   Low: 16°C   \n",
      "3      Wednesday              BecomingSunny  High: 24°C   \n",
      "4  Wednesday Night                    Clear   Low: 14°C   \n",
      "5       Thursday                      Sunny  High: 28°C   \n",
      "6   Thursday Night             Mostly Clear   Low: 16°C   \n",
      "7         Friday                      Sunny  High: 32°C   \n",
      "8     Friday Night             Mostly Clear   Low: 16°C   \n",
      "\n",
      "                                    full_description  \n",
      "0  Overnight: Cloudy, with a low around 60. South...  \n",
      "1  Tuesday: Patchy drizzle before 11am.  Cloudy t...  \n",
      "2  Tuesday Night: Increasing clouds, with a low a...  \n",
      "3  Wednesday: Cloudy through mid morning, then gr...  \n",
      "4  Wednesday Night: Clear, with a low around 58. ...  \n",
      "5              Thursday: Sunny, with a high near 83.  \n",
      "6  Thursday Night: Mostly clear, with a low aroun...  \n",
      "7                Friday: Sunny, with a high near 89.  \n",
      "8  Friday Night: Mostly clear, with a low around 61.  \n"
     ]
    }
   ],
   "metadata": {}
  }
 ],
 "metadata": {
  "kernelspec": {
   "name": "python3",
   "display_name": "Python 3.8.11 64-bit ('strive': conda)"
  },
  "language_info": {
   "codemirror_mode": {
    "name": "ipython",
    "version": 3
   },
   "file_extension": ".py",
   "mimetype": "text/x-python",
   "name": "python",
   "nbconvert_exporter": "python",
   "pygments_lexer": "ipython3",
   "version": "3.8.11"
  },
  "interpreter": {
   "hash": "2f9376a53bea67c1ed5cf17fe4a618ec842560647dcd0f876afebe1c5f60995f"
  }
 },
 "nbformat": 4,
 "nbformat_minor": 4
}