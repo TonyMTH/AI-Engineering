{
 "cells": [
  {
   "cell_type": "markdown",
   "metadata": {},
   "source": [
    "***Support Vector Machines***\n",
    "    Using SVM with Python to predict whether a breast cancer tumor is malignant or benign. Exercise uses numpy, pandas, and scikitlearn and utilizes train test split, SVM, SVC,  and GridSearch to identify the best parameters for prediction."
   ]
  },
  {
   "cell_type": "code",
   "execution_count": 1,
   "metadata": {},
   "outputs": [],
   "source": [
    "import pandas as pd\n",
    "import numpy as np\n",
    "import matplotlib.pyplot as plt\n",
    "import seaborn as sns\n",
    "from sklearn.datasets import load_breast_cancer\n",
    "from sklearn.model_selection import train_test_split\n",
    "from sklearn import svm\n",
    "from sklearn.preprocessing import StandardScaler\n",
    "from sklearn.preprocessing import LabelEncoder\n",
    "from sklearn.model_selection import GridSearchCV\n",
    "from sklearn.metrics import ConfusionMatrixDisplay\n",
    "\n",
    "%matplotlib inline"
   ]
  },
  {
   "cell_type": "code",
   "execution_count": 2,
   "metadata": {
    "deletable": false,
    "nbgrader": {
     "cell_type": "code",
     "checksum": "43d70b49ce7fd38caf186bed99a35a33",
     "grade": false,
     "grade_id": "cell-bbc3dc112799b91f",
     "locked": false,
     "schema_version": 3,
     "solution": true,
     "task": false
    }
   },
   "outputs": [],
   "source": [
    "# 1 point\n",
    "\n",
    "# import and load the breast cancer dataset \n",
    "\n",
    "# output a variable where the data is loaded straight from sklearn\n",
    "\n",
    "cancer = load_breast_cancer()\n",
    "\n"
   ]
  },
  {
   "cell_type": "code",
   "execution_count": 3,
   "metadata": {
    "deletable": false,
    "editable": false,
    "nbgrader": {
     "cell_type": "code",
     "checksum": "74d141316e1b1469995c19d59690e31f",
     "grade": true,
     "grade_id": "cell-89604aed63202fe9",
     "locked": true,
     "points": 1,
     "schema_version": 3,
     "solution": false,
     "task": false
    }
   },
   "outputs": [],
   "source": [
    "assert cancer.data.shape == (569,30)"
   ]
  },
  {
   "cell_type": "code",
   "execution_count": 4,
   "metadata": {},
   "outputs": [
    {
     "name": "stdout",
     "output_type": "stream",
     "text": [
      ".. _breast_cancer_dataset:\n",
      "\n",
      "Breast cancer wisconsin (diagnostic) dataset\n",
      "--------------------------------------------\n",
      "\n",
      "**Data Set Characteristics:**\n",
      "\n",
      "    :Number of Instances: 569\n",
      "\n",
      "    :Number of Attributes: 30 numeric, predictive attributes and the class\n",
      "\n",
      "    :Attribute Information:\n",
      "        - radius (mean of distances from center to points on the perimeter)\n",
      "        - texture (standard deviation of gray-scale values)\n",
      "        - perimeter\n",
      "        - area\n",
      "        - smoothness (local variation in radius lengths)\n",
      "        - compactness (perimeter^2 / area - 1.0)\n",
      "        - concavity (severity of concave portions of the contour)\n",
      "        - concave points (number of concave portions of the contour)\n",
      "        - symmetry\n",
      "        - fractal dimension (\"coastline approximation\" - 1)\n",
      "\n",
      "        The mean, standard error, and \"worst\" or largest (mean of the three\n",
      "        worst/largest values) of these features were computed for each image,\n",
      "        resulting in 30 features.  For instance, field 0 is Mean Radius, field\n",
      "        10 is Radius SE, field 20 is Worst Radius.\n",
      "\n",
      "        - class:\n",
      "                - WDBC-Malignant\n",
      "                - WDBC-Benign\n",
      "\n",
      "    :Summary Statistics:\n",
      "\n",
      "    ===================================== ====== ======\n",
      "                                           Min    Max\n",
      "    ===================================== ====== ======\n",
      "    radius (mean):                        6.981  28.11\n",
      "    texture (mean):                       9.71   39.28\n",
      "    perimeter (mean):                     43.79  188.5\n",
      "    area (mean):                          143.5  2501.0\n",
      "    smoothness (mean):                    0.053  0.163\n",
      "    compactness (mean):                   0.019  0.345\n",
      "    concavity (mean):                     0.0    0.427\n",
      "    concave points (mean):                0.0    0.201\n",
      "    symmetry (mean):                      0.106  0.304\n",
      "    fractal dimension (mean):             0.05   0.097\n",
      "    radius (standard error):              0.112  2.873\n",
      "    texture (standard error):             0.36   4.885\n",
      "    perimeter (standard error):           0.757  21.98\n",
      "    area (standard error):                6.802  542.2\n",
      "    smoothness (standard error):          0.002  0.031\n",
      "    compactness (standard error):         0.002  0.135\n",
      "    concavity (standard error):           0.0    0.396\n",
      "    concave points (standard error):      0.0    0.053\n",
      "    symmetry (standard error):            0.008  0.079\n",
      "    fractal dimension (standard error):   0.001  0.03\n",
      "    radius (worst):                       7.93   36.04\n",
      "    texture (worst):                      12.02  49.54\n",
      "    perimeter (worst):                    50.41  251.2\n",
      "    area (worst):                         185.2  4254.0\n",
      "    smoothness (worst):                   0.071  0.223\n",
      "    compactness (worst):                  0.027  1.058\n",
      "    concavity (worst):                    0.0    1.252\n",
      "    concave points (worst):               0.0    0.291\n",
      "    symmetry (worst):                     0.156  0.664\n",
      "    fractal dimension (worst):            0.055  0.208\n",
      "    ===================================== ====== ======\n",
      "\n",
      "    :Missing Attribute Values: None\n",
      "\n",
      "    :Class Distribution: 212 - Malignant, 357 - Benign\n",
      "\n",
      "    :Creator:  Dr. William H. Wolberg, W. Nick Street, Olvi L. Mangasarian\n",
      "\n",
      "    :Donor: Nick Street\n",
      "\n",
      "    :Date: November, 1995\n",
      "\n",
      "This is a copy of UCI ML Breast Cancer Wisconsin (Diagnostic) datasets.\n",
      "https://goo.gl/U2Uwz2\n",
      "\n",
      "Features are computed from a digitized image of a fine needle\n",
      "aspirate (FNA) of a breast mass.  They describe\n",
      "characteristics of the cell nuclei present in the image.\n",
      "\n",
      "Separating plane described above was obtained using\n",
      "Multisurface Method-Tree (MSM-T) [K. P. Bennett, \"Decision Tree\n",
      "Construction Via Linear Programming.\" Proceedings of the 4th\n",
      "Midwest Artificial Intelligence and Cognitive Science Society,\n",
      "pp. 97-101, 1992], a classification method which uses linear\n",
      "programming to construct a decision tree.  Relevant features\n",
      "were selected using an exhaustive search in the space of 1-4\n",
      "features and 1-3 separating planes.\n",
      "\n",
      "The actual linear program used to obtain the separating plane\n",
      "in the 3-dimensional space is that described in:\n",
      "[K. P. Bennett and O. L. Mangasarian: \"Robust Linear\n",
      "Programming Discrimination of Two Linearly Inseparable Sets\",\n",
      "Optimization Methods and Software 1, 1992, 23-34].\n",
      "\n",
      "This database is also available through the UW CS ftp server:\n",
      "\n",
      "ftp ftp.cs.wisc.edu\n",
      "cd math-prog/cpo-dataset/machine-learn/WDBC/\n",
      "\n",
      ".. topic:: References\n",
      "\n",
      "   - W.N. Street, W.H. Wolberg and O.L. Mangasarian. Nuclear feature extraction \n",
      "     for breast tumor diagnosis. IS&T/SPIE 1993 International Symposium on \n",
      "     Electronic Imaging: Science and Technology, volume 1905, pages 861-870,\n",
      "     San Jose, CA, 1993.\n",
      "   - O.L. Mangasarian, W.N. Street and W.H. Wolberg. Breast cancer diagnosis and \n",
      "     prognosis via linear programming. Operations Research, 43(4), pages 570-577, \n",
      "     July-August 1995.\n",
      "   - W.H. Wolberg, W.N. Street, and O.L. Mangasarian. Machine learning techniques\n",
      "     to diagnose breast cancer from fine-needle aspirates. Cancer Letters 77 (1994) \n",
      "     163-171.\n"
     ]
    }
   ],
   "source": [
    "print(cancer['DESCR'])"
   ]
  },
  {
   "cell_type": "code",
   "execution_count": 5,
   "metadata": {},
   "outputs": [
    {
     "data": {
      "text/plain": [
       "array(['mean radius', 'mean texture', 'mean perimeter', 'mean area',\n",
       "       'mean smoothness', 'mean compactness', 'mean concavity',\n",
       "       'mean concave points', 'mean symmetry', 'mean fractal dimension',\n",
       "       'radius error', 'texture error', 'perimeter error', 'area error',\n",
       "       'smoothness error', 'compactness error', 'concavity error',\n",
       "       'concave points error', 'symmetry error',\n",
       "       'fractal dimension error', 'worst radius', 'worst texture',\n",
       "       'worst perimeter', 'worst area', 'worst smoothness',\n",
       "       'worst compactness', 'worst concavity', 'worst concave points',\n",
       "       'worst symmetry', 'worst fractal dimension'], dtype='<U23')"
      ]
     },
     "execution_count": 5,
     "metadata": {},
     "output_type": "execute_result"
    }
   ],
   "source": [
    "cancer['feature_names']"
   ]
  },
  {
   "cell_type": "code",
   "execution_count": 6,
   "metadata": {
    "deletable": false,
    "nbgrader": {
     "cell_type": "code",
     "checksum": "abd0743c6351cd80c18ffb35bc88f1e8",
     "grade": false,
     "grade_id": "cell-13eab9c14ca47094",
     "locked": false,
     "schema_version": 3,
     "solution": true,
     "task": false
    }
   },
   "outputs": [
    {
     "data": {
      "text/html": [
       "<div>\n",
       "<style scoped>\n",
       "    .dataframe tbody tr th:only-of-type {\n",
       "        vertical-align: middle;\n",
       "    }\n",
       "\n",
       "    .dataframe tbody tr th {\n",
       "        vertical-align: top;\n",
       "    }\n",
       "\n",
       "    .dataframe thead th {\n",
       "        text-align: right;\n",
       "    }\n",
       "</style>\n",
       "<table border=\"1\" class=\"dataframe\">\n",
       "  <thead>\n",
       "    <tr style=\"text-align: right;\">\n",
       "      <th></th>\n",
       "      <th>mean radius</th>\n",
       "      <th>mean texture</th>\n",
       "      <th>mean perimeter</th>\n",
       "      <th>mean area</th>\n",
       "      <th>mean smoothness</th>\n",
       "      <th>mean compactness</th>\n",
       "      <th>mean concavity</th>\n",
       "      <th>mean concave points</th>\n",
       "      <th>mean symmetry</th>\n",
       "      <th>mean fractal dimension</th>\n",
       "      <th>...</th>\n",
       "      <th>worst radius</th>\n",
       "      <th>worst texture</th>\n",
       "      <th>worst perimeter</th>\n",
       "      <th>worst area</th>\n",
       "      <th>worst smoothness</th>\n",
       "      <th>worst compactness</th>\n",
       "      <th>worst concavity</th>\n",
       "      <th>worst concave points</th>\n",
       "      <th>worst symmetry</th>\n",
       "      <th>worst fractal dimension</th>\n",
       "    </tr>\n",
       "  </thead>\n",
       "  <tbody>\n",
       "    <tr>\n",
       "      <th>0</th>\n",
       "      <td>17.99</td>\n",
       "      <td>10.38</td>\n",
       "      <td>122.80</td>\n",
       "      <td>1001.0</td>\n",
       "      <td>0.11840</td>\n",
       "      <td>0.27760</td>\n",
       "      <td>0.30010</td>\n",
       "      <td>0.14710</td>\n",
       "      <td>0.2419</td>\n",
       "      <td>0.07871</td>\n",
       "      <td>...</td>\n",
       "      <td>25.380</td>\n",
       "      <td>17.33</td>\n",
       "      <td>184.60</td>\n",
       "      <td>2019.0</td>\n",
       "      <td>0.16220</td>\n",
       "      <td>0.66560</td>\n",
       "      <td>0.7119</td>\n",
       "      <td>0.2654</td>\n",
       "      <td>0.4601</td>\n",
       "      <td>0.11890</td>\n",
       "    </tr>\n",
       "    <tr>\n",
       "      <th>1</th>\n",
       "      <td>20.57</td>\n",
       "      <td>17.77</td>\n",
       "      <td>132.90</td>\n",
       "      <td>1326.0</td>\n",
       "      <td>0.08474</td>\n",
       "      <td>0.07864</td>\n",
       "      <td>0.08690</td>\n",
       "      <td>0.07017</td>\n",
       "      <td>0.1812</td>\n",
       "      <td>0.05667</td>\n",
       "      <td>...</td>\n",
       "      <td>24.990</td>\n",
       "      <td>23.41</td>\n",
       "      <td>158.80</td>\n",
       "      <td>1956.0</td>\n",
       "      <td>0.12380</td>\n",
       "      <td>0.18660</td>\n",
       "      <td>0.2416</td>\n",
       "      <td>0.1860</td>\n",
       "      <td>0.2750</td>\n",
       "      <td>0.08902</td>\n",
       "    </tr>\n",
       "    <tr>\n",
       "      <th>2</th>\n",
       "      <td>19.69</td>\n",
       "      <td>21.25</td>\n",
       "      <td>130.00</td>\n",
       "      <td>1203.0</td>\n",
       "      <td>0.10960</td>\n",
       "      <td>0.15990</td>\n",
       "      <td>0.19740</td>\n",
       "      <td>0.12790</td>\n",
       "      <td>0.2069</td>\n",
       "      <td>0.05999</td>\n",
       "      <td>...</td>\n",
       "      <td>23.570</td>\n",
       "      <td>25.53</td>\n",
       "      <td>152.50</td>\n",
       "      <td>1709.0</td>\n",
       "      <td>0.14440</td>\n",
       "      <td>0.42450</td>\n",
       "      <td>0.4504</td>\n",
       "      <td>0.2430</td>\n",
       "      <td>0.3613</td>\n",
       "      <td>0.08758</td>\n",
       "    </tr>\n",
       "    <tr>\n",
       "      <th>3</th>\n",
       "      <td>11.42</td>\n",
       "      <td>20.38</td>\n",
       "      <td>77.58</td>\n",
       "      <td>386.1</td>\n",
       "      <td>0.14250</td>\n",
       "      <td>0.28390</td>\n",
       "      <td>0.24140</td>\n",
       "      <td>0.10520</td>\n",
       "      <td>0.2597</td>\n",
       "      <td>0.09744</td>\n",
       "      <td>...</td>\n",
       "      <td>14.910</td>\n",
       "      <td>26.50</td>\n",
       "      <td>98.87</td>\n",
       "      <td>567.7</td>\n",
       "      <td>0.20980</td>\n",
       "      <td>0.86630</td>\n",
       "      <td>0.6869</td>\n",
       "      <td>0.2575</td>\n",
       "      <td>0.6638</td>\n",
       "      <td>0.17300</td>\n",
       "    </tr>\n",
       "    <tr>\n",
       "      <th>4</th>\n",
       "      <td>20.29</td>\n",
       "      <td>14.34</td>\n",
       "      <td>135.10</td>\n",
       "      <td>1297.0</td>\n",
       "      <td>0.10030</td>\n",
       "      <td>0.13280</td>\n",
       "      <td>0.19800</td>\n",
       "      <td>0.10430</td>\n",
       "      <td>0.1809</td>\n",
       "      <td>0.05883</td>\n",
       "      <td>...</td>\n",
       "      <td>22.540</td>\n",
       "      <td>16.67</td>\n",
       "      <td>152.20</td>\n",
       "      <td>1575.0</td>\n",
       "      <td>0.13740</td>\n",
       "      <td>0.20500</td>\n",
       "      <td>0.4000</td>\n",
       "      <td>0.1625</td>\n",
       "      <td>0.2364</td>\n",
       "      <td>0.07678</td>\n",
       "    </tr>\n",
       "    <tr>\n",
       "      <th>...</th>\n",
       "      <td>...</td>\n",
       "      <td>...</td>\n",
       "      <td>...</td>\n",
       "      <td>...</td>\n",
       "      <td>...</td>\n",
       "      <td>...</td>\n",
       "      <td>...</td>\n",
       "      <td>...</td>\n",
       "      <td>...</td>\n",
       "      <td>...</td>\n",
       "      <td>...</td>\n",
       "      <td>...</td>\n",
       "      <td>...</td>\n",
       "      <td>...</td>\n",
       "      <td>...</td>\n",
       "      <td>...</td>\n",
       "      <td>...</td>\n",
       "      <td>...</td>\n",
       "      <td>...</td>\n",
       "      <td>...</td>\n",
       "      <td>...</td>\n",
       "    </tr>\n",
       "    <tr>\n",
       "      <th>564</th>\n",
       "      <td>21.56</td>\n",
       "      <td>22.39</td>\n",
       "      <td>142.00</td>\n",
       "      <td>1479.0</td>\n",
       "      <td>0.11100</td>\n",
       "      <td>0.11590</td>\n",
       "      <td>0.24390</td>\n",
       "      <td>0.13890</td>\n",
       "      <td>0.1726</td>\n",
       "      <td>0.05623</td>\n",
       "      <td>...</td>\n",
       "      <td>25.450</td>\n",
       "      <td>26.40</td>\n",
       "      <td>166.10</td>\n",
       "      <td>2027.0</td>\n",
       "      <td>0.14100</td>\n",
       "      <td>0.21130</td>\n",
       "      <td>0.4107</td>\n",
       "      <td>0.2216</td>\n",
       "      <td>0.2060</td>\n",
       "      <td>0.07115</td>\n",
       "    </tr>\n",
       "    <tr>\n",
       "      <th>565</th>\n",
       "      <td>20.13</td>\n",
       "      <td>28.25</td>\n",
       "      <td>131.20</td>\n",
       "      <td>1261.0</td>\n",
       "      <td>0.09780</td>\n",
       "      <td>0.10340</td>\n",
       "      <td>0.14400</td>\n",
       "      <td>0.09791</td>\n",
       "      <td>0.1752</td>\n",
       "      <td>0.05533</td>\n",
       "      <td>...</td>\n",
       "      <td>23.690</td>\n",
       "      <td>38.25</td>\n",
       "      <td>155.00</td>\n",
       "      <td>1731.0</td>\n",
       "      <td>0.11660</td>\n",
       "      <td>0.19220</td>\n",
       "      <td>0.3215</td>\n",
       "      <td>0.1628</td>\n",
       "      <td>0.2572</td>\n",
       "      <td>0.06637</td>\n",
       "    </tr>\n",
       "    <tr>\n",
       "      <th>566</th>\n",
       "      <td>16.60</td>\n",
       "      <td>28.08</td>\n",
       "      <td>108.30</td>\n",
       "      <td>858.1</td>\n",
       "      <td>0.08455</td>\n",
       "      <td>0.10230</td>\n",
       "      <td>0.09251</td>\n",
       "      <td>0.05302</td>\n",
       "      <td>0.1590</td>\n",
       "      <td>0.05648</td>\n",
       "      <td>...</td>\n",
       "      <td>18.980</td>\n",
       "      <td>34.12</td>\n",
       "      <td>126.70</td>\n",
       "      <td>1124.0</td>\n",
       "      <td>0.11390</td>\n",
       "      <td>0.30940</td>\n",
       "      <td>0.3403</td>\n",
       "      <td>0.1418</td>\n",
       "      <td>0.2218</td>\n",
       "      <td>0.07820</td>\n",
       "    </tr>\n",
       "    <tr>\n",
       "      <th>567</th>\n",
       "      <td>20.60</td>\n",
       "      <td>29.33</td>\n",
       "      <td>140.10</td>\n",
       "      <td>1265.0</td>\n",
       "      <td>0.11780</td>\n",
       "      <td>0.27700</td>\n",
       "      <td>0.35140</td>\n",
       "      <td>0.15200</td>\n",
       "      <td>0.2397</td>\n",
       "      <td>0.07016</td>\n",
       "      <td>...</td>\n",
       "      <td>25.740</td>\n",
       "      <td>39.42</td>\n",
       "      <td>184.60</td>\n",
       "      <td>1821.0</td>\n",
       "      <td>0.16500</td>\n",
       "      <td>0.86810</td>\n",
       "      <td>0.9387</td>\n",
       "      <td>0.2650</td>\n",
       "      <td>0.4087</td>\n",
       "      <td>0.12400</td>\n",
       "    </tr>\n",
       "    <tr>\n",
       "      <th>568</th>\n",
       "      <td>7.76</td>\n",
       "      <td>24.54</td>\n",
       "      <td>47.92</td>\n",
       "      <td>181.0</td>\n",
       "      <td>0.05263</td>\n",
       "      <td>0.04362</td>\n",
       "      <td>0.00000</td>\n",
       "      <td>0.00000</td>\n",
       "      <td>0.1587</td>\n",
       "      <td>0.05884</td>\n",
       "      <td>...</td>\n",
       "      <td>9.456</td>\n",
       "      <td>30.37</td>\n",
       "      <td>59.16</td>\n",
       "      <td>268.6</td>\n",
       "      <td>0.08996</td>\n",
       "      <td>0.06444</td>\n",
       "      <td>0.0000</td>\n",
       "      <td>0.0000</td>\n",
       "      <td>0.2871</td>\n",
       "      <td>0.07039</td>\n",
       "    </tr>\n",
       "  </tbody>\n",
       "</table>\n",
       "<p>569 rows × 30 columns</p>\n",
       "</div>"
      ],
      "text/plain": [
       "     mean radius  mean texture  mean perimeter  mean area  mean smoothness  \\\n",
       "0          17.99         10.38          122.80     1001.0          0.11840   \n",
       "1          20.57         17.77          132.90     1326.0          0.08474   \n",
       "2          19.69         21.25          130.00     1203.0          0.10960   \n",
       "3          11.42         20.38           77.58      386.1          0.14250   \n",
       "4          20.29         14.34          135.10     1297.0          0.10030   \n",
       "..           ...           ...             ...        ...              ...   \n",
       "564        21.56         22.39          142.00     1479.0          0.11100   \n",
       "565        20.13         28.25          131.20     1261.0          0.09780   \n",
       "566        16.60         28.08          108.30      858.1          0.08455   \n",
       "567        20.60         29.33          140.10     1265.0          0.11780   \n",
       "568         7.76         24.54           47.92      181.0          0.05263   \n",
       "\n",
       "     mean compactness  mean concavity  mean concave points  mean symmetry  \\\n",
       "0             0.27760         0.30010              0.14710         0.2419   \n",
       "1             0.07864         0.08690              0.07017         0.1812   \n",
       "2             0.15990         0.19740              0.12790         0.2069   \n",
       "3             0.28390         0.24140              0.10520         0.2597   \n",
       "4             0.13280         0.19800              0.10430         0.1809   \n",
       "..                ...             ...                  ...            ...   \n",
       "564           0.11590         0.24390              0.13890         0.1726   \n",
       "565           0.10340         0.14400              0.09791         0.1752   \n",
       "566           0.10230         0.09251              0.05302         0.1590   \n",
       "567           0.27700         0.35140              0.15200         0.2397   \n",
       "568           0.04362         0.00000              0.00000         0.1587   \n",
       "\n",
       "     mean fractal dimension  ...  worst radius  worst texture  \\\n",
       "0                   0.07871  ...        25.380          17.33   \n",
       "1                   0.05667  ...        24.990          23.41   \n",
       "2                   0.05999  ...        23.570          25.53   \n",
       "3                   0.09744  ...        14.910          26.50   \n",
       "4                   0.05883  ...        22.540          16.67   \n",
       "..                      ...  ...           ...            ...   \n",
       "564                 0.05623  ...        25.450          26.40   \n",
       "565                 0.05533  ...        23.690          38.25   \n",
       "566                 0.05648  ...        18.980          34.12   \n",
       "567                 0.07016  ...        25.740          39.42   \n",
       "568                 0.05884  ...         9.456          30.37   \n",
       "\n",
       "     worst perimeter  worst area  worst smoothness  worst compactness  \\\n",
       "0             184.60      2019.0           0.16220            0.66560   \n",
       "1             158.80      1956.0           0.12380            0.18660   \n",
       "2             152.50      1709.0           0.14440            0.42450   \n",
       "3              98.87       567.7           0.20980            0.86630   \n",
       "4             152.20      1575.0           0.13740            0.20500   \n",
       "..               ...         ...               ...                ...   \n",
       "564           166.10      2027.0           0.14100            0.21130   \n",
       "565           155.00      1731.0           0.11660            0.19220   \n",
       "566           126.70      1124.0           0.11390            0.30940   \n",
       "567           184.60      1821.0           0.16500            0.86810   \n",
       "568            59.16       268.6           0.08996            0.06444   \n",
       "\n",
       "     worst concavity  worst concave points  worst symmetry  \\\n",
       "0             0.7119                0.2654          0.4601   \n",
       "1             0.2416                0.1860          0.2750   \n",
       "2             0.4504                0.2430          0.3613   \n",
       "3             0.6869                0.2575          0.6638   \n",
       "4             0.4000                0.1625          0.2364   \n",
       "..               ...                   ...             ...   \n",
       "564           0.4107                0.2216          0.2060   \n",
       "565           0.3215                0.1628          0.2572   \n",
       "566           0.3403                0.1418          0.2218   \n",
       "567           0.9387                0.2650          0.4087   \n",
       "568           0.0000                0.0000          0.2871   \n",
       "\n",
       "     worst fractal dimension  \n",
       "0                    0.11890  \n",
       "1                    0.08902  \n",
       "2                    0.08758  \n",
       "3                    0.17300  \n",
       "4                    0.07678  \n",
       "..                       ...  \n",
       "564                  0.07115  \n",
       "565                  0.06637  \n",
       "566                  0.07820  \n",
       "567                  0.12400  \n",
       "568                  0.07039  \n",
       "\n",
       "[569 rows x 30 columns]"
      ]
     },
     "execution_count": 6,
     "metadata": {},
     "output_type": "execute_result"
    }
   ],
   "source": [
    "# 1 point\n",
    "\n",
    "#load the data from the dataset into a pd df\n",
    "\n",
    "#output a dataframe with the data of the dataset and the column names as feature names\n",
    "#IT SHOULD NOT INCLUDE THE TARGET \n",
    "\n",
    "df_feat = pd.DataFrame(cancer.data, columns=cancer.feature_names)\n",
    "df_feat"
   ]
  },
  {
   "cell_type": "code",
   "execution_count": 7,
   "metadata": {
    "deletable": false,
    "editable": false,
    "nbgrader": {
     "cell_type": "code",
     "checksum": "ba8d30c1430fd36e39f8f32fed6e596e",
     "grade": true,
     "grade_id": "cell-1c2998ddc5440385",
     "locked": true,
     "points": 1,
     "schema_version": 3,
     "solution": false,
     "task": false
    }
   },
   "outputs": [],
   "source": [
    "b = True\n",
    "for i in cancer['feature_names']:\n",
    "    if df_feat[i].shape != (569,):\n",
    "        b = False\n",
    "        break\n",
    "assert b"
   ]
  },
  {
   "cell_type": "code",
   "execution_count": 8,
   "metadata": {
    "deletable": false,
    "nbgrader": {
     "cell_type": "code",
     "checksum": "66a83bf219a03e2efad9225cfdb948b4",
     "grade": false,
     "grade_id": "cell-58bf6e127f5d9c62",
     "locked": false,
     "schema_version": 3,
     "solution": true,
     "task": false
    }
   },
   "outputs": [
    {
     "data": {
      "text/html": [
       "<div>\n",
       "<style scoped>\n",
       "    .dataframe tbody tr th:only-of-type {\n",
       "        vertical-align: middle;\n",
       "    }\n",
       "\n",
       "    .dataframe tbody tr th {\n",
       "        vertical-align: top;\n",
       "    }\n",
       "\n",
       "    .dataframe thead th {\n",
       "        text-align: right;\n",
       "    }\n",
       "</style>\n",
       "<table border=\"1\" class=\"dataframe\">\n",
       "  <thead>\n",
       "    <tr style=\"text-align: right;\">\n",
       "      <th></th>\n",
       "      <th>Cancer</th>\n",
       "    </tr>\n",
       "  </thead>\n",
       "  <tbody>\n",
       "    <tr>\n",
       "      <th>0</th>\n",
       "      <td>1</td>\n",
       "    </tr>\n",
       "    <tr>\n",
       "      <th>1</th>\n",
       "      <td>1</td>\n",
       "    </tr>\n",
       "    <tr>\n",
       "      <th>2</th>\n",
       "      <td>1</td>\n",
       "    </tr>\n",
       "    <tr>\n",
       "      <th>3</th>\n",
       "      <td>1</td>\n",
       "    </tr>\n",
       "    <tr>\n",
       "      <th>4</th>\n",
       "      <td>1</td>\n",
       "    </tr>\n",
       "    <tr>\n",
       "      <th>...</th>\n",
       "      <td>...</td>\n",
       "    </tr>\n",
       "    <tr>\n",
       "      <th>564</th>\n",
       "      <td>1</td>\n",
       "    </tr>\n",
       "    <tr>\n",
       "      <th>565</th>\n",
       "      <td>1</td>\n",
       "    </tr>\n",
       "    <tr>\n",
       "      <th>566</th>\n",
       "      <td>1</td>\n",
       "    </tr>\n",
       "    <tr>\n",
       "      <th>567</th>\n",
       "      <td>1</td>\n",
       "    </tr>\n",
       "    <tr>\n",
       "      <th>568</th>\n",
       "      <td>0</td>\n",
       "    </tr>\n",
       "  </tbody>\n",
       "</table>\n",
       "<p>569 rows × 1 columns</p>\n",
       "</div>"
      ],
      "text/plain": [
       "     Cancer\n",
       "0         1\n",
       "1         1\n",
       "2         1\n",
       "3         1\n",
       "4         1\n",
       "..      ...\n",
       "564       1\n",
       "565       1\n",
       "566       1\n",
       "567       1\n",
       "568       0\n",
       "\n",
       "[569 rows x 1 columns]"
      ]
     },
     "execution_count": 8,
     "metadata": {},
     "output_type": "execute_result"
    }
   ],
   "source": [
    "# 1 point\n",
    "\n",
    "# create a dataframe with all the targets and the column name your be 'Cancer'\n",
    "# output a single column dataframe\n",
    "df_target = pd.DataFrame(cancer.target_names[cancer.target],columns=[\"Cancer\"])\n",
    "\n",
    "#transform the target into numeric codes\n",
    "labelencoder= LabelEncoder()\n",
    "df_target[\"Cancer\"] = labelencoder.fit_transform(df_target[\"Cancer\"])\n",
    "df_target"
   ]
  },
  {
   "cell_type": "code",
   "execution_count": 9,
   "metadata": {
    "deletable": false,
    "editable": false,
    "nbgrader": {
     "cell_type": "code",
     "checksum": "17c24d99af48f8b9682fd5786429d444",
     "grade": true,
     "grade_id": "cell-c504ee25e1401818",
     "locked": true,
     "points": 1,
     "schema_version": 3,
     "solution": false,
     "task": false
    }
   },
   "outputs": [],
   "source": [
    "assert df_target['Cancer'].shape == (569,)"
   ]
  },
  {
   "cell_type": "code",
   "execution_count": 10,
   "metadata": {
    "deletable": false,
    "nbgrader": {
     "cell_type": "code",
     "checksum": "0106e33d2151de4f0a30ea7b4c03d7fb",
     "grade": false,
     "grade_id": "cell-cea569421704556d",
     "locked": false,
     "schema_version": 3,
     "solution": true,
     "task": false
    }
   },
   "outputs": [],
   "source": [
    "#1 point\n",
    "# get the train test split, tested with random state 0 and test_size 0.2\n",
    "# import if needed\n",
    "# all the subsets should be numpy arrays\n",
    "# TIP carefull with the shape of the Y\n",
    "\n",
    "X,y = df_feat.values, df_target[\"Cancer\"].values\n",
    "x_train, x_test, y_train, y_test = train_test_split(X,y,test_size=.2,stratify=y,random_state=0)\n",
    "\n",
    "#Normalize data\n",
    "scalar = StandardScaler()\n",
    "x_train = scalar.fit_transform(x_train)\n",
    "x_test = scalar.transform(x_test)"
   ]
  },
  {
   "cell_type": "code",
   "execution_count": 11,
   "metadata": {
    "deletable": false,
    "editable": false,
    "nbgrader": {
     "cell_type": "code",
     "checksum": "fdfbff27aa3ebfceec29cf2e21d05199",
     "grade": true,
     "grade_id": "cell-8557f6d20b5ebd4a",
     "locked": true,
     "points": 1,
     "schema_version": 3,
     "solution": false,
     "task": false
    }
   },
   "outputs": [],
   "source": [
    "assert x_train.shape == (455,30)\n",
    "assert x_test.shape == (114,30)\n",
    "assert y_train.shape == (455,)\n",
    "assert y_test.shape == (114,)"
   ]
  },
  {
   "cell_type": "code",
   "execution_count": 12,
   "metadata": {
    "deletable": false,
    "nbgrader": {
     "cell_type": "code",
     "checksum": "ea62971bcbfa5fa154963b73c182afd1",
     "grade": false,
     "grade_id": "cell-d569929ec688ee8f",
     "locked": false,
     "schema_version": 3,
     "solution": true,
     "task": false
    }
   },
   "outputs": [
    {
     "name": "stdout",
     "output_type": "stream",
     "text": [
      "\n",
      "(103, 30)\n"
     ]
    }
   ],
   "source": [
    "# 2 points\n",
    "#Train the support vector classifier\n",
    "# import if needed\n",
    "\n",
    "clf = svm.SVC()\n",
    "clf.fit(x_train,y_train)\n",
    "print(\"\")\n",
    "print(clf.support_vectors_.shape)"
   ]
  },
  {
   "cell_type": "code",
   "execution_count": 13,
   "metadata": {
    "deletable": false,
    "editable": false,
    "nbgrader": {
     "cell_type": "code",
     "checksum": "8f5c6be8a8389b4869599beb3e0979fc",
     "grade": true,
     "grade_id": "cell-741670633ab66a5b",
     "locked": true,
     "points": 2,
     "schema_version": 3,
     "solution": false,
     "task": false
    }
   },
   "outputs": [],
   "source": [
    "assert clf.support_vectors_.shape == (103,30) #(123,30)"
   ]
  },
  {
   "cell_type": "code",
   "execution_count": 14,
   "metadata": {
    "deletable": false,
    "nbgrader": {
     "cell_type": "code",
     "checksum": "4c02a56a8941df35ddf6e1b1e4b04cbb",
     "grade": false,
     "grade_id": "cell-ee4e7bf6bb7b13e9",
     "locked": false,
     "schema_version": 3,
     "solution": true,
     "task": false
    }
   },
   "outputs": [
    {
     "data": {
      "text/plain": [
       "0.956140350877193"
      ]
     },
     "execution_count": 14,
     "metadata": {},
     "output_type": "execute_result"
    }
   ],
   "source": [
    "# 3 points\n",
    "# predict the testing data and get the accuracy\n",
    "# import if needed\n",
    "# output preds is the array with the predictions and acc is a float between 0 and 1\n",
    "preds = clf.predict(x_test)\n",
    "acc = clf.score(x_test,y_test)\n",
    "acc\n"
   ]
  },
  {
   "cell_type": "code",
   "execution_count": 15,
   "metadata": {
    "deletable": false,
    "editable": false,
    "nbgrader": {
     "cell_type": "code",
     "checksum": "0d913ef1f9e2c478a729aec9ec9c99d4",
     "grade": true,
     "grade_id": "cell-a8b6a273210f6822",
     "locked": true,
     "points": 2,
     "schema_version": 3,
     "solution": false,
     "task": false
    }
   },
   "outputs": [],
   "source": [
    "assert acc > 0.85\n",
    "assert preds.shape == (114,)"
   ]
  },
  {
   "cell_type": "code",
   "execution_count": 16,
   "metadata": {},
   "outputs": [
    {
     "name": "stdout",
     "output_type": "stream",
     "text": [
      "{0: 'benign', 1: 'malignant'}\n"
     ]
    }
   ],
   "source": [
    "unique_v = np.unique(np.sort(y))\n",
    "labels = labelencoder.inverse_transform(unique_v)\n",
    "unique_v_labels = {k:v for k,v in zip(unique_v,labels)}\n",
    "\n",
    "print(unique_v_labels)"
   ]
  },
  {
   "cell_type": "code",
   "execution_count": 17,
   "metadata": {},
   "outputs": [
    {
     "data": {
      "image/png": "[encoded data removed]",
      "text/plain": [
       "<Figure size 432x288 with 2 Axes>"
      ]
     },
     "metadata": {
      "needs_background": "light"
     },
     "output_type": "display_data"
    }
   ],
   "source": [
    "conf=ConfusionMatrixDisplay.from_estimator(clf, x_test, y_test, display_labels=labels);"
   ]
  },
  {
   "cell_type": "markdown",
   "metadata": {},
   "source": [
    "***Everything is being classified into a single class! Use Grid Search to search for the best parameters! (Scikitlearn GridSearchCV)***\n"
   ]
  },
  {
   "cell_type": "code",
   "execution_count": 18,
   "metadata": {
    "deletable": false,
    "nbgrader": {
     "cell_type": "code",
     "checksum": "7dd11b913a692b6e6624cec433f96ddd",
     "grade": false,
     "grade_id": "cell-43d48d4bf75c556e",
     "locked": false,
     "schema_version": 3,
     "solution": true,
     "task": false
    }
   },
   "outputs": [],
   "source": [
    "# 2 points\n",
    "#Set parameters\n",
    "# the parameters should be in a dict format\n",
    "params = {'kernel':['linear','rbf'],\\\n",
    "    'gamma':np.arange(2**(-5),2**5,2)}\n",
    "params_more = {'kernel':['linear','rbf','poly','sigmoid'],\\\n",
    "    'C':np.arange(2**(-5),2**5,2),\\\n",
    "        'decision_function_shape':['ovr','ovo'],\\\n",
    "            'gamma':np.arange(2**(-5),2**5,2)}"
   ]
  },
  {
   "cell_type": "code",
   "execution_count": 19,
   "metadata": {
    "deletable": false,
    "editable": false,
    "nbgrader": {
     "cell_type": "code",
     "checksum": "b48b4a40a1b6ee6a26ddfb8dae8ddbc2",
     "grade": true,
     "grade_id": "cell-28a594d468d2e212",
     "locked": true,
     "points": 2,
     "schema_version": 3,
     "solution": false,
     "task": false
    }
   },
   "outputs": [],
   "source": [
    "assert len(params) == 2\n",
    "assert len(params['kernel']) == 2"
   ]
  },
  {
   "cell_type": "code",
   "execution_count": 20,
   "metadata": {
    "deletable": false,
    "nbgrader": {
     "cell_type": "code",
     "checksum": "b34bcd4223abf7d6e1b5ddf816870fad",
     "grade": false,
     "grade_id": "cell-8ac1a0df91772743",
     "locked": false,
     "schema_version": 3,
     "solution": true,
     "task": false
    }
   },
   "outputs": [
    {
     "name": "stdout",
     "output_type": "stream",
     "text": [
      "Best estimator found by grid search: SVC(gamma=0.03125)\n",
      "\n",
      "kernel:\trbf\n",
      "C:\t1.0\n",
      "Decision Function Shape:\tovr\n",
      "Gamma:\t0.03125\n",
      "\n",
      "Score:\t0.9735748792270531\n"
     ]
    }
   ],
   "source": [
    "#Fit grid (Note to self: first it runs the same loop with cross-validation to find the best parameter combination. Once it has the best combination, it runs fit again on all data passed to fit (without cross-validation), to built a single new model using the best parameter setting.)\n",
    "# 4 points\n",
    "# add an svm to the grid and train it\n",
    "# the SVM should be an untrained one\n",
    "# import if needed \n",
    "\n",
    "svc = svm.SVC()\n",
    "grid_clf = GridSearchCV(svc, params, cv=10)\n",
    "grid_clf.fit(x_train, y_train)\n",
    "\n",
    "model = grid_clf.best_estimator_\n",
    "print(\"Best estimator found by grid search: \"+str(model))\n",
    "\n",
    "print('\\nkernel:\\t'+model.kernel+'\\nC:\\t'+str(model.C)\\\n",
    "    +'\\nDecision Function Shape:\\t'+model.decision_function_shape\\\n",
    "        +'\\nGamma:\\t'+str(model.gamma))\n",
    "print(\"\\nScore:\\t\"+str(grid_clf.best_score_))"
   ]
  },
  {
   "cell_type": "code",
   "execution_count": 21,
   "metadata": {
    "deletable": false,
    "editable": false,
    "nbgrader": {
     "cell_type": "code",
     "checksum": "c355b61da5807573939dde9898177432",
     "grade": true,
     "grade_id": "cell-085b7fafdce47092",
     "locked": true,
     "points": 4,
     "schema_version": 3,
     "solution": false,
     "task": false
    }
   },
   "outputs": [],
   "source": [
    "dic = grid_clf.get_params(deep=False)\n",
    "assert type(dic['estimator']) == type(svm.SVC()) \n",
    "assert dic['pre_dispatch'] == '2*n_jobs'"
   ]
  },
  {
   "cell_type": "code",
   "execution_count": 22,
   "metadata": {},
   "outputs": [
    {
     "name": "stdout",
     "output_type": "stream",
     "text": [
      "{'mean_fit_time': array([0.00199959, 0.00249825, 0.00169802, 0.0094003 , 0.00180142,\n",
      "       0.00969529, 0.00170488, 0.01009548, 0.00180001, 0.0104007 ,\n",
      "       0.00150449, 0.01100621, 0.00170119, 0.01120963, 0.0016978 ,\n",
      "       0.01150172, 0.00159223, 0.01200345, 0.00150068, 0.01209478,\n",
      "       0.00169702, 0.01259785, 0.00159621, 0.01279578, 0.00181456,\n",
      "       0.01310399, 0.00170465, 0.01329379, 0.00170398, 0.01310234,\n",
      "       0.0019011 , 0.0132086 ]), 'std_fit_time': array([6.89887137e-06, 5.00366081e-04, 4.60763023e-04, 4.89166776e-04,\n",
      "       4.00224102e-04, 4.56778303e-04, 4.50734051e-04, 3.01850016e-04,\n",
      "       4.00026005e-04, 4.96305575e-04, 5.01664271e-04, 6.32171960e-04,\n",
      "       4.53901139e-04, 3.93464099e-04, 4.58337832e-04, 4.95891480e-04,\n",
      "       4.97690730e-04, 1.51479127e-05, 4.98556133e-04, 2.96590140e-04,\n",
      "       4.62331910e-04, 4.94493557e-04, 4.88709168e-04, 3.95978754e-04,\n",
      "       3.64017902e-04, 3.05738925e-04, 4.53482978e-04, 6.43119494e-04,\n",
      "       6.27088926e-04, 3.04894146e-04, 2.96367831e-04, 3.91050160e-04]), 'mean_score_time': array([0.00069993, 0.00061221, 0.00050154, 0.00220044, 0.00049953,\n",
      "       0.00240564, 0.00029371, 0.00270555, 0.00029712, 0.00259933,\n",
      "       0.00059834, 0.00259778, 0.00030017, 0.00269341, 0.00030358,\n",
      "       0.00280213, 0.00030675, 0.00280092, 0.00039921, 0.00290625,\n",
      "       0.00020185, 0.00290418, 0.00029998, 0.0030062 , 0.00028248,\n",
      "       0.00291412, 0.00029733, 0.00310645, 0.0003001 , 0.00319524,\n",
      "       0.00019953, 0.00299125]), 'std_score_time': array([4.58230573e-04, 5.00925591e-04, 5.01539594e-04, 4.01526746e-04,\n",
      "       4.99548974e-04, 4.95205858e-04, 4.48710017e-04, 4.62861674e-04,\n",
      "       4.53877566e-04, 4.85442021e-04, 4.88584641e-04, 4.89454685e-04,\n",
      "       4.58516158e-04, 4.52095066e-04, 4.63746201e-04, 3.89862408e-04,\n",
      "       4.68573699e-04, 3.95679670e-04, 4.88933348e-04, 2.96612817e-04,\n",
      "       4.03712867e-04, 2.97571240e-04, 4.58250046e-04, 1.12867718e-05,\n",
      "       4.34075328e-04, 3.17435085e-04, 4.54199451e-04, 2.98113756e-04,\n",
      "       4.58406727e-04, 4.00356774e-04, 3.99065107e-04, 2.55401389e-05]), 'param_gamma': masked_array(data=[0.03125, 0.03125, 2.03125, 2.03125, 4.03125, 4.03125,\n",
      "                   6.03125, 6.03125, 8.03125, 8.03125, 10.03125, 10.03125,\n",
      "                   12.03125, 12.03125, 14.03125, 14.03125, 16.03125,\n",
      "                   16.03125, 18.03125, 18.03125, 20.03125, 20.03125,\n",
      "                   22.03125, 22.03125, 24.03125, 24.03125, 26.03125,\n",
      "                   26.03125, 28.03125, 28.03125, 30.03125, 30.03125],\n",
      "             mask=[False, False, False, False, False, False, False, False,\n",
      "                   False, False, False, False, False, False, False, False,\n",
      "                   False, False, False, False, False, False, False, False,\n",
      "                   False, False, False, False, False, False, False, False],\n",
      "       fill_value='?',\n",
      "            dtype=object), 'param_kernel': masked_array(data=['linear', 'rbf', 'linear', 'rbf', 'linear', 'rbf',\n",
      "                   'linear', 'rbf', 'linear', 'rbf', 'linear', 'rbf',\n",
      "                   'linear', 'rbf', 'linear', 'rbf', 'linear', 'rbf',\n",
      "                   'linear', 'rbf', 'linear', 'rbf', 'linear', 'rbf',\n",
      "                   'linear', 'rbf', 'linear', 'rbf', 'linear', 'rbf',\n",
      "                   'linear', 'rbf'],\n",
      "             mask=[False, False, False, False, False, False, False, False,\n",
      "                   False, False, False, False, False, False, False, False,\n",
      "                   False, False, False, False, False, False, False, False,\n",
      "                   False, False, False, False, False, False, False, False],\n",
      "       fill_value='?',\n",
      "            dtype=object), 'params': [{'gamma': 0.03125, 'kernel': 'linear'}, {'gamma': 0.03125, 'kernel': 'rbf'}, {'gamma': 2.03125, 'kernel': 'linear'}, {'gamma': 2.03125, 'kernel': 'rbf'}, {'gamma': 4.03125, 'kernel': 'linear'}, {'gamma': 4.03125, 'kernel': 'rbf'}, {'gamma': 6.03125, 'kernel': 'linear'}, {'gamma': 6.03125, 'kernel': 'rbf'}, {'gamma': 8.03125, 'kernel': 'linear'}, {'gamma': 8.03125, 'kernel': 'rbf'}, {'gamma': 10.03125, 'kernel': 'linear'}, {'gamma': 10.03125, 'kernel': 'rbf'}, {'gamma': 12.03125, 'kernel': 'linear'}, {'gamma': 12.03125, 'kernel': 'rbf'}, {'gamma': 14.03125, 'kernel': 'linear'}, {'gamma': 14.03125, 'kernel': 'rbf'}, {'gamma': 16.03125, 'kernel': 'linear'}, {'gamma': 16.03125, 'kernel': 'rbf'}, {'gamma': 18.03125, 'kernel': 'linear'}, {'gamma': 18.03125, 'kernel': 'rbf'}, {'gamma': 20.03125, 'kernel': 'linear'}, {'gamma': 20.03125, 'kernel': 'rbf'}, {'gamma': 22.03125, 'kernel': 'linear'}, {'gamma': 22.03125, 'kernel': 'rbf'}, {'gamma': 24.03125, 'kernel': 'linear'}, {'gamma': 24.03125, 'kernel': 'rbf'}, {'gamma': 26.03125, 'kernel': 'linear'}, {'gamma': 26.03125, 'kernel': 'rbf'}, {'gamma': 28.03125, 'kernel': 'linear'}, {'gamma': 28.03125, 'kernel': 'rbf'}, {'gamma': 30.03125, 'kernel': 'linear'}, {'gamma': 30.03125, 'kernel': 'rbf'}], 'split0_test_score': array([0.97826087, 0.97826087, 0.97826087, 0.63043478, 0.97826087,\n",
      "       0.63043478, 0.97826087, 0.63043478, 0.97826087, 0.63043478,\n",
      "       0.97826087, 0.63043478, 0.97826087, 0.63043478, 0.97826087,\n",
      "       0.63043478, 0.97826087, 0.63043478, 0.97826087, 0.63043478,\n",
      "       0.97826087, 0.63043478, 0.97826087, 0.63043478, 0.97826087,\n",
      "       0.63043478, 0.97826087, 0.63043478, 0.97826087, 0.63043478,\n",
      "       0.97826087, 0.63043478]), 'split1_test_score': array([1.        , 0.97826087, 1.        , 0.63043478, 1.        ,\n",
      "       0.63043478, 1.        , 0.63043478, 1.        , 0.63043478,\n",
      "       1.        , 0.63043478, 1.        , 0.63043478, 1.        ,\n",
      "       0.63043478, 1.        , 0.63043478, 1.        , 0.63043478,\n",
      "       1.        , 0.63043478, 1.        , 0.63043478, 1.        ,\n",
      "       0.63043478, 1.        , 0.63043478, 1.        , 0.63043478,\n",
      "       1.        , 0.63043478]), 'split2_test_score': array([0.97826087, 1.        , 0.97826087, 0.63043478, 0.97826087,\n",
      "       0.63043478, 0.97826087, 0.63043478, 0.97826087, 0.63043478,\n",
      "       0.97826087, 0.63043478, 0.97826087, 0.63043478, 0.97826087,\n",
      "       0.63043478, 0.97826087, 0.63043478, 0.97826087, 0.63043478,\n",
      "       0.97826087, 0.63043478, 0.97826087, 0.63043478, 0.97826087,\n",
      "       0.63043478, 0.97826087, 0.63043478, 0.97826087, 0.63043478,\n",
      "       0.97826087, 0.63043478]), 'split3_test_score': array([0.95652174, 0.95652174, 0.95652174, 0.63043478, 0.95652174,\n",
      "       0.63043478, 0.95652174, 0.63043478, 0.95652174, 0.63043478,\n",
      "       0.95652174, 0.63043478, 0.95652174, 0.63043478, 0.95652174,\n",
      "       0.63043478, 0.95652174, 0.63043478, 0.95652174, 0.63043478,\n",
      "       0.95652174, 0.63043478, 0.95652174, 0.63043478, 0.95652174,\n",
      "       0.63043478, 0.95652174, 0.63043478, 0.95652174, 0.63043478,\n",
      "       0.95652174, 0.63043478]), 'split4_test_score': array([1.        , 0.97826087, 1.        , 0.63043478, 1.        ,\n",
      "       0.63043478, 1.        , 0.63043478, 1.        , 0.63043478,\n",
      "       1.        , 0.63043478, 1.        , 0.63043478, 1.        ,\n",
      "       0.63043478, 1.        , 0.63043478, 1.        , 0.63043478,\n",
      "       1.        , 0.63043478, 1.        , 0.63043478, 1.        ,\n",
      "       0.63043478, 1.        , 0.63043478, 1.        , 0.63043478,\n",
      "       1.        , 0.63043478]), 'split5_test_score': array([0.95555556, 0.95555556, 0.95555556, 0.62222222, 0.95555556,\n",
      "       0.62222222, 0.95555556, 0.62222222, 0.95555556, 0.62222222,\n",
      "       0.95555556, 0.62222222, 0.95555556, 0.62222222, 0.95555556,\n",
      "       0.62222222, 0.95555556, 0.62222222, 0.95555556, 0.62222222,\n",
      "       0.95555556, 0.62222222, 0.95555556, 0.62222222, 0.95555556,\n",
      "       0.62222222, 0.95555556, 0.62222222, 0.95555556, 0.62222222,\n",
      "       0.95555556, 0.62222222]), 'split6_test_score': array([1.        , 0.97777778, 1.        , 0.62222222, 1.        ,\n",
      "       0.62222222, 1.        , 0.62222222, 1.        , 0.62222222,\n",
      "       1.        , 0.62222222, 1.        , 0.62222222, 1.        ,\n",
      "       0.62222222, 1.        , 0.62222222, 1.        , 0.62222222,\n",
      "       1.        , 0.62222222, 1.        , 0.62222222, 1.        ,\n",
      "       0.62222222, 1.        , 0.62222222, 1.        , 0.62222222,\n",
      "       1.        , 0.62222222]), 'split7_test_score': array([0.93333333, 0.91111111, 0.93333333, 0.62222222, 0.93333333,\n",
      "       0.62222222, 0.93333333, 0.62222222, 0.93333333, 0.62222222,\n",
      "       0.93333333, 0.62222222, 0.93333333, 0.62222222, 0.93333333,\n",
      "       0.62222222, 0.93333333, 0.62222222, 0.93333333, 0.62222222,\n",
      "       0.93333333, 0.62222222, 0.93333333, 0.62222222, 0.93333333,\n",
      "       0.62222222, 0.93333333, 0.62222222, 0.93333333, 0.62222222,\n",
      "       0.93333333, 0.62222222]), 'split8_test_score': array([0.95555556, 1.        , 0.95555556, 0.62222222, 0.95555556,\n",
      "       0.62222222, 0.95555556, 0.62222222, 0.95555556, 0.62222222,\n",
      "       0.95555556, 0.62222222, 0.95555556, 0.62222222, 0.95555556,\n",
      "       0.62222222, 0.95555556, 0.62222222, 0.95555556, 0.62222222,\n",
      "       0.95555556, 0.62222222, 0.95555556, 0.62222222, 0.95555556,\n",
      "       0.62222222, 0.95555556, 0.62222222, 0.95555556, 0.62222222,\n",
      "       0.95555556, 0.62222222]), 'split9_test_score': array([0.97777778, 1.        , 0.97777778, 0.62222222, 0.97777778,\n",
      "       0.62222222, 0.97777778, 0.62222222, 0.97777778, 0.62222222,\n",
      "       0.97777778, 0.62222222, 0.97777778, 0.62222222, 0.97777778,\n",
      "       0.62222222, 0.97777778, 0.62222222, 0.97777778, 0.62222222,\n",
      "       0.97777778, 0.62222222, 0.97777778, 0.62222222, 0.97777778,\n",
      "       0.62222222, 0.97777778, 0.62222222, 0.97777778, 0.62222222,\n",
      "       0.97777778, 0.62222222]), 'mean_test_score': array([0.97352657, 0.97357488, 0.97352657, 0.6263285 , 0.97352657,\n",
      "       0.6263285 , 0.97352657, 0.6263285 , 0.97352657, 0.6263285 ,\n",
      "       0.97352657, 0.6263285 , 0.97352657, 0.6263285 , 0.97352657,\n",
      "       0.6263285 , 0.97352657, 0.6263285 , 0.97352657, 0.6263285 ,\n",
      "       0.97352657, 0.6263285 , 0.97352657, 0.6263285 , 0.97352657,\n",
      "       0.6263285 , 0.97352657, 0.6263285 , 0.97352657, 0.6263285 ,\n",
      "       0.97352657, 0.6263285 ]), 'std_test_score': array([0.02171636, 0.02587591, 0.02171636, 0.00410628, 0.02171636,\n",
      "       0.00410628, 0.02171636, 0.00410628, 0.02171636, 0.00410628,\n",
      "       0.02171636, 0.00410628, 0.02171636, 0.00410628, 0.02171636,\n",
      "       0.00410628, 0.02171636, 0.00410628, 0.02171636, 0.00410628,\n",
      "       0.02171636, 0.00410628, 0.02171636, 0.00410628, 0.02171636,\n",
      "       0.00410628, 0.02171636, 0.00410628, 0.02171636, 0.00410628,\n",
      "       0.02171636, 0.00410628]), 'rank_test_score': array([ 2,  1,  2, 18,  2, 18,  2, 18,  2, 18,  2, 18,  2, 18,  2, 18,  2,\n",
      "       18,  2, 18,  2, 18,  2, 18,  2, 18,  2, 18,  2, 18,  2, 18])}\n"
     ]
    }
   ],
   "source": [
    "allscores=grid_clf.cv_results_#['mean_test_score'],['params']\n",
    "print(allscores)\n"
   ]
  },
  {
   "cell_type": "code",
   "execution_count": 23,
   "metadata": {
    "deletable": false,
    "nbgrader": {
     "cell_type": "code",
     "checksum": "6a0e3bb3286e365f506de53466056669",
     "grade": false,
     "grade_id": "cell-7901a09d1a9092ac",
     "locked": false,
     "schema_version": 3,
     "solution": true,
     "task": false
    }
   },
   "outputs": [
    {
     "name": "stdout",
     "output_type": "stream",
     "text": [
      "[{'gamma': 0.03125, 'kernel': 'rbf'}, {'gamma': 0.03125, 'kernel': 'linear'}, {'gamma': 22.03125, 'kernel': 'linear'}, {'gamma': 16.03125, 'kernel': 'linear'}, {'gamma': 8.03125, 'kernel': 'linear'}, {'gamma': 18.03125, 'kernel': 'linear'}, {'gamma': 6.03125, 'kernel': 'linear'}, {'gamma': 20.03125, 'kernel': 'linear'}, {'gamma': 10.03125, 'kernel': 'linear'}, {'gamma': 4.03125, 'kernel': 'linear'}, {'gamma': 14.03125, 'kernel': 'linear'}, {'gamma': 24.03125, 'kernel': 'linear'}, {'gamma': 12.03125, 'kernel': 'linear'}, {'gamma': 26.03125, 'kernel': 'linear'}, {'gamma': 2.03125, 'kernel': 'linear'}, {'gamma': 28.03125, 'kernel': 'linear'}, {'gamma': 30.03125, 'kernel': 'linear'}, {'gamma': 4.03125, 'kernel': 'rbf'}, {'gamma': 6.03125, 'kernel': 'rbf'}, {'gamma': 2.03125, 'kernel': 'rbf'}, {'gamma': 8.03125, 'kernel': 'rbf'}, {'gamma': 30.03125, 'kernel': 'rbf'}, {'gamma': 10.03125, 'kernel': 'rbf'}, {'gamma': 12.03125, 'kernel': 'rbf'}, {'gamma': 16.03125, 'kernel': 'rbf'}, {'gamma': 18.03125, 'kernel': 'rbf'}, {'gamma': 20.03125, 'kernel': 'rbf'}, {'gamma': 22.03125, 'kernel': 'rbf'}, {'gamma': 24.03125, 'kernel': 'rbf'}, {'gamma': 26.03125, 'kernel': 'rbf'}, {'gamma': 28.03125, 'kernel': 'rbf'}, {'gamma': 14.03125, 'kernel': 'rbf'}]\n"
     ]
    }
   ],
   "source": [
    "# 2 point\n",
    "#Get in a list the best parameters of the grid\n",
    "#output python list with the best parameters sorted\n",
    "\n",
    "mean_scores = grid_clf.cv_results_['mean_test_score']\n",
    "params = np.array(grid_clf.cv_results_['params'])\n",
    "\n",
    "ids = np.argsort(mean_scores)[::-1]\n",
    "best_params = list(params[ids])\n",
    "print(best_params)\n"
   ]
  },
  {
   "cell_type": "code",
   "execution_count": 24,
   "metadata": {
    "deletable": false,
    "editable": false,
    "nbgrader": {
     "cell_type": "code",
     "checksum": "6b15f373798ee92b146a793df76afc20",
     "grade": true,
     "grade_id": "cell-99bb42084e0ae89b",
     "locked": true,
     "points": 2,
     "schema_version": 3,
     "solution": false,
     "task": false
    }
   },
   "outputs": [
    {
     "ename": "AssertionError",
     "evalue": "",
     "output_type": "error",
     "traceback": [
      "\u001b[1;31m---------------------------------------------------------------------------\u001b[0m",
      "\u001b[1;31mAssertionError\u001b[0m                            Traceback (most recent call last)",
      "\u001b[1;32m~\\AppData\\Local\\Temp/ipykernel_8676/2740201112.py\u001b[0m in \u001b[0;36m<module>\u001b[1;34m\u001b[0m\n\u001b[1;32m----> 1\u001b[1;33m \u001b[1;32massert\u001b[0m \u001b[0mbest_params\u001b[0m\u001b[1;33m[\u001b[0m\u001b[1;36m0\u001b[0m\u001b[1;33m]\u001b[0m \u001b[1;33m==\u001b[0m \u001b[1;34m'mean_fit_time'\u001b[0m\u001b[1;33m\u001b[0m\u001b[1;33m\u001b[0m\u001b[0m\n\u001b[0m\u001b[0;32m      2\u001b[0m \u001b[1;32massert\u001b[0m \u001b[0mbest_params\u001b[0m\u001b[1;33m[\u001b[0m\u001b[1;36m1\u001b[0m\u001b[1;33m]\u001b[0m \u001b[1;33m==\u001b[0m \u001b[1;34m'mean_score_time'\u001b[0m\u001b[1;33m\u001b[0m\u001b[1;33m\u001b[0m\u001b[0m\n\u001b[0;32m      3\u001b[0m \u001b[1;32massert\u001b[0m \u001b[0mbest_params\u001b[0m\u001b[1;33m[\u001b[0m\u001b[1;36m2\u001b[0m\u001b[1;33m]\u001b[0m \u001b[1;33m==\u001b[0m \u001b[1;34m'mean_test_score'\u001b[0m\u001b[1;33m\u001b[0m\u001b[1;33m\u001b[0m\u001b[0m\n\u001b[0;32m      4\u001b[0m \u001b[1;32massert\u001b[0m \u001b[0mbest_params\u001b[0m\u001b[1;33m[\u001b[0m\u001b[1;36m3\u001b[0m\u001b[1;33m]\u001b[0m \u001b[1;33m==\u001b[0m \u001b[1;34m'param_C'\u001b[0m\u001b[1;33m\u001b[0m\u001b[1;33m\u001b[0m\u001b[0m\n",
      "\u001b[1;31mAssertionError\u001b[0m: "
     ]
    }
   ],
   "source": [
    "assert best_params[0] == 'mean_fit_time'\n",
    "assert best_params[1] == 'mean_score_time'\n",
    "assert best_params[2] == 'mean_test_score'\n",
    "assert best_params[3] == 'param_C'"
   ]
  },
  {
   "cell_type": "code",
   "execution_count": 25,
   "metadata": {
    "deletable": false,
    "nbgrader": {
     "cell_type": "code",
     "checksum": "f5f35e8e0e3b90b78340b70c06f0e22c",
     "grade": false,
     "grade_id": "cell-4eb30db85584892f",
     "locked": false,
     "schema_version": 3,
     "solution": true,
     "task": false
    }
   },
   "outputs": [
    {
     "data": {
      "text/plain": [
       "0.956140350877193"
      ]
     },
     "execution_count": 25,
     "metadata": {},
     "output_type": "execute_result"
    }
   ],
   "source": [
    "# 5 points\n",
    "# predict the testing set and get the accuracy\n",
    "# accuracy as always will be between 0 and 1\n",
    "\n",
    "model = grid_clf.best_estimator_\n",
    "\n",
    "preds = model.predict(x_test)\n",
    "acc = model.score(x_test,y_test)\n",
    "acc"
   ]
  },
  {
   "cell_type": "code",
   "execution_count": 26,
   "metadata": {
    "deletable": false,
    "editable": false,
    "nbgrader": {
     "cell_type": "code",
     "checksum": "9870d53db4a71a0a69320553c7214f90",
     "grade": true,
     "grade_id": "cell-67663369ff5f55b0",
     "locked": true,
     "points": 5,
     "schema_version": 3,
     "solution": false,
     "task": false
    }
   },
   "outputs": [],
   "source": [
    "assert acc > 0.92\n",
    "assert preds[preds.argmax()] == 1\n",
    "assert preds.shape == (114,)"
   ]
  },
  {
   "cell_type": "code",
   "execution_count": 27,
   "metadata": {
    "deletable": false,
    "nbgrader": {
     "cell_type": "code",
     "checksum": "cf88a2c6b956eb7d60df33fd6b851528",
     "grade": false,
     "grade_id": "cell-b467b5e84dfff2d3",
     "locked": false,
     "schema_version": 3,
     "solution": true,
     "task": false
    }
   },
   "outputs": [
    {
     "data": {
      "image/png": "[encoded data removed]",
      "text/plain": [
       "<Figure size 432x288 with 2 Axes>"
      ]
     },
     "metadata": {
      "needs_background": "light"
     },
     "output_type": "display_data"
    }
   ],
   "source": [
    "# 3 points\n",
    "# get the confusion matrix\n",
    "#import if needed\n",
    "\n",
    "conf=ConfusionMatrixDisplay.from_estimator(model, x_test, y_test, display_labels=labels);\n",
    "conf_mat = conf.confusion_matrix"
   ]
  },
  {
   "cell_type": "code",
   "execution_count": 28,
   "metadata": {
    "deletable": false,
    "editable": false,
    "nbgrader": {
     "cell_type": "code",
     "checksum": "6d7ae4ae61f3f14f88e216eb4666e4df",
     "grade": true,
     "grade_id": "cell-fd7017a6eb94325a",
     "locked": true,
     "points": 3,
     "schema_version": 3,
     "solution": false,
     "task": false
    }
   },
   "outputs": [],
   "source": [
    "assert conf_mat.shape == (2,2)\n",
    "assert conf_mat[0][1] < 7\n",
    "assert conf_mat[1][0] < 3\n"
   ]
  },
  {
   "cell_type": "markdown",
   "metadata": {},
   "source": [
    "# Discussion of results"
   ]
  },
  {
   "cell_type": "code",
   "execution_count": null,
   "metadata": {},
   "outputs": [],
   "source": []
  }
 ],
 "metadata": {
  "interpreter": {
   "hash": "2f9376a53bea67c1ed5cf17fe4a618ec842560647dcd0f876afebe1c5f60995f"
  },
  "kernelspec": {
   "display_name": "Python 3.8.11 64-bit ('strive': conda)",
   "name": "python3"
  },
  "language_info": {
   "codemirror_mode": {
    "name": "ipython",
    "version": 3
   },
   "file_extension": ".py",
   "mimetype": "text/x-python",
   "name": "python",
   "nbconvert_exporter": "python",
   "pygments_lexer": "ipython3",
   "version": "3.8.11"
  }
 },
 "nbformat": 4,
 "nbformat_minor": 2
}
