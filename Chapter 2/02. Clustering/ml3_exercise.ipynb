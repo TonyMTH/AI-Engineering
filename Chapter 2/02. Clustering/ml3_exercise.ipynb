{
  "cells": [
    {
      "cell_type": "markdown",
      "metadata": {
        "id": "7yoAeqZtaBmp",
        "nbgrader": {
          "grade": false,
          "grade_id": "cell-33d26828be6e1038",
          "locked": true,
          "schema_version": 3,
          "solution": false,
          "task": false
        }
      },
      "source": [
        "# Exercise 10: Hierarchical clustering of the grain data\n",
        "\n",
        "In the video, you learnt that the SciPy `linkage()` function performs hierarchical clustering on an array of samples.  Use the `linkage()` function to obtain a hierarchical clustering of the grain samples, and use `dendrogram()` to visualize the result.  A sample of the grain measurements is provided in the array `samples`, while the variety of each grain sample is given by the list `varieties`.\n"
      ]
    },
    {
      "cell_type": "markdown",
      "metadata": {
        "id": "mk3dxh5naBmt",
        "nbgrader": {
          "grade": false,
          "grade_id": "cell-f184e018b98e7d52",
          "locked": true,
          "schema_version": 3,
          "solution": false,
          "task": false
        }
      },
      "source": [
        "**Step 1:** Import:\n",
        "\n",
        " + `linkage` and `dendrogram` from `scipy.cluster.hierarchy`.\n",
        " + `matplotlib.pyplot` as `plt`.\n",
        " + `pandas`\n",
        " + `load_iris` and `train_test_split`"
      ]
    },
    {
      "cell_type": "code",
      "execution_count": 1,
      "metadata": {
        "id": "ciFPMqPgaBmv"
      },
      "outputs": [],
      "source": [
        "import numpy as np\n",
        "from scipy.cluster.hierarchy import linkage, dendrogram\n",
        "import matplotlib.pyplot as plt\n",
        "import pandas as pd\n",
        "from sklearn.model_selection import train_test_split\n",
        "from sklearn.datasets import load_iris\n",
        "\n"
      ]
    },
    {
      "cell_type": "markdown",
      "metadata": {
        "id": "zSW_vygVaBmw",
        "nbgrader": {
          "grade": false,
          "grade_id": "cell-5d407d7746dba37b",
          "locked": true,
          "schema_version": 3,
          "solution": false,
          "task": false
        }
      },
      "source": [
        "**Step 2:** Load the dataset _(done for you)_."
      ]
    },
    {
      "cell_type": "code",
      "execution_count": 2,
      "metadata": {
        "exercise": false,
        "id": "nWePNZPAaBmx"
      },
      "outputs": [],
      "source": [
        "\n",
        "iris_data = load_iris()\n"
      ]
    },
    {
      "cell_type": "code",
      "execution_count": 3,
      "metadata": {
        "id": "XqQDLv8DaBmx",
        "nbgrader": {
          "grade": false,
          "grade_id": "cell-5b5863d4b8ed6db7",
          "locked": false,
          "schema_version": 3,
          "solution": true,
          "task": false
        }
      },
      "outputs": [
        {
          "name": "stdout",
          "output_type": "stream",
          "text": [
            "   sepal length  sepal width  petal length  petal width  target   class\n",
            "0           5.1          3.5           1.4          0.2       0  setosa\n",
            "1           4.9          3.0           1.4          0.2       0  setosa\n"
          ]
        }
      ],
      "source": [
        "#Create pd DF the same way you did the first day\n",
        "#Create the class and target columns and remove de cm from the columns names\n",
        "\n",
        "def flatten(t):\n",
        "    return [item for sublist in t for item in sublist]\n",
        "    \n",
        "def create_df():\n",
        "    columns_names = [f.split('(')[0].strip() for f in iris_data.feature_names]\n",
        "    columns_names.extend(['target','class'])\n",
        "    data_values = [flatten([f, [iris_data.target[id],iris_data.target_names[iris_data.target[id]]]]) for id,f in enumerate(iris_data.data)]\n",
        "    return pd.DataFrame(data_values,columns=columns_names)#\n",
        "    \n",
        "df_iris = create_df()\n",
        "print(df_iris.head(2))\n"
      ]
    },
    {
      "cell_type": "code",
      "execution_count": 4,
      "metadata": {
        "id": "PH4R0XYLaBmz",
        "nbgrader": {
          "grade": true,
          "grade_id": "cell-632fd0e11b776633",
          "locked": true,
          "points": 2,
          "schema_version": 3,
          "solution": false,
          "task": false
        }
      },
      "outputs": [],
      "source": [
        "assert df_iris['sepal length'].shape == (150,)\n",
        "assert df_iris['sepal width'].shape == (150,)\n",
        "assert df_iris['petal length'].shape == (150,)\n",
        "assert df_iris['petal width'].shape == (150,)\n",
        "assert df_iris['target'].shape == (150,)\n",
        "assert df_iris['class'].shape == (150,)"
      ]
    },
    {
      "cell_type": "code",
      "execution_count": 5,
      "metadata": {
        "id": "EWzr4u11aBmz",
        "nbgrader": {
          "grade": false,
          "grade_id": "cell-1b1da2fc006dd2f6",
          "locked": false,
          "schema_version": 3,
          "solution": true,
          "task": false
        }
      },
      "outputs": [
        {
          "name": "stdout",
          "output_type": "stream",
          "text": [
            "[[5.1 3.5 1.4 0.2]\n",
            " [4.9 3.  1.4 0.2]\n",
            " [4.7 3.2 1.3 0.2]\n",
            " [4.6 3.1 1.5 0.2]\n",
            " [5.  3.6 1.4 0.2]\n",
            " [5.4 3.9 1.7 0.4]\n",
            " [4.6 3.4 1.4 0.3]\n",
            " [5.  3.4 1.5 0.2]\n",
            " [4.4 2.9 1.4 0.2]\n",
            " [4.9 3.1 1.5 0.1]\n",
            " [5.4 3.7 1.5 0.2]\n",
            " [4.8 3.4 1.6 0.2]\n",
            " [4.8 3.  1.4 0.1]\n",
            " [4.3 3.  1.1 0.1]\n",
            " [5.8 4.  1.2 0.2]\n",
            " [5.7 4.4 1.5 0.4]\n",
            " [5.4 3.9 1.3 0.4]\n",
            " [5.1 3.5 1.4 0.3]\n",
            " [5.7 3.8 1.7 0.3]\n",
            " [5.1 3.8 1.5 0.3]\n",
            " [5.4 3.4 1.7 0.2]\n",
            " [5.1 3.7 1.5 0.4]\n",
            " [4.6 3.6 1.  0.2]\n",
            " [5.1 3.3 1.7 0.5]\n",
            " [4.8 3.4 1.9 0.2]\n",
            " [5.  3.  1.6 0.2]\n",
            " [5.  3.4 1.6 0.4]\n",
            " [5.2 3.5 1.5 0.2]\n",
            " [5.2 3.4 1.4 0.2]\n",
            " [4.7 3.2 1.6 0.2]\n",
            " [4.8 3.1 1.6 0.2]\n",
            " [5.4 3.4 1.5 0.4]\n",
            " [5.2 4.1 1.5 0.1]\n",
            " [5.5 4.2 1.4 0.2]\n",
            " [4.9 3.1 1.5 0.2]\n",
            " [5.  3.2 1.2 0.2]\n",
            " [5.5 3.5 1.3 0.2]\n",
            " [4.9 3.6 1.4 0.1]\n",
            " [4.4 3.  1.3 0.2]\n",
            " [5.1 3.4 1.5 0.2]\n",
            " [5.  3.5 1.3 0.3]\n",
            " [4.5 2.3 1.3 0.3]\n",
            " [4.4 3.2 1.3 0.2]\n",
            " [5.  3.5 1.6 0.6]\n",
            " [5.1 3.8 1.9 0.4]\n",
            " [4.8 3.  1.4 0.3]\n",
            " [5.1 3.8 1.6 0.2]\n",
            " [4.6 3.2 1.4 0.2]\n",
            " [5.3 3.7 1.5 0.2]\n",
            " [5.  3.3 1.4 0.2]\n",
            " [7.  3.2 4.7 1.4]\n",
            " [6.4 3.2 4.5 1.5]\n",
            " [6.9 3.1 4.9 1.5]\n",
            " [5.5 2.3 4.  1.3]\n",
            " [6.5 2.8 4.6 1.5]\n",
            " [5.7 2.8 4.5 1.3]\n",
            " [6.3 3.3 4.7 1.6]\n",
            " [4.9 2.4 3.3 1. ]\n",
            " [6.6 2.9 4.6 1.3]\n",
            " [5.2 2.7 3.9 1.4]\n",
            " [5.  2.  3.5 1. ]\n",
            " [5.9 3.  4.2 1.5]\n",
            " [6.  2.2 4.  1. ]\n",
            " [6.1 2.9 4.7 1.4]\n",
            " [5.6 2.9 3.6 1.3]\n",
            " [6.7 3.1 4.4 1.4]\n",
            " [5.6 3.  4.5 1.5]\n",
            " [5.8 2.7 4.1 1. ]\n",
            " [6.2 2.2 4.5 1.5]\n",
            " [5.6 2.5 3.9 1.1]\n",
            " [5.9 3.2 4.8 1.8]\n",
            " [6.1 2.8 4.  1.3]\n",
            " [6.3 2.5 4.9 1.5]\n",
            " [6.1 2.8 4.7 1.2]\n",
            " [6.4 2.9 4.3 1.3]\n",
            " [6.6 3.  4.4 1.4]\n",
            " [6.8 2.8 4.8 1.4]\n",
            " [6.7 3.  5.  1.7]\n",
            " [6.  2.9 4.5 1.5]\n",
            " [5.7 2.6 3.5 1. ]\n",
            " [5.5 2.4 3.8 1.1]\n",
            " [5.5 2.4 3.7 1. ]\n",
            " [5.8 2.7 3.9 1.2]\n",
            " [6.  2.7 5.1 1.6]\n",
            " [5.4 3.  4.5 1.5]\n",
            " [6.  3.4 4.5 1.6]\n",
            " [6.7 3.1 4.7 1.5]\n",
            " [6.3 2.3 4.4 1.3]\n",
            " [5.6 3.  4.1 1.3]\n",
            " [5.5 2.5 4.  1.3]\n",
            " [5.5 2.6 4.4 1.2]\n",
            " [6.1 3.  4.6 1.4]\n",
            " [5.8 2.6 4.  1.2]\n",
            " [5.  2.3 3.3 1. ]\n",
            " [5.6 2.7 4.2 1.3]\n",
            " [5.7 3.  4.2 1.2]\n",
            " [5.7 2.9 4.2 1.3]\n",
            " [6.2 2.9 4.3 1.3]\n",
            " [5.1 2.5 3.  1.1]\n",
            " [5.7 2.8 4.1 1.3]\n",
            " [6.3 3.3 6.  2.5]\n",
            " [5.8 2.7 5.1 1.9]\n",
            " [7.1 3.  5.9 2.1]\n",
            " [6.3 2.9 5.6 1.8]\n",
            " [6.5 3.  5.8 2.2]\n",
            " [7.6 3.  6.6 2.1]\n",
            " [4.9 2.5 4.5 1.7]\n",
            " [7.3 2.9 6.3 1.8]\n",
            " [6.7 2.5 5.8 1.8]\n",
            " [7.2 3.6 6.1 2.5]\n",
            " [6.5 3.2 5.1 2. ]\n",
            " [6.4 2.7 5.3 1.9]\n",
            " [6.8 3.  5.5 2.1]\n",
            " [5.7 2.5 5.  2. ]\n",
            " [5.8 2.8 5.1 2.4]\n",
            " [6.4 3.2 5.3 2.3]\n",
            " [6.5 3.  5.5 1.8]\n",
            " [7.7 3.8 6.7 2.2]\n",
            " [7.7 2.6 6.9 2.3]\n",
            " [6.  2.2 5.  1.5]\n",
            " [6.9 3.2 5.7 2.3]\n",
            " [5.6 2.8 4.9 2. ]\n",
            " [7.7 2.8 6.7 2. ]\n",
            " [6.3 2.7 4.9 1.8]\n",
            " [6.7 3.3 5.7 2.1]\n",
            " [7.2 3.2 6.  1.8]\n",
            " [6.2 2.8 4.8 1.8]\n",
            " [6.1 3.  4.9 1.8]\n",
            " [6.4 2.8 5.6 2.1]\n",
            " [7.2 3.  5.8 1.6]\n",
            " [7.4 2.8 6.1 1.9]\n",
            " [7.9 3.8 6.4 2. ]\n",
            " [6.4 2.8 5.6 2.2]\n",
            " [6.3 2.8 5.1 1.5]\n",
            " [6.1 2.6 5.6 1.4]\n",
            " [7.7 3.  6.1 2.3]\n",
            " [6.3 3.4 5.6 2.4]\n",
            " [6.4 3.1 5.5 1.8]\n",
            " [6.  3.  4.8 1.8]\n",
            " [6.9 3.1 5.4 2.1]\n",
            " [6.7 3.1 5.6 2.4]\n",
            " [6.9 3.1 5.1 2.3]\n",
            " [5.8 2.7 5.1 1.9]\n",
            " [6.8 3.2 5.9 2.3]\n",
            " [6.7 3.3 5.7 2.5]\n",
            " [6.7 3.  5.2 2.3]\n",
            " [6.3 2.5 5.  1.9]\n",
            " [6.5 3.  5.2 2. ]\n",
            " [6.2 3.4 5.4 2.3]\n",
            " [5.9 3.  5.1 1.8]]\n"
          ]
        }
      ],
      "source": [
        "\n",
        "#From our data we will only get variable columns as np.array\n",
        "\n",
        "x = df_iris.drop(['target','class'],axis=1).values\n",
        "print(x)"
      ]
    },
    {
      "cell_type": "code",
      "execution_count": 6,
      "metadata": {
        "id": "RPpXTyW6aBmz",
        "nbgrader": {
          "grade": true,
          "grade_id": "cell-81d6796d99e92aa3",
          "locked": true,
          "points": 0,
          "schema_version": 3,
          "solution": false,
          "task": false
        }
      },
      "outputs": [],
      "source": [
        "assert x.shape == (150,4)"
      ]
    },
    {
      "cell_type": "markdown",
      "metadata": {
        "id": "SkdaAzsqaBm0"
      },
      "source": [
        "**Step 3:** Perform hierarchical clustering on `samples` using the `linkage()` function with the `method='complete'` keyword argument. Assign the result to `mergings`."
      ]
    },
    {
      "cell_type": "code",
      "execution_count": 7,
      "metadata": {
        "id": "AlmrTMz2aBm0",
        "nbgrader": {
          "grade": false,
          "grade_id": "cell-2a4681a4e740a6fe",
          "locked": false,
          "schema_version": 3,
          "solution": true,
          "task": false
        },
        "outputId": "50af95a8-4ab9-45ea-f541-0e3d0cb42772"
      },
      "outputs": [],
      "source": [
        "mergings = linkage(x, method='complete', metric='euclidean', optimal_ordering=False)"
      ]
    },
    {
      "cell_type": "code",
      "execution_count": 8,
      "metadata": {
        "id": "r6MiksWRaBm1",
        "nbgrader": {
          "grade": true,
          "grade_id": "cell-bd07f2be641ae1c5",
          "locked": true,
          "points": 3,
          "schema_version": 3,
          "solution": false,
          "task": false
        }
      },
      "outputs": [],
      "source": [
        "assert mergings.shape == (149,4)"
      ]
    },
    {
      "cell_type": "markdown",
      "metadata": {
        "id": "vklGk2QRaBm1",
        "nbgrader": {
          "grade": false,
          "grade_id": "cell-e0502f3d32a027c4",
          "locked": true,
          "schema_version": 3,
          "solution": false,
          "task": false
        }
      },
      "source": [
        "**Step 4:** Plot a dendrogram using the `dendrogram()` function on `mergings`, specifying the keyword arguments `labels=varieties`, `leaf_rotation=90`, and `leaf_font_size=6`.  Remember to call `plt.show()` afterwards, to display your plot."
      ]
    },
    {
      "cell_type": "code",
      "execution_count": 9,
      "metadata": {},
      "outputs": [
        {
          "data": {
            "text/plain": [
              "array(['sepal length', 'sepal width', 'petal length', 'petal width'],\n",
              "      dtype=object)"
            ]
          },
          "execution_count": 9,
          "metadata": {},
          "output_type": "execute_result"
        }
      ],
      "source": [
        "df_iris.drop(['target','class'],axis=1).columns.values"
      ]
    },
    {
      "cell_type": "code",
      "execution_count": 10,
      "metadata": {
        "id": "w9PmgqrmaBm1",
        "nbgrader": {
          "grade": false,
          "grade_id": "cell-8ba6a5e72836aa92",
          "locked": false,
          "schema_version": 3,
          "solution": true,
          "task": false
        },
        "outputId": "eeafc922-5158-4132-d56e-e9b9c840dbc4"
      },
      "outputs": [
        {
          "data": {
            "image/png": "[encoded data removed]",
            "text/plain": [
              "<Figure size 1800x720 with 1 Axes>"
            ]
          },
          "metadata": {
            "needs_background": "light"
          },
          "output_type": "display_data"
        }
      ],
      "source": [
        "fig = plt.figure(figsize=(25, 10))\n",
        "dn = dendrogram(mergings,leaf_rotation=90,leaf_font_size=6)\n",
        "plt.show()"
      ]
    },
    {
      "cell_type": "code",
      "execution_count": 11,
      "metadata": {
        "id": "GExzAYjJaBm2",
        "nbgrader": {
          "grade": true,
          "grade_id": "cell-bc0248a8151d10ab",
          "locked": true,
          "points": 3,
          "schema_version": 3,
          "solution": false,
          "task": false
        },
        "outputId": "0475b7fd-740a-44fa-f3f6-4ce5185e3916"
      },
      "outputs": [
        {
          "data": {
            "image/png": "[encoded data removed]",
            "text/plain": [
              "<Figure size 432x288 with 1 Axes>"
            ]
          },
          "metadata": {
            "needs_background": "light"
          },
          "output_type": "display_data"
        }
      ],
      "source": [
        "assert type(dn) == type(dendrogram(np.random.rand(15, 4)))"
      ]
    },
    {
      "cell_type": "markdown",
      "metadata": {
        "id": "Ixtxyc4AaBm3",
        "nbgrader": {
          "grade": false,
          "grade_id": "cell-6c3fb83905359f79",
          "locked": true,
          "schema_version": 3,
          "solution": false,
          "task": false
        }
      },
      "source": [
        "## K-MEANS\n",
        "\n",
        "for this next part we will use the K-Means algorithm in order to cluster your data"
      ]
    },
    {
      "cell_type": "markdown",
      "metadata": {
        "id": "V1yvVNG8aBm3",
        "nbgrader": {
          "grade": false,
          "grade_id": "cell-e554a1446ad626ec",
          "locked": true,
          "schema_version": 3,
          "solution": false,
          "task": false
        }
      },
      "source": [
        "**Step 1:** \n",
        "+ import `KMeans` from `sklearn.cluster`\n",
        "+ loading our new datasets"
      ]
    },
    {
      "cell_type": "code",
      "execution_count": 12,
      "metadata": {
        "id": "AKdPwz_NaBm4"
      },
      "outputs": [],
      "source": [
        "from sklearn.cluster import KMeans\n",
        "\n",
        "df = pd.read_csv('./02. Partitional Algorithms/datasets/ch1ex1.csv')\n",
        "points = df.values\n",
        "\n",
        "new_df = pd.read_csv('./02. Partitional Algorithms/datasets/ch1ex2.csv')\n",
        "new_points = new_df.values"
      ]
    },
    {
      "cell_type": "markdown",
      "metadata": {
        "id": "dWHXGo7QaBm4",
        "nbgrader": {
          "grade": false,
          "grade_id": "cell-09b5216391582184",
          "locked": true,
          "schema_version": 3,
          "solution": false,
          "task": false
        }
      },
      "source": [
        "**Step 2:** Using `KMeans()`, create a `KMeans` instance called `model` to find `3` clusters. To specify the number of clusters, use the `n_clusters` keyword argument\n"
      ]
    },
    {
      "cell_type": "code",
      "execution_count": 13,
      "metadata": {
        "id": "pfYDW3x4aBm4",
        "nbgrader": {
          "grade": false,
          "grade_id": "cell-d4136dfc2ba753ba",
          "locked": false,
          "schema_version": 3,
          "solution": true,
          "task": false
        }
      },
      "outputs": [],
      "source": [
        "model = KMeans(n_clusters=3)"
      ]
    },
    {
      "cell_type": "code",
      "execution_count": 14,
      "metadata": {
        "id": "s4_UgkHuaBm5",
        "nbgrader": {
          "grade": true,
          "grade_id": "cell-a6a59ad2afd63249",
          "locked": true,
          "points": 1,
          "schema_version": 3,
          "solution": false,
          "task": false
        }
      },
      "outputs": [],
      "source": [
        "assert type(model)== type(KMeans())"
      ]
    },
    {
      "cell_type": "markdown",
      "metadata": {
        "id": "8tS9mJhtaBm5",
        "nbgrader": {
          "grade": false,
          "grade_id": "cell-3b83408ca14ce116",
          "locked": true,
          "schema_version": 3,
          "solution": false,
          "task": false
        }
      },
      "source": [
        "**Step 4:** Use the `.fit()` method of `model` to fit the model to the array of points `points`."
      ]
    },
    {
      "cell_type": "code",
      "execution_count": 15,
      "metadata": {
        "id": "3JiyJXGZaBm5",
        "nbgrader": {
          "grade": false,
          "grade_id": "cell-9a699df5bd74992a",
          "locked": false,
          "schema_version": 3,
          "solution": true,
          "task": false
        }
      },
      "outputs": [
        {
          "data": {
            "text/plain": [
              "KMeans(n_clusters=3)"
            ]
          },
          "execution_count": 15,
          "metadata": {},
          "output_type": "execute_result"
        }
      ],
      "source": [
        "model.fit(points)"
      ]
    },
    {
      "cell_type": "markdown",
      "metadata": {
        "id": "P94uhFNcaBm6",
        "nbgrader": {
          "grade": false,
          "grade_id": "cell-5f7dc6671c80bcf3",
          "locked": true,
          "schema_version": 3,
          "solution": false,
          "task": false
        }
      },
      "source": [
        "**Step 5:** Use the `.predict()` method of `model` to predict the cluster labels of `points`, assigning the result to `labels`."
      ]
    },
    {
      "cell_type": "code",
      "execution_count": 16,
      "metadata": {
        "id": "98hs3LytaBm6",
        "nbgrader": {
          "grade": false,
          "grade_id": "cell-fe0636d9d3113913",
          "locked": false,
          "schema_version": 3,
          "solution": true,
          "task": false
        }
      },
      "outputs": [
        {
          "name": "stdout",
          "output_type": "stream",
          "text": [
            "[0 2 1 1 2 2 1 0 2 2 1 0 2 1 2 0 1 1 0 1 2 0 2 0 0 2 0 0 0 2 1 1 1 2 0 2 0\n",
            " 0 2 0 0 1 2 2 2 0 0 1 0 1 1 1 0 0 0 2 0 0 2 1 2 0 0 1 1 2 1 2 2 0 1 2 1 0\n",
            " 1 2 0 0 0 1 0 2 1 2 2 2 2 0 0 1 2 1 2 0 0 0 1 2 2 1 2 0 2 1 0 1 1 1 2 2 0\n",
            " 2 1 2 2 2 0 2 1 1 0 0 0 0 0 2 1 0 2 2 1 1 2 0 2 0 1 2 1 0 1 1 0 1 1 0 1 2\n",
            " 0 0 0 1 1 2 1 2 0 0 1 2 1 1 1 2 0 0 2 1 1 0 0 1 0 0 2 0 1 1 1 0 0 1 0 1 1\n",
            " 0 2 1 0 0 0 0 2 1 0 2 2 2 0 2 0 0 2 1 1 0 1 0 0 2 2 0 1 2 1 0 1 2 0 2 2 2\n",
            " 2 1 1 1 0 0 2 0 1 2 0 0 2 0 1 1 1 1 1 2 0 0 1 1 0 2 1 2 2 0 0 2 2 2 0 1 0\n",
            " 2 0 1 1 1 1 1 0 0 2 0 0 2 1 1 2 0 1 1 2 2 0 0 0 2 2 0 1 2 2 1 0 0 0 2 0 0\n",
            " 0 2 2 2]\n"
          ]
        }
      ],
      "source": [
        "labels = model.predict(points)\n",
        "print(labels)"
      ]
    },
    {
      "cell_type": "code",
      "execution_count": 17,
      "metadata": {
        "id": "wbEbY9sraBm6",
        "nbgrader": {
          "grade": true,
          "grade_id": "cell-3e790b82f9bf37fc",
          "locked": true,
          "points": 2,
          "schema_version": 3,
          "solution": false,
          "task": false
        }
      },
      "outputs": [],
      "source": [
        "assert labels[labels.argmax()] == 2\n",
        "assert labels.shape == (300,)"
      ]
    },
    {
      "cell_type": "code",
      "execution_count": 18,
      "metadata": {
        "id": "imYlD1QuaBm7",
        "nbgrader": {
          "grade": false,
          "grade_id": "cell-917ce87ba793a518",
          "locked": false,
          "schema_version": 3,
          "solution": true,
          "task": false
        }
      },
      "outputs": [],
      "source": [
        "# Make a function that returns 3 numpy arrays each one with the points associated for each class\n",
        "#If the label is 0 they go into data_0\n",
        "#If the label is 1 they go into data_1\n",
        "#If the label is 2 they go into data_2\n",
        "def separate_labels(labels, points):\n",
        "    data = [[],[],[]]\n",
        "    for id,l in enumerate(labels):\n",
        "        data[l].append(list(points[id]))\n",
        "    return np.array(data[0]), np.array(data[1]), np.array(data[2])\n",
        "\n",
        "data_0, data_1, data_2 = separate_labels(labels, points)\n"
      ]
    },
    {
      "cell_type": "code",
      "execution_count": 19,
      "metadata": {
        "id": "RsnTH6biaBm7",
        "nbgrader": {
          "grade": true,
          "grade_id": "cell-9d19700f8e07d490",
          "locked": true,
          "points": 2,
          "schema_version": 3,
          "solution": false,
          "task": false
        }
      },
      "outputs": [],
      "source": [
        "assert abs(data_0.shape[0] - 94) <= 20\n",
        "assert abs(data_1.shape[0] - 95) <= 20\n",
        "assert abs(data_2.shape[0] - 111) <= 20"
      ]
    },
    {
      "cell_type": "code",
      "execution_count": 20,
      "metadata": {
        "id": "slfkz_onaBm8",
        "nbgrader": {
          "grade": false,
          "grade_id": "cell-6ae9d7e6dfb48eda",
          "locked": false,
          "schema_version": 3,
          "solution": true,
          "task": false
        }
      },
      "outputs": [
        {
          "data": {
            "image/png": "[encoded data removed]",
            "text/plain": [
              "<Figure size 432x288 with 1 Axes>"
            ]
          },
          "metadata": {
            "needs_background": "light"
          },
          "output_type": "display_data"
        }
      ],
      "source": [
        "# plotting the data \n",
        "def make_plot(data_0,data_1,data_2):\n",
        "    plt.scatter(x=data_0[:,0],y=data_0[:,1],color='r',label='0')\n",
        "    plt.scatter(x=data_1[:,0],y=data_1[:,1],color='b',label='1')\n",
        "    plt.scatter(x=data_2[:,0],y=data_2[:,1],color='g',label='2')\n",
        "    plt.legend()\n",
        "    plt.xlabel('x');\n",
        "    plt.ylabel('y');\n",
        "    plt.title('Points');\n",
        "\n",
        "make_plot(data_0,data_1,data_2)"
      ]
    },
    {
      "cell_type": "markdown",
      "metadata": {
        "id": "2eEQmMvFaBm9"
      },
      "source": [
        "**Step 7:** Use the `.predict()` method of `model` to predict the cluster labels of `new_points`, assigning the result to `new_labels`.  Notice that KMeans can assign previously unseen points to the clusters it has already found!"
      ]
    },
    {
      "cell_type": "code",
      "execution_count": 21,
      "metadata": {
        "id": "5RCsQ8uYaBm9",
        "nbgrader": {
          "grade": false,
          "grade_id": "cell-e1c6be8c2b6c48ab",
          "locked": false,
          "schema_version": 3,
          "solution": true,
          "task": false
        }
      },
      "outputs": [
        {
          "name": "stdout",
          "output_type": "stream",
          "text": [
            "[1 1 2 2 0 0 1 0 0 2 0 0 2 0 1 1 0 1 1 0 1 1 2 1 2 0 2 1 1 1 2 0 0 2 2 1 2\n",
            " 2 2 2 1 0 2 0 2 2 0 1 2 2 1 1 0 1 0 1 2 1 2 2 2 0 0 0 2 2 0 2 0 2 1 1 1 0\n",
            " 2 0 0 0 1 0 1 0 1 0 1 2 1 0 2 0 1 1 2 2 1 1 1 2 0 2]\n"
          ]
        }
      ],
      "source": [
        "new_labels = model.predict(new_points)\n",
        "print(new_labels)"
      ]
    },
    {
      "cell_type": "code",
      "execution_count": 22,
      "metadata": {
        "id": "G39NZZOEaBm9",
        "nbgrader": {
          "grade": true,
          "grade_id": "cell-33a135652cf843e7",
          "locked": true,
          "points": 2,
          "schema_version": 3,
          "solution": false,
          "task": false
        }
      },
      "outputs": [],
      "source": [
        "assert new_labels[new_labels.argmax()] == 2\n",
        "assert new_labels.shape == (100,)"
      ]
    },
    {
      "cell_type": "code",
      "execution_count": 23,
      "metadata": {
        "id": "XZgzl7c3aBm-",
        "nbgrader": {
          "grade": false,
          "grade_id": "cell-91d525783ae0a408",
          "locked": false,
          "schema_version": 3,
          "solution": true,
          "task": false
        }
      },
      "outputs": [],
      "source": [
        "#separate the data by labels like we did before\n",
        "\n",
        "new_0, new_1, new_2 = separate_labels(new_labels, new_points)\n"
      ]
    },
    {
      "cell_type": "code",
      "execution_count": 24,
      "metadata": {
        "id": "uzCSRzHUaBm_",
        "nbgrader": {
          "grade": true,
          "grade_id": "cell-bbb9a9b41cb01987",
          "locked": true,
          "points": 2,
          "schema_version": 3,
          "solution": false,
          "task": false
        }
      },
      "outputs": [],
      "source": [
        "assert abs(new_0.shape[0] - 34) <= 5\n",
        "assert abs(new_1.shape[0] - 34) <= 5\n",
        "assert abs(new_2.shape[0] - 34) <= 5"
      ]
    },
    {
      "cell_type": "code",
      "execution_count": 25,
      "metadata": {
        "id": "tA8qY8EPaBm_",
        "nbgrader": {
          "grade": false,
          "grade_id": "cell-f0f51c7f91e8b4df",
          "locked": false,
          "schema_version": 3,
          "solution": true,
          "task": false
        }
      },
      "outputs": [
        {
          "data": {
            "image/png": "[encoded data removed]",
            "text/plain": [
              "<Figure size 432x288 with 1 Axes>"
            ]
          },
          "metadata": {
            "needs_background": "light"
          },
          "output_type": "display_data"
        }
      ],
      "source": [
        "#plot the new labels\n",
        "make_plot(new_0,new_1,new_2)"
      ]
    },
    {
      "cell_type": "code",
      "execution_count": 26,
      "metadata": {
        "id": "lpXuiukraBnA",
        "nbgrader": {
          "grade": false,
          "grade_id": "cell-fb66bc887cd85537",
          "locked": false,
          "schema_version": 3,
          "solution": true,
          "task": false
        }
      },
      "outputs": [
        {
          "data": {
            "image/png": "[encoded data removed]",
            "text/plain": [
              "<Figure size 432x288 with 1 Axes>"
            ]
          },
          "metadata": {
            "needs_background": "light"
          },
          "output_type": "display_data"
        }
      ],
      "source": [
        "#plot all the points together\n",
        "make_plot(data_0,data_1,data_2)\n",
        "make_plot(new_0,new_1,new_2)"
      ]
    },
    {
      "cell_type": "code",
      "execution_count": null,
      "metadata": {
        "id": "KwmYt5Vea902"
      },
      "outputs": [],
      "source": []
    }
  ],
  "metadata": {
    "celltoolbar": "Create Assignment",
    "colab": {
      "collapsed_sections": [],
      "name": "ml3_exercise.ipynb",
      "provenance": []
    },
    "interpreter": {
      "hash": "2f9376a53bea67c1ed5cf17fe4a618ec842560647dcd0f876afebe1c5f60995f"
    },
    "kernelspec": {
      "display_name": "Python 3.8.11 64-bit ('strive': conda)",
      "name": "python3"
    },
    "language_info": {
      "codemirror_mode": {
        "name": "ipython",
        "version": 3
      },
      "file_extension": ".py",
      "mimetype": "text/x-python",
      "name": "python",
      "nbconvert_exporter": "python",
      "pygments_lexer": "ipython3",
      "version": "3.8.11"
    }
  },
  "nbformat": 4,
  "nbformat_minor": 0
}
