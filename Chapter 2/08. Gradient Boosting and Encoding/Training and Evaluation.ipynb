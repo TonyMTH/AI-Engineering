{
 "cells": [
  {
   "cell_type": "markdown",
   "metadata": {},
   "source": [
    "## Import libraries"
   ]
  },
  {
   "cell_type": "code",
   "execution_count": null,
   "metadata": {},
   "outputs": [],
   "source": [
    "# import libraries\n",
    "import data_handler as dh\n",
    "from sklearn.tree import DecisionTreeRegressor\n",
    "from sklearn.ensemble import RandomForestRegressor, ExtraTreesRegressor, GradientBoostingRegressor\n",
    "from xgboost import XGBRegressor\n",
    "from catboost import CatBoostRegressor\n",
    "from lightgbm import LGBMRegressor\n",
    "from sklearn.model_selection import GridSearchCV\n",
    "from joblib import dump\n",
    "import os\n",
    "\n",
    "import numpy as np\n",
    "from sklearn.metrics import mean_squared_error"
   ]
  },
  {
   "cell_type": "code",
   "execution_count": null,
   "id": "southwest-scottish",
   "metadata": {
    "ExecuteTime": {
     "end_time": "2021-07-06T13:10:14.144867Z",
     "start_time": "2021-07-06T13:10:14.142030Z"
    }
   },
   "outputs": [],
   "source": [
    "# get data\n",
    "x_train, x_test, y_train, y_test = dh.get_data(\"./insurance.csv\")"
   ]
  },
  {
   "cell_type": "markdown",
   "metadata": {},
   "source": [
    "## Get the best Decision Tree Regression model"
   ]
  },
  {
   "cell_type": "code",
   "execution_count": null,
   "metadata": {},
   "outputs": [],
   "source": [
    "param_grid = {'criterion':['squared_error', 'friedman_mse', 'absolute_error', 'poisson'],\\\n",
    "    'max_depth':[2,3,4,5,6,7,8,9,10,11,12,15,20,56],\\\n",
    "        'ccp_alpha':np.arange(0,5,0.5)\\\n",
    "            }\n",
    "        \n",
    "decisionTreeRegressor = DecisionTreeRegressor(random_state=0)\n",
    "gs = GridSearchCV(decisionTreeRegressor, param_grid, cv=10)\n",
    "gs = gs.fit(x_train, y_train)\n",
    "\n",
    "decision_tree_model = gs.best_estimator_\n",
    "print(\"Best estimator found by grid search:\", decision_tree_model)\n",
    "\n",
    "Train_pred_y = gs.predict(x_train)\n",
    "Test_pred_y = gs.predict(x_test)\n",
    "\n",
    "train_error = mean_squared_error(y_train, Train_pred_y, squared=False)\n",
    "test_error = mean_squared_error(y_test, Test_pred_y, squared=False)\n",
    "\n",
    "print('Train Error {:0.2f}'.format( train_error ))\n",
    "print('Test Error {:0.2f}'.format( test_error ))"
   ]
  },
  {
   "cell_type": "markdown",
   "metadata": {},
   "source": [
    "## Get the best GradientBoostingRegressor model"
   ]
  },
  {
   "cell_type": "code",
   "execution_count": null,
   "metadata": {},
   "outputs": [],
   "source": [
    "param_grid = {'loss':['squared_error', 'absolute_error', 'huber', 'quantile'],\\\n",
    "    'learning_rate':np.exp(np.arange(-3,3,1)),\\\n",
    "        'n_estimators':np.arange(50,300,50),\\\n",
    "            'subsample':np.arange(-3,3,0.5),\\\n",
    "                'criterion':['friedman_mse', 'squared_error', 'mse', 'mae'],\\\n",
    "                    'alpha':np.arange(0.1,1.3,0.3),\\\n",
    "                        'max_depth':[2,3,4,5,6,7,8,9,10,11,12,15,20],\\\n",
    "                            'ccp_alpha':np.arange(0,5,0.5)\\\n",
    "                                }\n",
    "\n",
    "# param_grid = {'learning_rate':np.exp(np.arange(-2,2,1)),\\\n",
    "#                 'criterion':['friedman_mse', 'squared_error'],\\\n",
    "#                         'max_depth':[2,3,4,5,6],\\\n",
    "#                             'ccp_alpha':np.arange(0,2,0.5)\\\n",
    "#                                 }\n",
    "        \n",
    "model = GradientBoostingRegressor(random_state=0)\n",
    "gs = GridSearchCV(model, param_grid, cv=10)\n",
    "gs = gs.fit(x_train, y_train)\n",
    "\n",
    "gradient_boost_model = gs.best_estimator_\n",
    "print(\"Best estimator found by grid search:\", gradient_boost_model)\n",
    "\n",
    "Train_pred_y = gs.predict(x_train)\n",
    "Test_pred_y = gs.predict(x_test)\n",
    "\n",
    "train_error = mean_squared_error(y_train, Train_pred_y, squared=False)\n",
    "test_error = mean_squared_error(y_test, Test_pred_y, squared=False)\n",
    "\n",
    "print('Train Error {:0.2f}%'.format( train_error ))\n",
    "print('Test Error {:0.2f}%'.format( test_error ))"
   ]
  },
  {
   "cell_type": "markdown",
   "metadata": {},
   "source": [
    "## Get the best RandomForestRegressor model"
   ]
  },
  {
   "cell_type": "code",
   "execution_count": null,
   "metadata": {},
   "outputs": [],
   "source": [
    "param_grid = {'criterion':['absolute_error', 'squared_error', 'poisson'],\\\n",
    "    'max_depth':[2,3,4,5,6,7,8,9,10,11,12,15,20,56],\\\n",
    "        'bootstrap':[True, False],\\\n",
    "            'oob_score':[True, False],\\\n",
    "                'ccp_alpha':np.arange(0,5,0.5)\\\n",
    "                    }\n",
    "\n",
    "# param_grid = {'criterion':['absolute_error', 'squared_error'],\\\n",
    "#     'max_depth':[2,3,4,5,6],\\\n",
    "#         'bootstrap':[True, False],\\\n",
    "#                 'ccp_alpha':np.arange(0,2,0.5)\\\n",
    "#                     }\n",
    "        \n",
    "model = RandomForestRegressor(random_state=0)\n",
    "gs = GridSearchCV(model, param_grid, cv=10)\n",
    "gs = gs.fit(x_train, y_train)\n",
    "\n",
    "random_forest_model = gs.best_estimator_\n",
    "print(\"Best estimator found by grid search:\", random_forest_model)\n",
    "\n",
    "Train_pred_y = gs.predict(x_train)\n",
    "Test_pred_y = gs.predict(x_test)\n",
    "\n",
    "train_error = mean_squared_error(y_train, Train_pred_y, squared=False)\n",
    "test_error = mean_squared_error(y_test, Test_pred_y, squared=False)\n",
    "\n",
    "print('Train Error {:0.2f}%'.format( train_error ))\n",
    "print('Test Error {:0.2f}%'.format( test_error ))"
   ]
  },
  {
   "cell_type": "markdown",
   "metadata": {},
   "source": [
    "## Choose and Save Best model"
   ]
  },
  {
   "cell_type": "code",
   "execution_count": null,
   "metadata": {},
   "outputs": [],
   "source": [
    "best_model = None\n",
    "best_pred = np.inf\n",
    "for model in [decision_tree_model, gradient_boost_model, random_forest_model]:\n",
    "    Test_pred_y = model.predict(x_test)\n",
    "    test_error = mean_squared_error(y_test, Test_pred_y, squared=False)\n",
    "    if test_error <= best_pred:\n",
    "        best_model, best_pred = model, test_error\n",
    "        "
   ]
  },
  {
   "cell_type": "code",
   "execution_count": null,
   "id": "dynamic-service",
   "metadata": {
    "ExecuteTime": {
     "end_time": "2021-07-06T19:46:00.582453Z",
     "start_time": "2021-07-06T19:45:59.979728Z"
    }
   },
   "outputs": [],
   "source": [
    "#save model\n",
    "path = './data/best_model.joblib'\n",
    "try:\n",
    "    os.remove(path)\n",
    "except:\n",
    "    pass\n",
    "dump(best_model, path)\n"
   ]
  },
  {
   "cell_type": "markdown",
   "metadata": {},
   "source": []
  }
 ],
 "metadata": {
  "interpreter": {
   "hash": "2f9376a53bea67c1ed5cf17fe4a618ec842560647dcd0f876afebe1c5f60995f"
  },
  "kernelspec": {
   "display_name": "Python 3.8.11 64-bit ('strive': conda)",
   "name": "python3"
  },
  "language_info": {
   "codemirror_mode": {
    "name": "ipython",
    "version": 3
   },
   "file_extension": ".py",
   "mimetype": "text/x-python",
   "name": "python",
   "nbconvert_exporter": "python",
   "pygments_lexer": "ipython3",
   "version": "3.8.11"
  },
  "varInspector": {
   "cols": {
    "lenName": 16,
    "lenType": 16,
    "lenVar": 40
   },
   "kernels_config": {
    "python": {
     "delete_cmd_postfix": "",
     "delete_cmd_prefix": "del ",
     "library": "var_list.py",
     "varRefreshCmd": "print(var_dic_list())"
    },
    "r": {
     "delete_cmd_postfix": ") ",
     "delete_cmd_prefix": "rm(",
     "library": "var_list.r",
     "varRefreshCmd": "cat(var_dic_list()) "
    }
   },
   "types_to_exclude": [
    "module",
    "function",
    "builtin_function_or_method",
    "instance",
    "_Feature"
   ],
   "window_display": false
  }
 },
 "nbformat": 4,
 "nbformat_minor": 5
}
