{
 "cells": [
  {
   "cell_type": "markdown",
   "metadata": {},
   "source": [
    "# MNIST Classifier\n",
    "\n",
    "In this notebook you will create both, an mnist tabular dataset and a classifier."
   ]
  },
  {
   "cell_type": "markdown",
   "metadata": {},
   "source": [
    "## 1.- import the Operating System (os) module in python and any other library you need"
   ]
  },
  {
   "cell_type": "code",
   "execution_count": 4,
   "metadata": {},
   "outputs": [],
   "source": [
    "import os\n",
    "import zipfile\n",
    "from PIL import Image\n",
    "import numpy as np\n",
    "import pandas as pd\n",
    "from IPython.display import display"
   ]
  },
  {
   "cell_type": "markdown",
   "metadata": {},
   "source": [
    "## Get the dataset"
   ]
  },
  {
   "cell_type": "code",
   "execution_count": 4,
   "metadata": {},
   "outputs": [
    {
     "name": "stdout",
     "output_type": "stream",
     "text": [
      "Requirement already satisfied: kaggle in c:\\users\\asus\\.conda\\envs\\strive\\lib\\site-packages (1.5.12)\n",
      "Requirement already satisfied: tqdm in c:\\users\\asus\\.conda\\envs\\strive\\lib\\site-packages (from kaggle) (4.62.3)\n",
      "Requirement already satisfied: python-slugify in c:\\users\\asus\\.conda\\envs\\strive\\lib\\site-packages (from kaggle) (5.0.2)\n",
      "Requirement already satisfied: urllib3 in c:\\users\\asus\\.conda\\envs\\strive\\lib\\site-packages (from kaggle) (1.26.7)\n",
      "Requirement already satisfied: requests in c:\\users\\asus\\.conda\\envs\\strive\\lib\\site-packages (from kaggle) (2.26.0)\n",
      "Requirement already satisfied: six>=1.10 in c:\\users\\asus\\.conda\\envs\\strive\\lib\\site-packages (from kaggle) (1.16.0)\n",
      "Requirement already satisfied: python-dateutil in c:\\users\\asus\\.conda\\envs\\strive\\lib\\site-packages (from kaggle) (2.8.2)\n",
      "Requirement already satisfied: certifi in c:\\users\\asus\\.conda\\envs\\strive\\lib\\site-packages (from kaggle) (2021.10.8)\n",
      "Requirement already satisfied: text-unidecode>=1.3 in c:\\users\\asus\\.conda\\envs\\strive\\lib\\site-packages (from python-slugify->kaggle) (1.3)\n",
      "Requirement already satisfied: idna<4,>=2.5 in c:\\users\\asus\\.conda\\envs\\strive\\lib\\site-packages (from requests->kaggle) (3.2)\n",
      "Requirement already satisfied: charset-normalizer~=2.0.0 in c:\\users\\asus\\.conda\\envs\\strive\\lib\\site-packages (from requests->kaggle) (2.0.4)\n",
      "Requirement already satisfied: colorama in c:\\users\\asus\\.conda\\envs\\strive\\lib\\site-packages (from tqdm->kaggle) (0.4.4)\n"
     ]
    },
    {
     "name": "stderr",
     "output_type": "stream",
     "text": [
      "\n",
      "  0%|          | 0.00/68.4M [00:00<?, ?B/s]\n",
      "  1%|▏         | 1.00M/68.4M [00:00<00:08, 8.64MB/s]\n",
      "  4%|▍         | 3.00M/68.4M [00:00<00:05, 11.5MB/s]\n",
      "  7%|▋         | 5.00M/68.4M [00:00<00:05, 11.7MB/s]\n",
      " 10%|█         | 7.00M/68.4M [00:00<00:05, 11.7MB/s]\n",
      " 13%|█▎        | 9.00M/68.4M [00:00<00:05, 11.8MB/s]\n",
      " 16%|█▌        | 11.0M/68.4M [00:00<00:05, 11.8MB/s]\n",
      " 19%|█▉        | 13.0M/68.4M [00:01<00:04, 11.8MB/s]\n",
      " 22%|██▏       | 15.0M/68.4M [00:01<00:04, 11.8MB/s]\n",
      " 25%|██▍       | 17.0M/68.4M [00:01<00:04, 11.8MB/s]\n",
      " 28%|██▊       | 19.0M/68.4M [00:01<00:04, 11.8MB/s]\n",
      " 31%|███       | 21.0M/68.4M [00:01<00:04, 11.8MB/s]\n",
      " 34%|███▎      | 23.0M/68.4M [00:02<00:04, 11.3MB/s]\n",
      " 37%|███▋      | 25.0M/68.4M [00:02<00:03, 12.0MB/s]\n",
      " 39%|███▉      | 27.0M/68.4M [00:02<00:03, 12.0MB/s]\n",
      " 42%|████▏     | 29.0M/68.4M [00:02<00:03, 11.7MB/s]\n",
      " 45%|████▌     | 31.0M/68.4M [00:02<00:03, 12.0MB/s]\n",
      " 48%|████▊     | 33.0M/68.4M [00:02<00:03, 11.6MB/s]\n",
      " 51%|█████     | 35.0M/68.4M [00:03<00:02, 12.0MB/s]\n",
      " 54%|█████▍    | 37.0M/68.4M [00:03<00:02, 11.9MB/s]\n",
      " 57%|█████▋    | 39.0M/68.4M [00:03<00:02, 11.7MB/s]\n",
      " 60%|█████▉    | 41.0M/68.4M [00:03<00:02, 11.9MB/s]\n",
      " 63%|██████▎   | 43.0M/68.4M [00:03<00:02, 11.9MB/s]\n",
      " 66%|██████▌   | 45.0M/68.4M [00:04<00:02, 11.9MB/s]\n",
      " 69%|██████▊   | 47.0M/68.4M [00:04<00:01, 11.9MB/s]\n",
      " 72%|███████▏  | 49.0M/68.4M [00:04<00:01, 11.7MB/s]\n",
      " 75%|███████▍  | 51.0M/68.4M [00:04<00:01, 11.9MB/s]\n",
      " 77%|███████▋  | 53.0M/68.4M [00:04<00:01, 11.6MB/s]\n",
      " 80%|████████  | 55.0M/68.4M [00:04<00:01, 12.0MB/s]\n",
      " 83%|████████▎ | 57.0M/68.4M [00:05<00:01, 11.3MB/s]\n",
      " 86%|████████▌ | 59.0M/68.4M [00:05<00:00, 10.1MB/s]\n",
      " 89%|████████▉ | 61.0M/68.4M [00:05<00:00, 10.5MB/s]\n",
      " 92%|█████████▏| 63.0M/68.4M [00:05<00:00, 10.9MB/s]\n",
      " 95%|█████████▍| 65.0M/68.4M [00:05<00:00, 11.1MB/s]\n",
      " 98%|█████████▊| 67.0M/68.4M [00:06<00:00, 11.3MB/s]\n",
      "100%|██████████| 68.4M/68.4M [00:06<00:00, 11.5MB/s]\n",
      "100%|██████████| 68.4M/68.4M [00:06<00:00, 11.6MB/s]\n"
     ]
    },
    {
     "name": "stdout",
     "output_type": "stream",
     "text": [
      "Downloading mnistasjpg.zip to c:\\Users\\Asus\\Documents\\Education\\Strive School\\AI-Engineering\\Chapter 2\\12. Images\n",
      "\n"
     ]
    }
   ],
   "source": [
    "os.environ['KAGGLE_USERNAME'] = \"anthonyemeka12\"\n",
    "os.environ['KAGGLE_KEY']      = \"52a32a7dda673d7b0705657b185547c5\"\n",
    "!pip install --upgrade kaggle\n",
    "!kaggle datasets download -d scolianni/mnistasjpg\n",
    "DATA_PATH = \"./mnistasjpg/\"\n",
    "\n",
    "#unzip\n",
    "with zipfile.ZipFile('mnistasjpg.zip', 'r') as zip_ref:\n",
    "    zip_ref.extractall(DATA_PATH)\n",
    "os.remove('mnistasjpg.zip')"
   ]
  },
  {
   "cell_type": "markdown",
   "metadata": {},
   "source": [
    "## 2.- As you can see each class has its own folder (Do it only for train). \n",
    "\n",
    "    - Iterate folder by folder ( os.listdir() )\n",
    "    - Inside each folder: \n",
    "        1.- Read the image\n",
    "        2.- Reshape it into a flat array (784,)\n",
    "        3.- Save the data into a pandas dataframe apending the column name as the class\n",
    "    - Save the data into a CSV\n",
    "\n",
    "    Note: if it takes to long try doing only 100 images per folder for the CSV."
   ]
  },
  {
   "cell_type": "code",
   "execution_count": 5,
   "metadata": {},
   "outputs": [],
   "source": [
    "def showImage(img,type='img'):\n",
    "    if type == 'img':\n",
    "        img = Image.open(img, 'r')\n",
    "    else:\n",
    "        dim = np.sqrt(img.reshape(1,-1).shape[0])\n",
    "        img = img.reshape(dim,dim)\n",
    "        img = Image.fromarray(img.astype(int))\n",
    "        display(img)\n"
   ]
  },
  {
   "cell_type": "code",
   "execution_count": 8,
   "metadata": {
    "tags": []
   },
   "outputs": [
    {
     "data": {
      "image/png": "[encoded data removed]",
      "text/plain": [
       "<PIL.JpegImagePlugin.JpegImageFile image mode=L size=28x28 at 0x1235A4B2760>"
      ]
     },
     "metadata": {},
     "output_type": "display_data"
    }
   ],
   "source": [
    "train_path = 'mnistasjpg/trainingSet/trainingSet/'\n",
    "test_path = 'mnistasjpg/testSet/testSet/'\n",
    "train_folders = os.listdir(train_path)\n",
    "test_folders = os.listdir(test_path)\n",
    "\n",
    "for p in train_folders:\n",
    "    p_img = os.listdir(train_path+p)\n",
    "\n",
    "pth = train_path+p+'/'+p_img[0]\n",
    "showImage(train_path+p+'/'+p_img[0])"
   ]
  },
  {
   "cell_type": "code",
   "execution_count": 3,
   "metadata": {},
   "outputs": [
    {
     "data": {
      "image/png": "[encoded data removed]",
      "text/plain": [
       "<PIL.JpegImagePlugin.JpegImageFile image mode=L size=28x28 at 0x1235A4B2340>"
      ]
     },
     "metadata": {},
     "output_type": "display_data"
    }
   ],
   "source": [
    "from IPython.display import display # to display images\n",
    "\n",
    "pil_im = Image.open(pth)\n",
    "display(pil_im)"
   ]
  },
  {
   "cell_type": "markdown",
   "metadata": {},
   "source": [
    "## 3.- Load the CSV"
   ]
  },
  {
   "cell_type": "code",
   "execution_count": null,
   "metadata": {},
   "outputs": [],
   "source": []
  },
  {
   "cell_type": "markdown",
   "metadata": {},
   "source": [
    "## 4.- Create a dictionary of models (No preprocessing needed, it has already been done).\n",
    "    \n",
    "    Include both, tree models and mult models."
   ]
  },
  {
   "cell_type": "code",
   "execution_count": null,
   "metadata": {},
   "outputs": [],
   "source": []
  },
  {
   "cell_type": "markdown",
   "metadata": {},
   "source": [
    "## 5.- Using either cross validation or stratification find out which is the best model\n",
    "    - Base your code on the previous two days examples"
   ]
  },
  {
   "cell_type": "markdown",
   "metadata": {},
   "source": [
    "## Optional: Can you rotate an image?"
   ]
  },
  {
   "cell_type": "code",
   "execution_count": null,
   "metadata": {},
   "outputs": [],
   "source": []
  }
 ],
 "metadata": {
  "interpreter": {
   "hash": "2f9376a53bea67c1ed5cf17fe4a618ec842560647dcd0f876afebe1c5f60995f"
  },
  "kernelspec": {
   "display_name": "Python 3.8.11 64-bit ('strive': conda)",
   "name": "python3"
  },
  "language_info": {
   "codemirror_mode": {
    "name": "ipython",
    "version": 3
   },
   "file_extension": ".py",
   "mimetype": "text/x-python",
   "name": "python",
   "nbconvert_exporter": "python",
   "pygments_lexer": "ipython3",
   "version": "3.8.11"
  },
  "orig_nbformat": 4
 },
 "nbformat": 4,
 "nbformat_minor": 2
}
