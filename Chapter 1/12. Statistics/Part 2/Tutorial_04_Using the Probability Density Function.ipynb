{
 "cells": [
  {
   "cell_type": "code",
   "execution_count": 1,
   "source": [
    "%matplotlib inline\r\n",
    "import numpy as np\r\n",
    "import matplotlib.pyplot as plt\r\n",
    "import seaborn as sns\r\n",
    "from scipy import stats\r\n",
    "from __future__ import division\r\n",
    "\r\n",
    "sns.set_palette(['#00A99D', '#F5CA0C', '#B6129F', '#76620C', '#095C57'])\r\n",
    "np.version.full_version"
   ],
   "outputs": [
    {
     "output_type": "execute_result",
     "data": {
      "text/plain": [
       "'1.21.2'"
      ]
     },
     "metadata": {},
     "execution_count": 1
    }
   ],
   "metadata": {}
  },
  {
   "cell_type": "markdown",
   "source": [
    "## Data"
   ],
   "metadata": {}
  },
  {
   "cell_type": "code",
   "execution_count": 3,
   "source": [
    "#We use a fictional data set of 10000 averge number of Facebook friends.\r\n",
    "facebook_mu = 190.0\r\n",
    "facebook_sigma = 36.0\r\n",
    "facebook_friends = np.random.normal(facebook_mu, facebook_sigma, 10000)\r\n",
    "\r\n",
    "# show first 12 samples\r\n",
    "facebook_friends[:12]"
   ],
   "outputs": [
    {
     "output_type": "execute_result",
     "data": {
      "text/plain": [
       "array([166.05261422, 240.11117347, 196.41892386, 171.52448388,\n",
       "       167.88855738, 170.30850785, 129.93371676, 133.89971515,\n",
       "       210.68810109, 249.15583067, 135.73538141, 143.62597521])"
      ]
     },
     "metadata": {},
     "execution_count": 3
    }
   ],
   "metadata": {}
  },
  {
   "cell_type": "markdown",
   "source": [
    "## Using the Probability Density Function\n",
    "The total area under the Probability Density Function (pdf) is always 1.0. Roughly 68% of the values is within 1 standard deviation from the mean. About 95% falls within two standard deviations. We can determine the probability of finding a given value in the distribution by using the pdf. \n",
    "\n",
    "Let's say someone's got 227 Facebook friends. What is the probability of having this or less number of Facebook friends?"
   ],
   "metadata": {}
  },
  {
   "cell_type": "code",
   "execution_count": 4,
   "source": [
    "# First take a look at the pdf and especially the green area under\r\n",
    "# the curve containing the probability of 227 Facebook friends or less.\r\n",
    "x = 227.0\r\n",
    "sns.distplot(facebook_friends, label='Facebook friends', kde=False, \r\n",
    "             fit=stats.norm, color='w')\r\n",
    "plt.text(x+5, .0003, '$x$='+str(x))\r\n",
    "\r\n",
    "x_plot = np.linspace(min(facebook_friends), x, 1000)\r\n",
    "y_plot = stats.norm.pdf(x_plot, facebook_mu, facebook_sigma)\r\n",
    "plt.fill_between(x_plot,  y_plot)\r\n",
    "c=plt.legend()"
   ],
   "outputs": [
    {
     "output_type": "stream",
     "name": "stderr",
     "text": [
      "C:\\Users\\Asus\\.conda\\envs\\strive\\lib\\site-packages\\seaborn\\distributions.py:2619: FutureWarning: `distplot` is a deprecated function and will be removed in a future version. Please adapt your code to use either `displot` (a figure-level function with similar flexibility) or `histplot` (an axes-level function for histograms).\n",
      "  warnings.warn(msg, FutureWarning)\n"
     ]
    },
    {
     "output_type": "display_data",
     "data": {
      "image/png": "[encoded data removed]",
      "text/plain": [
       "<Figure size 432x288 with 1 Axes>"
      ]
     },
     "metadata": {
      "needs_background": "light"
     }
    }
   ],
   "metadata": {}
  },
  {
   "cell_type": "code",
   "execution_count": 5,
   "source": [
    "# To calculate the probability, we need the z score.\r\n",
    "zscore = (x - facebook_mu) / facebook_sigma\r\n",
    "zscore"
   ],
   "outputs": [
    {
     "output_type": "execute_result",
     "data": {
      "text/plain": [
       "1.0277777777777777"
      ]
     },
     "metadata": {},
     "execution_count": 5
    }
   ],
   "metadata": {}
  },
  {
   "cell_type": "code",
   "execution_count": 6,
   "source": [
    "# Calculate the probability by calling stats.norm.cdf\r\n",
    "# This is a computational z table lookup\r\n",
    "p = stats.norm.cdf(zscore)\r\n",
    "p"
   ],
   "outputs": [
    {
     "output_type": "execute_result",
     "data": {
      "text/plain": [
       "0.8479728141176333"
      ]
     },
     "metadata": {},
     "execution_count": 6
    }
   ],
   "metadata": {}
  },
  {
   "cell_type": "markdown",
   "source": [
    "So this means the probability of people having 227 Facebook friends or less is about 85%. Since the area under the curve adds up to 1, we can say that the probability of people having a value more than 227 Facebook friends is $1-p$."
   ],
   "metadata": {}
  },
  {
   "cell_type": "code",
   "execution_count": 7,
   "source": [
    "# Probability of having a value more than 227\r\n",
    "1 - p"
   ],
   "outputs": [
    {
     "output_type": "execute_result",
     "data": {
      "text/plain": [
       "0.15202718588236674"
      ]
     },
     "metadata": {},
     "execution_count": 7
    }
   ],
   "metadata": {}
  },
  {
   "cell_type": "markdown",
   "source": [
    "## From probability back to the actual value\n",
    "Let's assume we have a 21% chance of having a certain number of Facebook friends or more. What is the minimum number of Facebook friends we have in this case?"
   ],
   "metadata": {}
  },
  {
   "cell_type": "code",
   "execution_count": 8,
   "source": [
    "# We use the ppf function (inverse cdf) - from probability to z score\r\n",
    "p = 1 - .21\r\n",
    "z = stats.norm.ppf(p)\r\n",
    "z"
   ],
   "outputs": [
    {
     "output_type": "execute_result",
     "data": {
      "text/plain": [
       "0.8064212470182404"
      ]
     },
     "metadata": {},
     "execution_count": 8
    }
   ],
   "metadata": {}
  },
  {
   "cell_type": "code",
   "execution_count": 9,
   "source": [
    "# From z score to number of Facebook friends\r\n",
    "x = z * facebook_sigma + facebook_mu\r\n",
    "x"
   ],
   "outputs": [
    {
     "output_type": "execute_result",
     "data": {
      "text/plain": [
       "219.03116489265665"
      ]
     },
     "metadata": {},
     "execution_count": 9
    }
   ],
   "metadata": {}
  },
  {
   "cell_type": "code",
   "execution_count": 10,
   "source": [
    "# The green area under the curve containing the probability \r\n",
    "# of (roughly) 206 Facebook friends or more.\r\n",
    "sns.distplot(facebook_friends, label='Facebook friends', kde=False, \r\n",
    "             fit=stats.norm, color='w')\r\n",
    "plt.text(x+5, .0003, '$x$='+str(int(x)))\r\n",
    "\r\n",
    "x_plot = np.linspace(x, max(facebook_friends), 1000)\r\n",
    "y_plot = stats.norm.pdf(x_plot, facebook_mu, facebook_sigma)\r\n",
    "plt.fill_between(x_plot,  y_plot)\r\n",
    "c=plt.legend()"
   ],
   "outputs": [
    {
     "output_type": "stream",
     "name": "stderr",
     "text": [
      "C:\\Users\\Asus\\.conda\\envs\\strive\\lib\\site-packages\\seaborn\\distributions.py:2619: FutureWarning: `distplot` is a deprecated function and will be removed in a future version. Please adapt your code to use either `displot` (a figure-level function with similar flexibility) or `histplot` (an axes-level function for histograms).\n",
      "  warnings.warn(msg, FutureWarning)\n"
     ]
    },
    {
     "output_type": "display_data",
     "data": {
      "image/png": "[encoded data removed]",
      "text/plain": [
       "<Figure size 432x288 with 1 Axes>"
      ]
     },
     "metadata": {
      "needs_background": "light"
     }
    }
   ],
   "metadata": {}
  },
  {
   "cell_type": "markdown",
   "source": [
    "## Calculate probability in between two values\n",
    "What is the probability of people having between 120 and 170 Facebook friends?"
   ],
   "metadata": {}
  },
  {
   "cell_type": "code",
   "execution_count": 14,
   "source": [
    "# We want to know the proportion of the green area under the curve.\r\n",
    "x1 = 120.0\r\n",
    "x2 = 170.0\r\n",
    "sns.distplot(facebook_friends, label='Facebook friends', kde=False, \r\n",
    "             fit=stats.norm, color='w')\r\n",
    "plt.text(x1-15, .0003, '$x_1$='+str(x1))\r\n",
    "plt.text(x2, .0003, '$x_2$='+str(x2))\r\n",
    "\r\n",
    "x_plot = np.linspace(x1, x2, 1000)\r\n",
    "y_plot = stats.norm.pdf(x_plot, facebook_mu, facebook_sigma)\r\n",
    "plt.fill_between(x_plot,  y_plot)\r\n",
    "c=plt.legend()"
   ],
   "outputs": [
    {
     "output_type": "stream",
     "name": "stderr",
     "text": [
      "C:\\Users\\Asus\\.conda\\envs\\strive\\lib\\site-packages\\seaborn\\distributions.py:2619: FutureWarning: `distplot` is a deprecated function and will be removed in a future version. Please adapt your code to use either `displot` (a figure-level function with similar flexibility) or `histplot` (an axes-level function for histograms).\n",
      "  warnings.warn(msg, FutureWarning)\n"
     ]
    },
    {
     "output_type": "display_data",
     "data": {
      "image/png": "[encoded data removed]",
      "text/plain": [
       "<Figure size 432x288 with 1 Axes>"
      ]
     },
     "metadata": {
      "needs_background": "light"
     }
    }
   ],
   "metadata": {}
  },
  {
   "cell_type": "code",
   "execution_count": 15,
   "source": [
    "# First we need the z score of x1\r\n",
    "z1 = (x1 - facebook_mu) / facebook_sigma\r\n",
    "z1"
   ],
   "outputs": [
    {
     "output_type": "execute_result",
     "data": {
      "text/plain": [
       "-1.9444444444444444"
      ]
     },
     "metadata": {},
     "execution_count": 15
    }
   ],
   "metadata": {}
  },
  {
   "cell_type": "code",
   "execution_count": 16,
   "source": [
    "# Then we calculate the probability for value x1 or less\r\n",
    "p1 = stats.norm.cdf(z1)\r\n",
    "p1"
   ],
   "outputs": [
    {
     "output_type": "execute_result",
     "data": {
      "text/plain": [
       "0.025920939357843"
      ]
     },
     "metadata": {},
     "execution_count": 16
    }
   ],
   "metadata": {}
  },
  {
   "cell_type": "code",
   "execution_count": 17,
   "source": [
    "# Now we calculate the z score for x2\r\n",
    "z2 = (x2 - facebook_mu) / facebook_sigma\r\n",
    "z2"
   ],
   "outputs": [
    {
     "output_type": "execute_result",
     "data": {
      "text/plain": [
       "-0.5555555555555556"
      ]
     },
     "metadata": {},
     "execution_count": 17
    }
   ],
   "metadata": {}
  },
  {
   "cell_type": "code",
   "execution_count": 18,
   "source": [
    "# and agian the probabilty for value x2 or less\r\n",
    "p2 = stats.norm.cdf(z2)\r\n",
    "p2"
   ],
   "outputs": [
    {
     "output_type": "execute_result",
     "data": {
      "text/plain": [
       "0.28925736075397196"
      ]
     },
     "metadata": {},
     "execution_count": 18
    }
   ],
   "metadata": {}
  },
  {
   "cell_type": "code",
   "execution_count": 19,
   "source": [
    "# So the probability of having between x1 and x2 Facebook friends is\r\n",
    "# the probability having x2 minus the probability having x1\r\n",
    "p2 - p1"
   ],
   "outputs": [
    {
     "output_type": "execute_result",
     "data": {
      "text/plain": [
       "0.26333642139612895"
      ]
     },
     "metadata": {},
     "execution_count": 19
    }
   ],
   "metadata": {}
  },
  {
   "cell_type": "code",
   "execution_count": null,
   "source": [],
   "outputs": [],
   "metadata": {}
  }
 ],
 "metadata": {
  "kernelspec": {
   "name": "python3",
   "display_name": "Python 3.8.11 64-bit ('strive': conda)"
  },
  "language_info": {
   "codemirror_mode": {
    "name": "ipython",
    "version": 3
   },
   "file_extension": ".py",
   "mimetype": "text/x-python",
   "name": "python",
   "nbconvert_exporter": "python",
   "pygments_lexer": "ipython3",
   "version": "3.8.11"
  },
  "interpreter": {
   "hash": "2f9376a53bea67c1ed5cf17fe4a618ec842560647dcd0f876afebe1c5f60995f"
  }
 },
 "nbformat": 4,
 "nbformat_minor": 1
}