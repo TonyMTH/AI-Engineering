{
 "cells": [
  {
   "cell_type": "markdown",
   "source": [
    "# Vectors and Matrices\n",
    "Time to work! Do it with numpy first and then if you have time, manually by hand :)"
   ],
   "metadata": {}
  },
  {
   "cell_type": "markdown",
   "source": [
    "## Vectors"
   ],
   "metadata": {}
  },
  {
   "cell_type": "markdown",
   "source": [
    "Lists can be used to represent mathematical vectors. In this exercise and several that follow you will write functions to perform standard operations on vectors. Create a file named vectors.py or use the Jupyter notebook provided\n",
    "\n",
    "Write a function add_vectors(u, v) that takes two lists of numbers of the same length, and returns a new list containing the sums of the corresponding elements of each.\n",
    "\n",
    "**Note that the text in \"\"\" \"\"\" is provided for you to accurately verify that your function works :)**"
   ],
   "metadata": {}
  },
  {
   "cell_type": "code",
   "execution_count": 23,
   "source": [
    "import numpy as np"
   ],
   "outputs": [],
   "metadata": {}
  },
  {
   "cell_type": "code",
   "execution_count": 24,
   "source": [
    "def add_vectors(u, v):\r\n",
    "    \"\"\"\r\n",
    "      >>> add_vectors([1, 0], [1, 1])\r\n",
    "      [2, 1]\r\n",
    "      >>> add_vectors([1, 2], [1, 4])\r\n",
    "      [2, 6]\r\n",
    "      >>> add_vectors([1, 2, 1], [1, 4, 3])\r\n",
    "      [2, 6, 4]\r\n",
    "      >>> add_vectors([11, 0, -4, 5], [2, -4, 17, 0])\r\n",
    "      [13, -4, 13, 5]\r\n",
    "      >>> a = [1, 2, 3]\r\n",
    "      >>> b = [1, 1, 1]\r\n",
    "      >>> add_vectors(a, b)\r\n",
    "      [2, 3, 4]\r\n",
    "      >>> a\r\n",
    "      [1, 2, 3]\r\n",
    "      >>> b\r\n",
    "      [1, 1, 1]\r\n",
    "    \"\"\"\r\n",
    "    return np.array(u) + np.array(v)\r\n",
    "\r\n",
    "print(add_vectors([11, 0, -4, 5], [2, -4, 17, 0]))"
   ],
   "outputs": [
    {
     "output_type": "stream",
     "name": "stdout",
     "text": [
      "[13 -4 13  5]\n"
     ]
    }
   ],
   "metadata": {
    "ExecuteTime": {
     "end_time": "2021-06-07T12:55:04.065651Z",
     "start_time": "2021-06-07T12:55:04.052145Z"
    }
   }
  },
  {
   "cell_type": "markdown",
   "source": [
    "Write a function scalar_mult(s, v) that takes a number, s, and a list, v and returns the [scalar multiple](https://en.wikipedia.org/wiki/Scalar_multiplication) of v by s."
   ],
   "metadata": {}
  },
  {
   "cell_type": "code",
   "execution_count": 25,
   "source": [
    "def scalar_mult(s, v):\r\n",
    "    \"\"\"\r\n",
    "      >>> scalar_mult(5, [1, 2])\r\n",
    "      [5, 10]\r\n",
    "      >>> scalar_mult(3, [1, 0, -1])\r\n",
    "      [3, 0, -3]\r\n",
    "      >>> scalar_mult(7, [3, 0, 5, 11, 2])\r\n",
    "      [21, 0, 35, 77, 14]\r\n",
    "      >>> a = [1, 2, 3]\r\n",
    "      >>> scalar_mult(4, a)\r\n",
    "      [4, 8, 12]\r\n",
    "      >>> a\r\n",
    "      [1, 2, 3]\r\n",
    "    \"\"\"\r\n",
    "    return s * np.array(v)\r\n",
    "\r\n",
    "print(scalar_mult(7, [3, 0, 5, 11, 2]))"
   ],
   "outputs": [
    {
     "output_type": "stream",
     "name": "stdout",
     "text": [
      "[21  0 35 77 14]\n"
     ]
    }
   ],
   "metadata": {
    "ExecuteTime": {
     "end_time": "2021-06-07T12:55:19.258850Z",
     "start_time": "2021-06-07T12:55:19.249823Z"
    }
   }
  },
  {
   "cell_type": "markdown",
   "source": [
    "Write a function dot_product(u, v) that takes two lists of numbers of the same length, and returns the sum of the products of the corresponding elements of each (the [dot_product](https://en.wikipedia.org/wiki/Dot_product)."
   ],
   "metadata": {}
  },
  {
   "cell_type": "code",
   "execution_count": 26,
   "source": [
    "def dot_product(u, v):\r\n",
    "    \"\"\"\r\n",
    "      >>> dot_product([1, 1], [1, 1])\r\n",
    "      2\r\n",
    "      >>> dot_product([1, 2], [1, 4])\r\n",
    "      9\r\n",
    "      >>> dot_product([1, 2, 1], [1, 4, 3])\r\n",
    "      12\r\n",
    "      >>> dot_product([2, 0, -1, 1], [1, 5, 2, 0])\r\n",
    "      0\r\n",
    "    \"\"\"\r\n",
    "    return np.dot( np.array(u), np.array(v) )\r\n",
    "\r\n",
    "print(dot_product([1, 2, 1], [1, 4, 3]))\r\n",
    "print(dot_product([2, 0, -1, 1], [1, 5, 2, 0]))"
   ],
   "outputs": [
    {
     "output_type": "stream",
     "name": "stdout",
     "text": [
      "12\n",
      "0\n"
     ]
    }
   ],
   "metadata": {
    "ExecuteTime": {
     "end_time": "2021-06-07T12:55:22.647998Z",
     "start_time": "2021-06-07T12:55:22.642607Z"
    }
   }
  },
  {
   "cell_type": "markdown",
   "source": [
    "## Matrices"
   ],
   "metadata": {}
  },
  {
   "cell_type": "markdown",
   "source": [
    "Create a new module named matrices.py or *use the Jupyter notebook provided* and add the following function, which returns a copy of nested lists of numbers such that the lists are not aliases:"
   ],
   "metadata": {}
  },
  {
   "cell_type": "code",
   "execution_count": 27,
   "source": [
    "import copy\r\n",
    "\r\n",
    "def copy_matrix(matrix):\r\n",
    "    \"\"\"\r\n",
    "      >>> copy_matrix([[1, 2], [3, 4]])\r\n",
    "      [[1, 2], [3, 4]]\r\n",
    "      >>> copy_matrix([[1, 2, 3], [4, 5, 6]])\r\n",
    "      [[1, 2, 3], [4, 5, 6]]\r\n",
    "      >>> copy_matrix([[1, 2], [3, 4], [5, 6], [7, 8]])\r\n",
    "      [[1, 2], [3, 4], [5, 6], [7, 8]]\r\n",
    "      >>> m = [[1, 0, 0], [0, 2, 0], [0, 0, 3]]\r\n",
    "      >>> copyofm = copy_matrix(m)\r\n",
    "      >>> copyofm\r\n",
    "      [[1, 0, 0], [0, 2, 0], [0, 0, 3]]\r\n",
    "      >>> for row_num, row in enumerate(copyofm):\r\n",
    "      ...     for col_num, col_val in enumerate(row):\r\n",
    "      ...         copyofm[row_num][col_num] = 42\r\n",
    "      ...\r\n",
    "      >>> copyofm\r\n",
    "      [[42, 42, 42], [42, 42, 42], [42, 42, 42]]\r\n",
    "      >>> m\r\n",
    "      [[1, 0, 0], [0, 2, 0], [0, 0, 3]]\r\n",
    "    \"\"\"\r\n",
    "    return copy.deepcopy(matrix)\r\n",
    "\r\n",
    "m = [[1, 0, 0], [0, 2, 0], [0, 0, 3]]\r\n",
    "copyofm = copy_matrix(m)\r\n",
    "print(copyofm)\r\n",
    "\r\n",
    "for row_num, row in enumerate(copyofm):\r\n",
    "  for col_num, col_val in enumerate(row):\r\n",
    "    copyofm[row_num][col_num] = 42\r\n",
    "\r\n",
    "print(copyofm)\r\n",
    "print(m)"
   ],
   "outputs": [
    {
     "output_type": "stream",
     "name": "stdout",
     "text": [
      "[[1, 0, 0], [0, 2, 0], [0, 0, 3]]\n",
      "[[42, 42, 42], [42, 42, 42], [42, 42, 42]]\n",
      "[[1, 0, 0], [0, 2, 0], [0, 0, 3]]\n"
     ]
    }
   ],
   "metadata": {
    "ExecuteTime": {
     "end_time": "2021-06-07T12:55:25.891991Z",
     "start_time": "2021-06-07T12:55:25.888466Z"
    }
   }
  },
  {
   "cell_type": "code",
   "execution_count": 29,
   "source": [
    "def add_row(matrix):\r\n",
    "    \"\"\"\r\n",
    "      >>> m = [[0, 0], [0, 0]]\r\n",
    "      >>> add_row(m)\r\n",
    "      [[0, 0], [0, 0], [0, 0]]\r\n",
    "      >>> n = [[3, 2, 5], [1, 4, 7]]\r\n",
    "      >>> add_row(n)\r\n",
    "      [[3, 2, 5], [1, 4, 7], [0, 0, 0]]\r\n",
    "      >>> n\r\n",
    "      [[3, 2, 5], [1, 4, 7]]\r\n",
    "    \"\"\"\r\n",
    "    result = copy_matrix(matrix)\r\n",
    "    result.append([0]*len(matrix[0]))\r\n",
    "    return result\r\n",
    "\r\n",
    "n = [[3, 2, 5], [1, 4, 7]]\r\n",
    "print(add_row(n))\r\n",
    "print(n)"
   ],
   "outputs": [
    {
     "output_type": "stream",
     "name": "stdout",
     "text": [
      "[[3, 2, 5], [1, 4, 7], [0, 0, 0]]\n",
      "[[3, 2, 5], [1, 4, 7]]\n"
     ]
    }
   ],
   "metadata": {
    "ExecuteTime": {
     "end_time": "2021-06-07T12:55:28.752996Z",
     "start_time": "2021-06-07T12:55:28.749066Z"
    }
   }
  },
  {
   "cell_type": "code",
   "execution_count": 32,
   "source": [
    "def add_column(matrix):\r\n",
    "    \"\"\"\r\n",
    "      >>> m = [[0, 0], [0, 0]]\r\n",
    "      >>> add_column(m)\r\n",
    "      [[0, 0, 0], [0, 0, 0]]\r\n",
    "      >>> n = [[3, 2], [5, 1], [4, 7]]\r\n",
    "      >>> add_column(n)\r\n",
    "      [[3, 2, 0], [5, 1, 0], [4, 7, 0]]\r\n",
    "      >>> n\r\n",
    "      [[3, 2], [5, 1], [4, 7]]\r\n",
    "    \"\"\"\r\n",
    "    result = copy_matrix(matrix)\r\n",
    "    [i.append(0) for i in result]\r\n",
    "    return result\r\n",
    "\r\n",
    "m = [[0, 0], [0, 0]]\r\n",
    "print(add_column(m))\r\n",
    "print(m)\r\n",
    "\r\n",
    "n = [[3, 2], [5, 1], [4, 7]]\r\n",
    "print(add_column(n))\r\n",
    "print(n)"
   ],
   "outputs": [
    {
     "output_type": "stream",
     "name": "stdout",
     "text": [
      "[[0, 0, 0], [0, 0, 0]]\n",
      "[[0, 0], [0, 0]]\n",
      "[[3, 2, 0], [5, 1, 0], [4, 7, 0]]\n",
      "[[3, 2], [5, 1], [4, 7]]\n"
     ]
    }
   ],
   "metadata": {
    "ExecuteTime": {
     "end_time": "2021-06-07T12:55:31.190111Z",
     "start_time": "2021-06-07T12:55:31.186840Z"
    }
   }
  },
  {
   "cell_type": "markdown",
   "source": [
    "Write a function add_matrices(m1, m2) that adds m1 and m2 and returns a new matrix containing their sum. You can assume that m1 and m2 are the same size. You add two matrices by adding their corresponding values."
   ],
   "metadata": {}
  },
  {
   "cell_type": "code",
   "execution_count": 33,
   "source": [
    "def add_matrices(m1, m2):\r\n",
    "    \"\"\"\r\n",
    "      >>> a = [[1, 2], [3, 4]]\r\n",
    "      >>> b = [[2, 2], [2, 2]]\r\n",
    "      >>> add_matrices(a, b)\r\n",
    "      [[3, 4], [5, 6]]\r\n",
    "      >>> c = [[8, 2], [3, 4], [5, 7]]\r\n",
    "      >>> d = [[3, 2], [9, 2], [10, 12]]\r\n",
    "      >>> add_matrices(c, d)\r\n",
    "      [[11, 4], [12, 6], [15, 19]]\r\n",
    "      >>> c\r\n",
    "      [[8, 2], [3, 4], [5, 7]]\r\n",
    "      >>> d\r\n",
    "      [[3, 2], [9, 2], [10, 12]]\r\n",
    "   \"\"\"\r\n",
    "    return np.array(m1) + np.array(m2)\r\n",
    "\r\n",
    "c = [[8, 2], [3, 4], [5, 7]]\r\n",
    "d = [[3, 2], [9, 2], [10, 12]]\r\n",
    "print(add_matrices(c, d))"
   ],
   "outputs": [
    {
     "output_type": "stream",
     "name": "stdout",
     "text": [
      "[[11  4]\n",
      " [12  6]\n",
      " [15 19]]\n"
     ]
    }
   ],
   "metadata": {
    "ExecuteTime": {
     "end_time": "2021-06-07T12:55:42.884497Z",
     "start_time": "2021-06-07T12:55:42.864759Z"
    }
   }
  },
  {
   "cell_type": "markdown",
   "source": [
    "Write a function scalar_mult(s, m) that multiplies a matrix, m, by a scalar, s."
   ],
   "metadata": {}
  },
  {
   "cell_type": "code",
   "execution_count": 35,
   "source": [
    "def scalar_mult(s, m):\r\n",
    "    \"\"\"\r\n",
    "      >>> a = [[1, 2], [3, 4]]\r\n",
    "      >>> scalar_mult(3, a)\r\n",
    "      [[3, 6], [9, 12]]\r\n",
    "      >>> b = [[3, 5, 7], [1, 1, 1], [0, 2, 0], [2, 2, 3]]\r\n",
    "      >>> scalar_mult(10, b)\r\n",
    "      [[30, 50, 70], [10, 10, 10], [0, 20, 0], [20, 20, 30]]\r\n",
    "      >>> b\r\n",
    "      [[3, 5, 7], [1, 1, 1], [0, 2, 0], [2, 2, 3]]\r\n",
    "    \"\"\"\r\n",
    "    return s * np.array(m)\r\n",
    "\r\n",
    "b = [[3, 5, 7], [1, 1, 1], [0, 2, 0], [2, 2, 3]]\r\n",
    "print(scalar_mult(10, b))\r\n",
    "print(b)"
   ],
   "outputs": [
    {
     "output_type": "stream",
     "name": "stdout",
     "text": [
      "[[30 50 70]\n",
      " [10 10 10]\n",
      " [ 0 20  0]\n",
      " [20 20 30]]\n",
      "[[3, 5, 7], [1, 1, 1], [0, 2, 0], [2, 2, 3]]\n"
     ]
    }
   ],
   "metadata": {
    "ExecuteTime": {
     "end_time": "2021-06-07T12:55:47.182931Z",
     "start_time": "2021-06-07T12:55:47.178180Z"
    }
   }
  },
  {
   "cell_type": "markdown",
   "source": [
    "Write functions row_times_column and matrix_mult:"
   ],
   "metadata": {}
  },
  {
   "cell_type": "code",
   "execution_count": 44,
   "source": [
    "def row_times_column(m1, row, m2, column):\r\n",
    "    \"\"\"\r\n",
    "      >>> row_times_column([[1, 2], [3, 4]], 0, [[5, 6], [7, 8]], 0)\r\n",
    "      19\r\n",
    "      >>> row_times_column([[1, 2], [3, 4]], 0, [[5, 6], [7, 8]], 1)\r\n",
    "      22\r\n",
    "      >>> row_times_column([[1, 2], [3, 4]], 1, [[5, 6], [7, 8]], 0)\r\n",
    "      43\r\n",
    "      >>> row_times_column([[1, 2], [3, 4]], 1, [[5, 6], [7, 8]], 1)\r\n",
    "      50\r\n",
    "    \"\"\"\r\n",
    "    return np.dot(np.array(m1)[row,:], np.array(m2)[:,column])\r\n",
    "\r\n",
    "print(row_times_column([[1, 2], [3, 4]], 0, [[5, 6], [7, 8]], 0))\r\n",
    "print(row_times_column([[1, 2], [3, 4]], 1, [[5, 6], [7, 8]], 0))"
   ],
   "outputs": [
    {
     "output_type": "stream",
     "name": "stdout",
     "text": [
      "19\n",
      "43\n"
     ]
    }
   ],
   "metadata": {
    "ExecuteTime": {
     "end_time": "2021-06-07T12:55:52.098971Z",
     "start_time": "2021-06-07T12:55:52.095060Z"
    }
   }
  },
  {
   "cell_type": "code",
   "execution_count": 48,
   "source": [
    "def matrix_mult(m1, m2):\r\n",
    "    \"\"\"\r\n",
    "      >>> matrix_mult([[1, 2], [3,  4]], [[5, 6], [7, 8]])\r\n",
    "      [[19, 22], [43, 50]]\r\n",
    "      >>> matrix_mult([[1, 2, 3], [4,  5, 6]], [[7, 8], [9, 1], [2, 3]])\r\n",
    "      [[31, 19], [85, 55]]\r\n",
    "      >>> matrix_mult([[7, 8], [9, 1], [2, 3]], [[1, 2, 3], [4, 5, 6]])\r\n",
    "      [[39, 54, 69], [13, 23, 33], [14, 19, 24]]\r\n",
    "    \"\"\"\r\n",
    "    return (np.dot(m1,m2), np.matmul(m1,m2))\r\n",
    "\r\n",
    "print(matrix_mult([[1, 2, 3], [4,  5, 6]], [[7, 8], [9, 1], [2, 3]]))\r\n",
    "print(matrix_mult([[7, 8], [9, 1], [2, 3]], [[1, 2, 3], [4, 5, 6]]))"
   ],
   "outputs": [
    {
     "output_type": "stream",
     "name": "stdout",
     "text": [
      "(array([[31, 19],\n",
      "       [85, 55]]), array([[31, 19],\n",
      "       [85, 55]]))\n",
      "(array([[39, 54, 69],\n",
      "       [13, 23, 33],\n",
      "       [14, 19, 24]]), array([[39, 54, 69],\n",
      "       [13, 23, 33],\n",
      "       [14, 19, 24]]))\n"
     ]
    }
   ],
   "metadata": {
    "ExecuteTime": {
     "end_time": "2021-06-07T12:56:10.904256Z",
     "start_time": "2021-06-07T12:56:10.900955Z"
    }
   }
  },
  {
   "cell_type": "markdown",
   "source": [
    "Write a function transpose that takes a matrix as an argument and returns is transpose:"
   ],
   "metadata": {}
  },
  {
   "cell_type": "code",
   "execution_count": 36,
   "source": [
    "def transpose(m):\r\n",
    "    \"\"\"\r\n",
    "     >>> m = [[3, 4, 6]]\r\n",
    "     >>> transpose(m)\r\n",
    "     [[3], [4], [6]]\r\n",
    "     >>> m\r\n",
    "     [3, 4, 6]\r\n",
    "     >>> m = [[3, 4, 6], [1, 5, 9]]\r\n",
    "     >>> transpose(m)\r\n",
    "     [[3, 1], [4, 5], [6, 9]]\r\n",
    "   \"\"\"\r\n",
    "    return np.array(m).T.tolist()\r\n",
    "\r\n",
    "m = [[3, 4, 6], [1, 5, 9]]\r\n",
    "print(transpose(m))"
   ],
   "outputs": [
    {
     "output_type": "stream",
     "name": "stdout",
     "text": [
      "[[3, 1], [4, 5], [6, 9]]\n"
     ]
    }
   ],
   "metadata": {
    "ExecuteTime": {
     "end_time": "2021-06-07T12:56:20.280054Z",
     "start_time": "2021-06-07T12:56:20.276651Z"
    }
   }
  },
  {
   "cell_type": "code",
   "execution_count": null,
   "source": [],
   "outputs": [],
   "metadata": {}
  }
 ],
 "metadata": {
  "kernelspec": {
   "display_name": "Python 3",
   "language": "python",
   "name": "python3"
  },
  "language_info": {
   "codemirror_mode": {
    "name": "ipython",
    "version": 3
   },
   "file_extension": ".py",
   "mimetype": "text/x-python",
   "name": "python",
   "nbconvert_exporter": "python",
   "pygments_lexer": "ipython3",
   "version": "3.9.1"
  },
  "varInspector": {
   "cols": {
    "lenName": 16,
    "lenType": 16,
    "lenVar": 40
   },
   "kernels_config": {
    "python": {
     "delete_cmd_postfix": "",
     "delete_cmd_prefix": "del ",
     "library": "var_list.py",
     "varRefreshCmd": "print(var_dic_list())"
    },
    "r": {
     "delete_cmd_postfix": ") ",
     "delete_cmd_prefix": "rm(",
     "library": "var_list.r",
     "varRefreshCmd": "cat(var_dic_list()) "
    }
   },
   "types_to_exclude": [
    "module",
    "function",
    "builtin_function_or_method",
    "instance",
    "_Feature"
   ],
   "window_display": false
  }
 },
 "nbformat": 4,
 "nbformat_minor": 2
}