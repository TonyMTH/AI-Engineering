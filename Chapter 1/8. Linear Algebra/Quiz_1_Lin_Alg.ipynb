{
 "cells": [
  {
   "cell_type": "markdown",
   "source": [
    "## Linear Algebra Quiz #1\n",
    "\n",
    "![title](./img/1_0.jpeg)\n",
    "\n",
    "We strongly suggest working with numpy :)"
   ],
   "metadata": {}
  },
  {
   "cell_type": "code",
   "execution_count": 1,
   "source": [
    "import numpy as np"
   ],
   "outputs": [],
   "metadata": {}
  },
  {
   "cell_type": "markdown",
   "source": [
    "![title](./img/1_1.png)"
   ],
   "metadata": {}
  },
  {
   "cell_type": "code",
   "execution_count": 2,
   "source": [
    "# type a function that given a 3_dimensional vector it is able to calculate its magnitude\r\n",
    "\r\n",
    "def magnitude_3(a,b,c):\r\n",
    "    return np.linalg.norm([a,b,c])\r\n",
    "\r\n",
    "# type a function that given a n_dimensional vector it is able to calculate its magnitude\r\n",
    "# if you want to try this from python (not jupyter notebook) https://docs.python.org/3/library/argparse.html would be a good addition\r\n",
    "# if you are doing this from a jupyter notebook only, you can try to prompt the user for an input\r\n",
    "\r\n",
    "def magnitude_complete(*v):\r\n",
    "    return np.linalg.norm(v)\r\n",
    "\r\n",
    "print(magnitude_3(1,2,3))"
   ],
   "outputs": [
    {
     "output_type": "stream",
     "name": "stdout",
     "text": [
      "3.7416573867739413\n"
     ]
    }
   ],
   "metadata": {}
  },
  {
   "cell_type": "markdown",
   "source": [
    "uncomment the following line when you are ready to test"
   ],
   "metadata": {}
  },
  {
   "cell_type": "code",
   "execution_count": 3,
   "source": [
    "assert magnitude_complete(1) == 1.0\r\n",
    "assert magnitude_complete(1,2) >= 2.236\r\n",
    "assert magnitude_complete(1,2,3) >= 3.741\r\n",
    "assert magnitude_complete(1,2,3,4,5) >= 5.477\r\n",
    "assert magnitude_complete(1,2,3,4,5) >= 7.416"
   ],
   "outputs": [],
   "metadata": {}
  },
  {
   "cell_type": "markdown",
   "source": [
    "![title](./img/1_2.png)"
   ],
   "metadata": {}
  },
  {
   "cell_type": "code",
   "execution_count": 6,
   "source": [
    "def magnitude_vectors(a, b):\r\n",
    "    #checks that size is equal\r\n",
    "    assert len(a) == len(b)\r\n",
    "    \r\n",
    "    #returns the magnitude\r\n",
    "    return np.linalg.norm(np.array(a) + np.array(b))\r\n",
    "a=[5,1]\r\n",
    "b=[-4,-1]\r\n",
    "print(magnitude_vectors(a, b))"
   ],
   "outputs": [
    {
     "output_type": "stream",
     "name": "stdout",
     "text": [
      "1.0\n"
     ]
    }
   ],
   "metadata": {}
  },
  {
   "cell_type": "markdown",
   "source": [
    "![title](./img/1_3.png)"
   ],
   "metadata": {}
  },
  {
   "cell_type": "code",
   "execution_count": 7,
   "source": [
    "def direction_vectors(a, b):\r\n",
    "    #checks that size is equal\r\n",
    "    assert len(a) == len(b)\r\n",
    "    \r\n",
    "    #returns the angle. Hint: use the arctan\r\n",
    "    return np.arctan( np.dot(a,b) / magnitude_vectors(a, b) )\r\n",
    "    \r\n",
    "# or if you want to do it all in one batch:\r\n",
    "def magdir_vectors(a, b):\r\n",
    "    #checks that size is equal\r\n",
    "    \r\n",
    "    #returns the magnitude and direction \r\n",
    "    # as alternative, print them in a nicely printed format like:\r\n",
    "    X = magnitude_vectors(a, b)\r\n",
    "    Y = np.arctan( np.dot(a,b) / X )\r\n",
    "    print(\"The magnitude of \"+str(a)+\" + \"+str(b)+\" is \"+str(round(X,3))+\" and the direction is \"+str(round(Y,3)))\r\n",
    "\r\n",
    "a=[5,1]\r\n",
    "b=[-4,-1]\r\n",
    "magdir_vectors(a, b)"
   ],
   "outputs": [
    {
     "output_type": "stream",
     "name": "stdout",
     "text": [
      "The magnitude of [5, 1] + [-4, -1] is 1.0 and the direction is -1.523\n"
     ]
    }
   ],
   "metadata": {}
  },
  {
   "cell_type": "markdown",
   "source": [
    "![title](./img/1_4.png)\n",
    "- What is the magnitude of αx⃗? \n",
    "- If α>0, will the direction of the resulting vector change?\n",
    "- If α<0, will the direction of the resulting vector change?\n",
    "- If −1<α<1, will ∥αx⃗∥  increase, decrease or stay the same?"
   ],
   "metadata": {}
  },
  {
   "cell_type": "code",
   "execution_count": 17,
   "source": [
    "def alpha_magnitude(alpha, b):\r\n",
    "    \r\n",
    "    #returns the resulting magnitude,\r\n",
    "    # as alternative, just print it\r\n",
    "    return np.linalg.norm(alpha*np.array(b))\r\n",
    "x = [-4,-1]\r\n",
    "print( alpha_magnitude(200, x) )\r\n",
    "print( alpha_magnitude(-200, x) )\r\n",
    "print( alpha_magnitude(0.0001, x) )\r\n",
    "print( alpha_magnitude(0.8, x)  )\r\n",
    "print( alpha_magnitude(-0.8, x) )"
   ],
   "outputs": [
    {
     "output_type": "stream",
     "name": "stdout",
     "text": [
      "824.6211251235321\n",
      "824.6211251235321\n",
      "0.0004123105625617661\n",
      "3.298484500494129\n",
      "3.298484500494129\n"
     ]
    }
   ],
   "metadata": {}
  },
  {
   "cell_type": "markdown",
   "source": [
    "For the above exercise, write down in markdown or in a comment if the direction has changed and what has happened to the vector."
   ],
   "metadata": {}
  },
  {
   "cell_type": "markdown",
   "source": [
    "The direction didn't change with changing alpha but the magnitude did change."
   ],
   "metadata": {}
  },
  {
   "cell_type": "markdown",
   "source": [],
   "metadata": {}
  }
 ],
 "metadata": {
  "kernelspec": {
   "name": "python3",
   "display_name": "Python 3.8.11 64-bit ('strive': conda)"
  },
  "language_info": {
   "codemirror_mode": {
    "name": "ipython",
    "version": 3
   },
   "file_extension": ".py",
   "mimetype": "text/x-python",
   "name": "python",
   "nbconvert_exporter": "python",
   "pygments_lexer": "ipython3",
   "version": "3.8.11"
  },
  "varInspector": {
   "cols": {
    "lenName": 16,
    "lenType": 16,
    "lenVar": 40
   },
   "kernels_config": {
    "python": {
     "delete_cmd_postfix": "",
     "delete_cmd_prefix": "del ",
     "library": "var_list.py",
     "varRefreshCmd": "print(var_dic_list())"
    },
    "r": {
     "delete_cmd_postfix": ") ",
     "delete_cmd_prefix": "rm(",
     "library": "var_list.r",
     "varRefreshCmd": "cat(var_dic_list()) "
    }
   },
   "types_to_exclude": [
    "module",
    "function",
    "builtin_function_or_method",
    "instance",
    "_Feature"
   ],
   "window_display": false
  },
  "interpreter": {
   "hash": "2f9376a53bea67c1ed5cf17fe4a618ec842560647dcd0f876afebe1c5f60995f"
  }
 },
 "nbformat": 4,
 "nbformat_minor": 2
}