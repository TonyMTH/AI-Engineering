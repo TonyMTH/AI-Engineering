{
 "cells": [
  {
   "cell_type": "markdown",
   "source": [
    "## Linear Algebra Quiz #3\n",
    "\n",
    "![title](./img/3_0.jpeg)\n",
    "\n",
    "We strongly suggest working with numpy :)"
   ],
   "metadata": {}
  },
  {
   "cell_type": "code",
   "execution_count": 1,
   "source": [
    "import numpy as np\r\n",
    "import copy as cp"
   ],
   "outputs": [],
   "metadata": {}
  },
  {
   "cell_type": "markdown",
   "source": [
    "![title](./img/3_2.png)\n",
    "![title](./img/3_3.png)\n",
    "Create a program that can output\n",
    "\n",
    "- What is the value of element c23​ of Matrix C where C=A x B ?\n",
    "- What is the value of element c23​ of Matrix C where C=B x A ?"
   ],
   "metadata": {}
  },
  {
   "cell_type": "code",
   "execution_count": 2,
   "source": [
    "def get_c_ij(A,B,i,j):\r\n",
    "    C = np.matmul(A,B)\r\n",
    "    return C[i-1,j-1]\r\n",
    "\r\n",
    "A = [[3,1,2],[-5,4,1],[0,3,-8]]\r\n",
    "B = [[0,5,-1],[3,2,-1],[10,0.5,4]]\r\n",
    "i,j=2,3\r\n",
    "sol1 = get_c_ij(A,B,2,3)\r\n",
    "sol2 = get_c_ij(B,A,2,3)\r\n",
    "\r\n",
    "print(\"Value of c\"+str(i)+\"\"+str(j)+\" for matrix C=AxB: \"+str(sol1))\r\n",
    "print(\"Value of c\"+str(i)+\"\"+str(j)+\" for matrix C=BxA: \"+str(sol2))"
   ],
   "outputs": [
    {
     "output_type": "stream",
     "name": "stdout",
     "text": [
      "Value of c23 for matrix C=AxB: 5.0\n",
      "Value of c23 for matrix C=BxA: 16.0\n"
     ]
    }
   ],
   "metadata": {}
  },
  {
   "cell_type": "code",
   "execution_count": 3,
   "source": [
    "# okay numpy is great but... how would you inverse a matrix by hand?\r\n",
    "\r\n",
    "def inverse_matrix(A):\r\n",
    "    return np.linalg.inv(A)\r\n",
    "\r\n",
    "print(inverse_matrix(A))"
   ],
   "outputs": [
    {
     "output_type": "stream",
     "name": "stdout",
     "text": [
      "[[ 0.2        -0.08        0.04      ]\n",
      " [ 0.22857143  0.13714286  0.07428571]\n",
      " [ 0.08571429  0.05142857 -0.09714286]]\n"
     ]
    }
   ],
   "metadata": {}
  },
  {
   "cell_type": "markdown",
   "source": [
    "![title](./img/3_1.png)\n",
    "Create a program that can output\n",
    "\n",
    "- What is the value of the ijth element if i = 2 and j=3?\n",
    "- What is the value of the ijth element if i = 3 and j=1?"
   ],
   "metadata": {}
  },
  {
   "cell_type": "code",
   "execution_count": 4,
   "source": [
    "def get_d_ij(A,B,C,i,j):\r\n",
    "    C = np.array(A) + np.array(B) - np.array(C)\r\n",
    "    return C[i-1,j-1]\r\n",
    "\r\n",
    "A = [[3,0.6,4,-3],[-1.3,4,0,8.6],[7,0,-8,0.006]]\r\n",
    "B = [[3,-5.76,45,0],[2,-2,1.3,9],[-9,0,0,0]]\r\n",
    "C = [[0,1009,-66.7849,90],[0,5,4,-0.07],[-7.7,0,0,0]]\r\n",
    "i1,j1 = 2,3\r\n",
    "i2,j2 = 3,1\r\n",
    "\r\n",
    "sol1 = get_d_ij(A,B,C,i1,j1)\r\n",
    "sol2 = get_d_ij(A,B,C,i2,j2)\r\n",
    "\r\n",
    "print(\"Value of d\"+str(i1)+\"\"+str(j1)+\": \"+str(sol1))\r\n",
    "print(\"Value of d\"+str(i2)+\"\"+str(j2)+\": \"+str(sol2))"
   ],
   "outputs": [
    {
     "output_type": "stream",
     "name": "stdout",
     "text": [
      "Value of d23: -2.7\n",
      "Value of d31: 5.7\n"
     ]
    }
   ],
   "metadata": {}
  },
  {
   "cell_type": "code",
   "execution_count": 5,
   "source": [
    "# Just answer using code --> easy stuff!\r\n",
    "\r\n",
    "# Harder\r\n",
    "# Can you build a matrix solver that can do output the result given n matrices and a sequence of operations such as [add subtract multiply transpose?]\r\n",
    "#Some ideas on valid operations: Multiplication Addition Subtraction Inverstion Transposed.\r\n",
    "\r\n",
    "class NumpyMatrixSolver:\r\n",
    "  \r\n",
    "    def add(self,A,B):\r\n",
    "        return np.array(A) + np.array(B)\r\n",
    "\r\n",
    "    def subtract(self,A,B):\r\n",
    "        \r\n",
    "        return np.array(A) - np.array(B)\r\n",
    "    \r\n",
    "    def scalarMultiply(self,a,B):\r\n",
    "        return a*np.array(B)\r\n",
    "    \r\n",
    "    def matrixMultiply(self,A,B):\r\n",
    "        return np.matmul(A,B)\r\n",
    "    \r\n",
    "    def transpose(self,A):\r\n",
    "        return np.array(A).T\r\n",
    "\r\n",
    "class MyMatrixSolver:\r\n",
    "  \r\n",
    "    def add(self,A,B):\r\n",
    "        new_B= cp.deepcopy(B)\r\n",
    "        for m in range(len(A)):\r\n",
    "            for n in range(len(A[m])):\r\n",
    "                new_B[m][n] = A[m][n] + B[m][n]\r\n",
    "        return new_B\r\n",
    "\r\n",
    "    def subtract(self,A,B):\r\n",
    "        new_B= cp.deepcopy(B)\r\n",
    "        for m in range(len(A)):\r\n",
    "            for n in range(len(A[m])):\r\n",
    "                new_B[m][n] = A[m][n] - B[m][n]\r\n",
    "        return new_B\r\n",
    "    \r\n",
    "    def scalarMultiply(self,a,B):\r\n",
    "        new_B= cp.deepcopy(B)\r\n",
    "        for m in range(len(B)):\r\n",
    "            for n in range(len(B[m])):\r\n",
    "                new_B[m][n] = a*B[m][n]\r\n",
    "        return new_B\r\n",
    "    \r\n",
    "    def matrixMultiply(self,A,B):\r\n",
    "        B_t = self.transpose(B)\r\n",
    "        matrix = [[0]*len(B_t) for i in A]\r\n",
    "        for m in range(len(A)):\r\n",
    "            for n in range(len(B_t)):\r\n",
    "                for p in range(len(A[m])):\r\n",
    "                    matrix[m][n] += A[m][p]*B_t[n][p]\r\n",
    "        return matrix\r\n",
    "    \r\n",
    "    def transpose(self,B):\r\n",
    "        new_B= cp.deepcopy(B)\r\n",
    "        for m in range(len(B)):\r\n",
    "            for n in range(len(B[m])):\r\n",
    "                new_B[m][n] = B[n][m]\r\n",
    "        return new_B\r\n",
    " \r\n",
    "numpyMatrixSolver = NumpyMatrixSolver()\r\n",
    "myMatrixSolver = MyMatrixSolver()\r\n",
    "\r\n",
    "x1 = [[2,3],[1,4]]\r\n",
    "x2 = [[1,5],[0,-4]]\r\n",
    "\r\n",
    "print(\"addition\")\r\n",
    "print(numpyMatrixSolver.add(x1,x2))\r\n",
    "print(myMatrixSolver.add(x1,x2))\r\n",
    "\r\n",
    "print(\"subtraction\")\r\n",
    "print(numpyMatrixSolver.subtract(x1,x2))\r\n",
    "print(myMatrixSolver.subtract(x1,x2))\r\n",
    "\r\n",
    "print(\"scalarMultiply\")\r\n",
    "print(numpyMatrixSolver.scalarMultiply(3,x2))\r\n",
    "print(myMatrixSolver.scalarMultiply(3,x2))\r\n",
    "\r\n",
    "print(\"matrixMultiply\")\r\n",
    "print(numpyMatrixSolver.matrixMultiply(x1,x2))\r\n",
    "print(myMatrixSolver.matrixMultiply(x1,x2))\r\n",
    "\r\n",
    "print(\"transpose\")\r\n",
    "print(numpyMatrixSolver.transpose(x1))\r\n",
    "print(myMatrixSolver.transpose(x1))\r\n"
   ],
   "outputs": [
    {
     "output_type": "stream",
     "name": "stdout",
     "text": [
      "addition\n",
      "[[3 8]\n",
      " [1 0]]\n",
      "[[3, 8], [1, 0]]\n",
      "subtraction\n",
      "[[ 1 -2]\n",
      " [ 1  8]]\n",
      "[[1, -2], [1, 8]]\n",
      "scalarMultiply\n",
      "[[  3  15]\n",
      " [  0 -12]]\n",
      "[[3, 15], [0, -12]]\n",
      "matrixMultiply\n",
      "[[  2  -2]\n",
      " [  1 -11]]\n",
      "[[2, -2], [1, -11]]\n",
      "transpose\n",
      "[[2 1]\n",
      " [3 4]]\n",
      "[[2, 1], [3, 4]]\n"
     ]
    }
   ],
   "metadata": {}
  },
  {
   "cell_type": "markdown",
   "source": [
    "![title](./img/3_3.png)\n",
    "Create a program that can output\n",
    "- How many rows will C have?\n",
    "- How many columns will C have?\n",
    "- What will be the value of c13​?"
   ],
   "metadata": {}
  },
  {
   "cell_type": "code",
   "execution_count": 6,
   "source": [
    "def get_c_r_c_ij(A,B,i,j):\r\n",
    "    C = np.array(np.matmul(A,B),ndmin=2)\r\n",
    "\r\n",
    "    return C.shape[0], C.shape[1], C[i-1,j-1]\r\n",
    "\r\n",
    "A = [0.6,-15,2,5,98]\r\n",
    "B = [[2,2,-4],[9,-14,0],[13,-0.5,44],[1,9,4],[0,0,5]]\r\n",
    "i,j = 1,3\r\n",
    "\r\n",
    "sol = get_c_r_c_ij(A,B,i,j)\r\n",
    "\r\n",
    "print(\"No of rows of C: \",sol[0])\r\n",
    "print(\"No of columns of C: \",sol[1])\r\n",
    "print(\"Value of C\"+str(i)+\"\"+str(j)+\": \"+str(sol[1]))"
   ],
   "outputs": [
    {
     "output_type": "stream",
     "name": "stdout",
     "text": [
      "No of rows of C:  1\n",
      "No of columns of C:  3\n",
      "Value of C13: 3\n"
     ]
    }
   ],
   "metadata": {}
  }
 ],
 "metadata": {
  "kernelspec": {
   "name": "python3",
   "display_name": "Python 3.8.11 64-bit ('strive': conda)"
  },
  "language_info": {
   "codemirror_mode": {
    "name": "ipython",
    "version": 3
   },
   "file_extension": ".py",
   "mimetype": "text/x-python",
   "name": "python",
   "nbconvert_exporter": "python",
   "pygments_lexer": "ipython3",
   "version": "3.8.11"
  },
  "varInspector": {
   "cols": {
    "lenName": 16,
    "lenType": 16,
    "lenVar": 40
   },
   "kernels_config": {
    "python": {
     "delete_cmd_postfix": "",
     "delete_cmd_prefix": "del ",
     "library": "var_list.py",
     "varRefreshCmd": "print(var_dic_list())"
    },
    "r": {
     "delete_cmd_postfix": ") ",
     "delete_cmd_prefix": "rm(",
     "library": "var_list.r",
     "varRefreshCmd": "cat(var_dic_list()) "
    }
   },
   "types_to_exclude": [
    "module",
    "function",
    "builtin_function_or_method",
    "instance",
    "_Feature"
   ],
   "window_display": false
  },
  "interpreter": {
   "hash": "2f9376a53bea67c1ed5cf17fe4a618ec842560647dcd0f876afebe1c5f60995f"
  }
 },
 "nbformat": 4,
 "nbformat_minor": 2
}