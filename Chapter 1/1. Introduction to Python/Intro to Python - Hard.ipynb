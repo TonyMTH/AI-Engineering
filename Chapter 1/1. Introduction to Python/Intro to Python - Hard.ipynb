{
 "cells": [
  {
   "cell_type": "markdown",
   "source": [
    "Here you have a collection of guided exercises for the first class on Python. <br>\n",
    "The exercises are divided by topic, following the topics reviewed during the theory session, and for each topic you have some mandatory exercises, and other optional exercises, which you are invited to do if you still have time after the mandatory exercises. <br>\n",
    "\n",
    "Remember that you have 5 hours to solve these exercises, after which we will review the most interesting exercises together. If you don't finish all the exercises, you can work on them tonightor tomorrow. \n",
    "\n",
    "At the end of the class, we will upload the code with the solutions of the exercises so that you can review them again if needed. If you still have not finished some exercises, try to do them first by yourself, before taking a look at the solutions: you are doing these exercises for yourself, so it is always the best to do them your way first, as it is the fastest way to learn!"
   ],
   "metadata": {}
  },
  {
   "cell_type": "markdown",
   "source": [
    "**Exercise 4.1 (🌶️🌶️):** Define a function that receives a string parameter, and returns an integer indicating the count for all the letters of the alphabet that there are in the string. The expected output format is in a **dictionary** with the relevant keys and values. The capital version of a lower case letter is considered to be the same letter.\n",
    "\n",
    "This should sound quite familiar, try to do it without looking at your old code ;)\n",
    "\n",
    "**What is the challenge?**: Don't code 27 times the same line of code, learn how to do things that scale well."
   ],
   "metadata": {}
  },
  {
   "cell_type": "code",
   "execution_count": 16,
   "source": [
    "import collections\r\n",
    "\r\n",
    "def count_letters(string):\r\n",
    "    return collections.Counter(string)\r\n",
    "\r\n",
    "dict(count_letters(\"something great\"))"
   ],
   "outputs": [
    {
     "output_type": "execute_result",
     "data": {
      "text/plain": [
       "{'s': 1,\n",
       " 'o': 1,\n",
       " 'm': 1,\n",
       " 'e': 2,\n",
       " 't': 2,\n",
       " 'h': 1,\n",
       " 'i': 1,\n",
       " 'n': 1,\n",
       " 'g': 2,\n",
       " ' ': 1,\n",
       " 'r': 1,\n",
       " 'a': 1}"
      ]
     },
     "metadata": {},
     "execution_count": 16
    }
   ],
   "metadata": {}
  },
  {
   "cell_type": "markdown",
   "source": [
    "**Exercise 5.6 (🌶️🌶️):** A prime number is a positive integer that is dividable by exactly two different numbers, namely 1 and itself. The lowest (and only even) prime number is 2. The first 10 prime numbers are 2, 3, 5, 7, 11, 13, 17, 19, 23, and 29. Write a function that returns a **list off all prime numbers** below a given number.\n",
    "\n",
    "Hint: In a loop where you test the possible dividers of the number, you can conclude that the number is not prime as soon as you encounter a number other than 1 or the number itself that divides it. However, you can *only* conclude that it actually *is* prime after you have tested all possible dividers.\n",
    "\n",
    "**What is the challenge here? You have to try to optimize your code and try to make it work for the highest prime number you can encounter before you run out of memory. For low numbers you should know how to do it already**"
   ],
   "metadata": {}
  },
  {
   "cell_type": "code",
   "execution_count": 17,
   "source": [
    "def getPrimes(max_num):\r\n",
    "    n=0\r\n",
    "    primes = [2,3]\r\n",
    "    if max_num < 2:\r\n",
    "        return []\r\n",
    "    if max_num == 2:\r\n",
    "        return [2]\r\n",
    "    if max_num >= 3 and max_num < 5:\r\n",
    "        return [2,3]\r\n",
    "    \r\n",
    "    while True:\r\n",
    "        n += 1\r\n",
    "\r\n",
    "        prime1 = 6*n - 1\r\n",
    "        if prime1 > max_num:\r\n",
    "            break\r\n",
    "        prime1Checker = True\r\n",
    "        for i in range(5,prime1):\r\n",
    "            if prime1 % i == 0 and prime1 != i:\r\n",
    "                prime1Checker = False\r\n",
    "                break\r\n",
    "        if prime1Checker:\r\n",
    "            primes.append(prime1)\r\n",
    "\r\n",
    "        prime2 = 6*n + 1\r\n",
    "        if prime2 > max_num:\r\n",
    "            break\r\n",
    "        prime2Checker = True\r\n",
    "        for i in range(5,prime2):\r\n",
    "            if prime2 % i == 0 and prime1 != i:\r\n",
    "                prime2Checker = False\r\n",
    "                break\r\n",
    "        if prime2Checker:\r\n",
    "            primes.append(prime2)\r\n",
    "    return primes\r\n",
    "\r\n",
    "getPrimes(29)"
   ],
   "outputs": [
    {
     "output_type": "execute_result",
     "data": {
      "text/plain": [
       "[2, 3, 5, 7, 11, 13, 17, 19, 23, 29]"
      ]
     },
     "metadata": {},
     "execution_count": 17
    }
   ],
   "metadata": {}
  },
  {
   "cell_type": "markdown",
   "source": [
    "**Exercise 5.7 (🌶️🌶️):** Write a function that prints all integers between the parameters `a` and `b` that can be written as the sum of two squares. Produce output in the form of `z = x**2 + y**2`, e.g., `58 = 3**2 + 7**2`. If a number occurs on the list with multiple *different* ways of writing it as the sum of two squares, that is acceptable. "
   ],
   "metadata": {}
  },
  {
   "cell_type": "code",
   "execution_count": 19,
   "source": [
    "import math\n",
    "def sum_squares(num):\n",
    "    \"\"\"\n",
    "    2 = 1**2 + 1**2\n",
    "    4 = 0**2 + 2**2\n",
    "    4 = 2**2 + 0**2\n",
    "    5 = 1**2 + 2**2\n",
    "    5 = 2**2 + 1**2\n",
    "    8 = 2**2 + 2**2\n",
    "    9 = 0**2 + 3**2\n",
    "    9 = 3**2 + 0**2\n",
    "    \"\"\"\n",
    "    i=0\n",
    "    limit = math.floor(math.sqrt(num))+1\n",
    "    while i <= limit:\n",
    "        j=0\n",
    "        while j <= limit:\n",
    "            if i**2 + j**2 == num:\n",
    "                print(str(num)+\" = \"+str(i)+\"**2 + \"+str(j)+\"**2\")\n",
    "            if i**2 + j**2 > num:\n",
    "                break\n",
    "            j += 1\n",
    "        i+=1\n",
    "    return\n",
    "\n",
    "sum_squares(9000)"
   ],
   "outputs": [
    {
     "output_type": "stream",
     "name": "stdout",
     "text": [
      "9 = 0**2 + 3**2\n",
      "9 = 3**2 + 0**2\n"
     ]
    }
   ],
   "metadata": {}
  },
  {
   "cell_type": "code",
   "execution_count": null,
   "source": [],
   "outputs": [],
   "metadata": {}
  }
 ],
 "metadata": {
  "interpreter": {
   "hash": "2f9376a53bea67c1ed5cf17fe4a618ec842560647dcd0f876afebe1c5f60995f"
  },
  "kernelspec": {
   "display_name": "Python 3",
   "language": "python",
   "name": "python3"
  },
  "language_info": {
   "codemirror_mode": {
    "name": "ipython",
    "version": 3
   },
   "file_extension": ".py",
   "mimetype": "text/x-python",
   "name": "python",
   "nbconvert_exporter": "python",
   "pygments_lexer": "ipython3",
   "version": "3.8.8"
  }
 },
 "nbformat": 4,
 "nbformat_minor": 4
}