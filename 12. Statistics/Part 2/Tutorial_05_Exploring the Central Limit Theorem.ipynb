{
 "cells": [
  {
   "cell_type": "code",
   "execution_count": 1,
   "source": [
    "%matplotlib inline\r\n",
    "import numpy as np\r\n",
    "import pandas as pd\r\n",
    "import matplotlib.pyplot as plt\r\n",
    "import seaborn as sns\r\n",
    "from scipy import stats\r\n",
    "from __future__ import division\r\n",
    "\r\n",
    "# turn of data table rendering\r\n",
    "pd.set_option('display.notebook_repr_html', False)\r\n",
    "\r\n",
    "sns.set_palette(['#00A99D', '#F5CA0C', '#B6129F', '#76620C', '#095C57'])\r\n",
    "np.version.full_version"
   ],
   "outputs": [
    {
     "output_type": "execute_result",
     "data": {
      "text/plain": [
       "'1.21.2'"
      ]
     },
     "metadata": {},
     "execution_count": 1
    }
   ],
   "metadata": {}
  },
  {
   "cell_type": "markdown",
   "source": [
    "## Data\n",
    "We take as our population a tetrahedral (four sided) die."
   ],
   "metadata": {}
  },
  {
   "cell_type": "code",
   "execution_count": 2,
   "source": [
    "# One throw leads to one of four outcomes\r\n",
    "data = np.array([1.0, 2.0, 3.0, 4.0])\r\n",
    "data"
   ],
   "outputs": [
    {
     "output_type": "execute_result",
     "data": {
      "text/plain": [
       "array([1., 2., 3., 4.])"
      ]
     },
     "metadata": {},
     "execution_count": 2
    }
   ],
   "metadata": {}
  },
  {
   "cell_type": "code",
   "execution_count": 51,
   "source": [
    "# Our data has a perfect uniform distribution\r\n",
    "p=sns.barplot(x=list(range(len(data))),y=data)\r\n"
   ],
   "outputs": [
    {
     "output_type": "display_data",
     "data": {
      "image/png": "[encoded data removed]",
      "text/plain": [
       "<Figure size 432x288 with 1 Axes>"
      ]
     },
     "metadata": {
      "needs_background": "light"
     }
    }
   ],
   "metadata": {}
  },
  {
   "cell_type": "code",
   "execution_count": 7,
   "source": [
    "# Calculate the population mean\r\n",
    "population_mu = data.mean()\r\n",
    "population_mu"
   ],
   "outputs": [
    {
     "output_type": "execute_result",
     "data": {
      "text/plain": [
       "2.5"
      ]
     },
     "metadata": {},
     "execution_count": 7
    }
   ],
   "metadata": {}
  },
  {
   "cell_type": "code",
   "execution_count": 10,
   "source": [
    "# Calculate the standard deviation of the population\r\n",
    "population_sigma = data.std(ddof=0)\r\n",
    "population_sigma"
   ],
   "outputs": [
    {
     "output_type": "execute_result",
     "data": {
      "text/plain": [
       "1.118033988749895"
      ]
     },
     "metadata": {},
     "execution_count": 10
    }
   ],
   "metadata": {}
  },
  {
   "cell_type": "markdown",
   "source": [
    "## Illustration of the Central Limit Theorem\n",
    "The Central Limit Theorem (CLT) states, if we take the mean of a large number of independent samples, the sampling distribution will aproximate a normal distribution, regardless of the shape of the underlying distribution. Let's illustrate this by sampling the mean of two throws ($n=2$) with the tetrahedral die."
   ],
   "metadata": {}
  },
  {
   "cell_type": "code",
   "execution_count": 12,
   "source": [
    "# Let's find out the number of possible outcomes with a sample size 2\r\n",
    "possible_outcomes = 4**2\r\n",
    "possible_outcomes"
   ],
   "outputs": [
    {
     "output_type": "execute_result",
     "data": {
      "text/plain": [
       "16"
      ]
     },
     "metadata": {},
     "execution_count": 12
    }
   ],
   "metadata": {}
  },
  {
   "cell_type": "code",
   "execution_count": 16,
   "source": [
    "# Create a dataframe with the mean of all possible outcomes\r\n",
    "mean_outcome_matrix = pd.DataFrame(index=data, dtype='float64', columns=data )\r\n",
    "\r\n",
    "for x in data:\r\n",
    "    for y in data:\r\n",
    "        mean_outcome_matrix[x][y] = np.mean([x,y])\r\n",
    "print(mean_outcome_matrix)\r\n",
    "# Below you see a heatmap of the mean of all possible outcomes\r\n",
    "p=sns.heatmap(mean_outcome_matrix, annot=True)"
   ],
   "outputs": [
    {
     "output_type": "stream",
     "name": "stdout",
     "text": [
      "     1.0  2.0  3.0  4.0\n",
      "1.0  1.0  1.5  2.0  2.5\n",
      "2.0  1.5  2.0  2.5  3.0\n",
      "3.0  2.0  2.5  3.0  3.5\n",
      "4.0  2.5  3.0  3.5  4.0\n"
     ]
    },
    {
     "output_type": "display_data",
     "data": {
      "image/png": "[encoded data removed]",
      "text/plain": [
       "<Figure size 432x288 with 2 Axes>"
      ]
     },
     "metadata": {
      "needs_background": "light"
     }
    }
   ],
   "metadata": {}
  },
  {
   "cell_type": "code",
   "execution_count": 19,
   "source": [
    "# Now get the mean of all possible mean outcomes\r\n",
    "sample_mean = mean_outcome_matrix.mean().mean()\r\n",
    "sample_mean"
   ],
   "outputs": [
    {
     "output_type": "execute_result",
     "data": {
      "text/plain": [
       "2.5"
      ]
     },
     "metadata": {},
     "execution_count": 19
    }
   ],
   "metadata": {}
  },
  {
   "cell_type": "code",
   "execution_count": 20,
   "source": [
    "# Note the mean of all possible mean outcomes \r\n",
    "# is exactly the same as the population mean!\r\n",
    "population_mu == sample_mean"
   ],
   "outputs": [
    {
     "output_type": "execute_result",
     "data": {
      "text/plain": [
       "True"
      ]
     },
     "metadata": {},
     "execution_count": 20
    }
   ],
   "metadata": {}
  },
  {
   "cell_type": "code",
   "execution_count": 21,
   "source": [
    "# Below a plot the sampling distribution of all possible mean outcomes\r\n",
    "# Note that it's perfectly normal\r\n",
    "diff_val_count = mean_outcome_matrix.stack().value_counts().count()\r\n",
    "p=sns.distplot(mean_outcome_matrix.stack(), bins=diff_val_count)"
   ],
   "outputs": [
    {
     "output_type": "stream",
     "name": "stderr",
     "text": [
      "C:\\Users\\Asus\\.conda\\envs\\strive\\lib\\site-packages\\seaborn\\distributions.py:2619: FutureWarning: `distplot` is a deprecated function and will be removed in a future version. Please adapt your code to use either `displot` (a figure-level function with similar flexibility) or `histplot` (an axes-level function for histograms).\n",
      "  warnings.warn(msg, FutureWarning)\n"
     ]
    },
    {
     "output_type": "display_data",
     "data": {
      "image/png": "[encoded data removed]",
      "text/plain": [
       "<Figure size 432x288 with 1 Axes>"
      ]
     },
     "metadata": {
      "needs_background": "light"
     }
    }
   ],
   "metadata": {}
  },
  {
   "cell_type": "markdown",
   "source": [
    "## The Standard Error\n",
    "The standard deviation of the sampling distribution is called the standard Error (SE)."
   ],
   "metadata": {}
  },
  {
   "cell_type": "code",
   "execution_count": 24,
   "source": [
    "# Calculate the standard error (SE) of all possible mean outcomes\r\n",
    "mean_outcomes_SE = mean_outcome_matrix.stack().std(ddof=0)\r\n",
    "mean_outcomes_SE"
   ],
   "outputs": [
    {
     "output_type": "execute_result",
     "data": {
      "text/plain": [
       "0.7905694150420949"
      ]
     },
     "metadata": {},
     "execution_count": 24
    }
   ],
   "metadata": {}
  },
  {
   "cell_type": "code",
   "execution_count": 25,
   "source": [
    "# If we now calculate the ratio of sigma to SE\r\n",
    "# we see it is the square root of 2\r\n",
    "ratio_sigma_SE = population_sigma / mean_outcomes_SE\r\n",
    "ratio_sigma_SE"
   ],
   "outputs": [
    {
     "output_type": "execute_result",
     "data": {
      "text/plain": [
       "1.414213562373095"
      ]
     },
     "metadata": {},
     "execution_count": 25
    }
   ],
   "metadata": {}
  },
  {
   "cell_type": "code",
   "execution_count": 26,
   "source": [
    "# So if we square this ratio we get... our sample size (approximately)\r\n",
    "ratio_sigma_SE ** 2"
   ],
   "outputs": [
    {
     "output_type": "execute_result",
     "data": {
      "text/plain": [
       "1.9999999999999996"
      ]
     },
     "metadata": {},
     "execution_count": 26
    }
   ],
   "metadata": {}
  },
  {
   "cell_type": "markdown",
   "source": [
    "This means that sigma $\\sigma$ divided by the standard error $SE$ is the square root of our sample size $n$:\n",
    "\n",
    "$$\\frac{\\sigma}{SE}= \\sqrt{n}$$\n",
    "\n",
    "Also means we can calculate the Standard Error as follows:\n",
    "\n",
    "$$SE=\\frac{\\sigma}{\\sqrt{n}}$$\n"
   ],
   "metadata": {}
  },
  {
   "cell_type": "markdown",
   "source": [
    "## Increasing the sample size\n",
    "When we take a larger sample to calculate the sampling mean, the resulting distribution will become more normal and skinny. Also, the mean of the sampling distribution will match up more with the population mean. This effect is illustrated in the example below."
   ],
   "metadata": {}
  },
  {
   "cell_type": "code",
   "execution_count": 55,
   "source": [
    "# Let's simulate a population of a 1000 throws with a weighted \r\n",
    "# tetrahedral die (with a 40% chance of throwing a 4)\r\n",
    "# The result is a negatively skewed distribution\r\n",
    "non_normal_data = np.random.choice(data, 1000, p=[0.10, .20, .30, .4])\r\n",
    "p=sns.barplot(data=non_normal_data)\r\n",
    "\r\n",
    "#p=sns.barplot(x=list(range(len(non_normal_data))),y=non_normal_data)"
   ],
   "outputs": [
    {
     "output_type": "display_data",
     "data": {
      "image/png": "[encoded data removed]",
      "text/plain": [
       "<Figure size 432x288 with 1 Axes>"
      ]
     },
     "metadata": {
      "needs_background": "light"
     }
    }
   ],
   "metadata": {}
  },
  {
   "cell_type": "code",
   "execution_count": 56,
   "source": [
    "# Check out the mean of the non normal distribution\r\n",
    "non_normal_data.mean()"
   ],
   "outputs": [
    {
     "output_type": "execute_result",
     "data": {
      "text/plain": [
       "2.932"
      ]
     },
     "metadata": {},
     "execution_count": 56
    }
   ],
   "metadata": {}
  },
  {
   "cell_type": "code",
   "execution_count": 57,
   "source": [
    "# In this example we plot four sampling distributions of different\r\n",
    "# sizes to show the effect of the increasing sample size.\r\n",
    "# Note thst the distribution is getting more normal and skinny\r\n",
    "# with an increased sample size.\r\n",
    "f, (ax1, ax2) = plt.subplots(2, 2, sharex=True)\r\n",
    "axes = [ax1[0], ax1[1], ax2[0], ax2[1]]\r\n",
    "ax = 0\r\n",
    "\r\n",
    "for sample_size in [2,5,20,100]:\r\n",
    "    sampling_distribution = []\r\n",
    "    for i in range(100):\r\n",
    "        mean_sample = np.random.choice(non_normal_data, sample_size).mean()\r\n",
    "        sampling_distribution.append(mean_sample)\r\n",
    "\r\n",
    "    p=sns.distplot(sampling_distribution, ax=axes[ax], \r\n",
    "                   axlabel=str(sample_size) + ' samples, $\\\\bar{x}=$' + \r\n",
    "                   str(np.mean(sampling_distribution)))\r\n",
    "    ax += 1  "
   ],
   "outputs": [
    {
     "output_type": "stream",
     "name": "stderr",
     "text": [
      "C:\\Users\\Asus\\.conda\\envs\\strive\\lib\\site-packages\\seaborn\\distributions.py:2619: FutureWarning: `distplot` is a deprecated function and will be removed in a future version. Please adapt your code to use either `displot` (a figure-level function with similar flexibility) or `histplot` (an axes-level function for histograms).\n",
      "  warnings.warn(msg, FutureWarning)\n",
      "C:\\Users\\Asus\\.conda\\envs\\strive\\lib\\site-packages\\seaborn\\distributions.py:2619: FutureWarning: `distplot` is a deprecated function and will be removed in a future version. Please adapt your code to use either `displot` (a figure-level function with similar flexibility) or `histplot` (an axes-level function for histograms).\n",
      "  warnings.warn(msg, FutureWarning)\n",
      "C:\\Users\\Asus\\.conda\\envs\\strive\\lib\\site-packages\\seaborn\\distributions.py:2619: FutureWarning: `distplot` is a deprecated function and will be removed in a future version. Please adapt your code to use either `displot` (a figure-level function with similar flexibility) or `histplot` (an axes-level function for histograms).\n",
      "  warnings.warn(msg, FutureWarning)\n",
      "C:\\Users\\Asus\\.conda\\envs\\strive\\lib\\site-packages\\seaborn\\distributions.py:2619: FutureWarning: `distplot` is a deprecated function and will be removed in a future version. Please adapt your code to use either `displot` (a figure-level function with similar flexibility) or `histplot` (an axes-level function for histograms).\n",
      "  warnings.warn(msg, FutureWarning)\n"
     ]
    },
    {
     "output_type": "display_data",
     "data": {
      "image/png": "[encoded data removed]",
      "text/plain": [
       "<Figure size 432x288 with 4 Axes>"
      ]
     },
     "metadata": {
      "needs_background": "light"
     }
    }
   ],
   "metadata": {}
  },
  {
   "cell_type": "code",
   "execution_count": null,
   "source": [],
   "outputs": [],
   "metadata": {}
  }
 ],
 "metadata": {
  "kernelspec": {
   "name": "python3",
   "display_name": "Python 3.8.11 64-bit ('strive': conda)"
  },
  "language_info": {
   "codemirror_mode": {
    "name": "ipython",
    "version": 3
   },
   "file_extension": ".py",
   "mimetype": "text/x-python",
   "name": "python",
   "nbconvert_exporter": "python",
   "pygments_lexer": "ipython3",
   "version": "3.8.11"
  },
  "interpreter": {
   "hash": "2f9376a53bea67c1ed5cf17fe4a618ec842560647dcd0f876afebe1c5f60995f"
  }
 },
 "nbformat": 4,
 "nbformat_minor": 1
}