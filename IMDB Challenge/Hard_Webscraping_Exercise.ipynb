{
 "cells": [
  {
   "cell_type": "markdown",
   "source": [
    "# API REQUEST"
   ],
   "metadata": {}
  },
  {
   "cell_type": "code",
   "execution_count": 4,
   "source": [
    "from selenium import webdriver\r\n",
    "import pandas as pd\r\n",
    "from dateutil.parser import parse\r\n",
    "import datetime"
   ],
   "outputs": [],
   "metadata": {}
  },
  {
   "cell_type": "code",
   "execution_count": 75,
   "source": [
    "my_driver = \"chromedriver.exe\"\r\n",
    "\r\n",
    "op = webdriver.ChromeOptions()\r\n",
    "op.add_argument('headless')\r\n",
    "\r\n",
    "url = 'https://www.imdb.com/search/title/?genres=action&groups=top_1000&sort=user_rating,desc&view=simple'\r\n",
    "driver = webdriver.Chrome(my_driver,options=op)\r\n",
    "driver.implicitly_wait(3)\r\n",
    "driver.get(url)\r\n",
    "content =  driver.find_elements_by_class_name('lister-item')\r\n",
    "\r\n",
    "#collect in dictionary\r\n",
    "content_dict = {'title':[],'rating':[],'total_votes':[],'release_date':[],'duration':[],'description':[],'genres':[],'casts':[],'director':[]}\r\n",
    "\r\n",
    "#for each item do:\r\n",
    "for tem_i in range(len(content)):\r\n",
    "\r\n",
    "    print(\"====item: \"+str(tem_i)+\"===\")\r\n",
    "\r\n",
    "    #back to base url\r\n",
    "    url = 'https://www.imdb.com/search/title/?genres=action&groups=top_1000&sort=user_rating,desc&view=simple'\r\n",
    "    driver = webdriver.Chrome(my_driver,options=op)\r\n",
    "    driver.implicitly_wait(1)\r\n",
    "    driver.get(url)\r\n",
    "\r\n",
    "    #title\r\n",
    "    title_year =  content[tem_i].find_element_by_class_name('col-title')\r\n",
    "    title = title_year.find_element_by_tag_name('a')\r\n",
    "    title = title.text\r\n",
    "    content_dict['title'].append( title )\r\n",
    "\r\n",
    "    #rating\r\n",
    "    rating =  content[tem_i].find_element_by_class_name('col-imdb-rating')\r\n",
    "    rating = rating.find_element_by_tag_name('strong')\r\n",
    "    rating = rating.get_attribute(\"title\")\r\n",
    "    content_dict['rating'].append( rating.split()[0] )\r\n",
    "    content_dict['total_votes'].append( rating.split()[3] )\r\n",
    "\r\n",
    "    #Follow the link of movie i\r\n",
    "    image =  content[tem_i].find_element_by_class_name('lister-item-image')\r\n",
    "    image_a = image.find_element_by_tag_name('a')\r\n",
    "    url = image_a.get_attribute(\"href\")\r\n",
    "\r\n",
    "    driver = webdriver.Chrome(my_driver,options=op)\r\n",
    "    driver.implicitly_wait(1)\r\n",
    "    driver.get(url)\r\n",
    "\r\n",
    "    #general_info\r\n",
    "    general_info = driver.find_element_by_xpath('.//div[@class=\"TitleMainBelowTheFoldGroup__TitleMainPrimaryGroup-sc-1vpywau-1 btXiqv ipc-page-grid__item ipc-page-grid__item--span-2\"]')\r\n",
    "\r\n",
    "\r\n",
    "    #release date\r\n",
    "    release_date = general_info.find_element_by_xpath('.//section[@data-testid=\"Details\"]')\r\n",
    "    release_date = release_date.find_element_by_xpath('.//div[@data-testid=\"title-details-section\"]')\r\n",
    "    release_date = release_date.find_element_by_xpath('.//a[@class=\"ipc-metadata-list-item__list-content-item ipc-metadata-list-item__list-content-item--link\"]')\r\n",
    "    content_dict['release_date'].append( release_date.text.split('(')[0] )\r\n",
    "\r\n",
    "    #duration\r\n",
    "    duration = general_info.find_element_by_xpath('.//section[@data-testid=\"TechSpecs\"]')\r\n",
    "    duration = duration.find_element_by_xpath('.//div[@data-testid=\"title-techspecs-section\"]')\r\n",
    "    duration = duration.find_element_by_xpath('.//li[@data-testid=\"title-techspec_runtime\"]')\r\n",
    "    duration = duration.find_element_by_xpath('.//li[@class=\"ipc-inline-list__item\"]')\r\n",
    "    content_dict['duration'].append( duration.text )\r\n",
    "\r\n",
    "    #description\r\n",
    "    description = general_info.find_element_by_xpath('.//section[@data-testid=\"Storyline\"]')\r\n",
    "    description = description.find_element_by_xpath('.//div[@class=\"Storyline__StorylineWrapper-sc-1b58ttw-0 iywpty\"]')\r\n",
    "    description = description.find_element_by_xpath('.//div[@data-testid=\"storyline-plot-summary\"]')\r\n",
    "    description = description.find_element_by_xpath('.//div[@class=\"ipc-html-content ipc-html-content--base\"]')\r\n",
    "    content_dict['description'].append( description.text )\r\n",
    "\r\n",
    "    #genre\r\n",
    "    genre = general_info.find_element_by_xpath('.//section[@data-testid=\"Storyline\"]')\r\n",
    "    genre = genre.find_element_by_xpath('.//div[@class=\"Storyline__StorylineWrapper-sc-1b58ttw-0 iywpty\"]')\r\n",
    "    genre = genre.find_element_by_xpath('.//li[@data-testid=\"storyline-genres\"]')\r\n",
    "    genre = genre.find_elements_by_xpath('.//li[@class=\"ipc-inline-list__item\"]')\r\n",
    "    genres = [i.text for i in genre]\r\n",
    "    content_dict['genres'].append( genres )\r\n",
    "\r\n",
    "    #cast\r\n",
    "    cast = general_info.find_element_by_xpath('.//section[@data-testid=\"title-cast\"]')\r\n",
    "    cast = cast.find_element_by_xpath('.//div[@class=\"ipc-shoveler title-cast__grid\"]')\r\n",
    "    cast = cast.find_element_by_xpath('.//div[@class=\"ipc-sub-grid ipc-sub-grid--page-span-2 ipc-sub-grid--wraps-at-above-l ipc-shoveler__grid\"]')\r\n",
    "    cast = cast.find_elements_by_xpath('.//div[@data-testid=\"title-cast-item\"]')\r\n",
    "    casts = [i.find_element_by_xpath('.//a[@data-testid=\"title-cast-item__actor\"]').text for i in cast]\r\n",
    "    content_dict['casts'].append( casts )\r\n",
    "\r\n",
    "    #director\r\n",
    "    director = general_info.find_element_by_xpath('.//section[@data-testid=\"title-cast\"]')\r\n",
    "    director = director.find_element_by_xpath('.//ul[@class=\"ipc-metadata-list ipc-metadata-list--dividers-all StyledComponents__CastMetaDataList-y9ygcu-10 cbPPkN ipc-metadata-list--base\"]')\r\n",
    "    director = director.find_elements_by_tag_name('li')[0]\r\n",
    "    director = director.find_element_by_xpath('.//a[@class=\"ipc-metadata-list-item__list-content-item ipc-metadata-list-item__list-content-item--link\"]')\r\n",
    "    content_dict['director'].append( director.text )\r\n",
    "\r\n",
    "print(content_dict.keys())\r\n",
    "\r\n"
   ],
   "outputs": [
    {
     "output_type": "stream",
     "name": "stdout",
     "text": [
      "====0===\n",
      "2h 32min\n",
      "====1===\n",
      "3h 21min\n",
      "====2===\n",
      "2h 28min\n",
      "====3===\n",
      "2h 15min\n",
      "{'title': ['The Dark Knight', 'The Lord of the Rings: The Return of the King', 'Inception', 'Shershaah'], 'rating': ['9', '8.9', '8.8', '8.8'], 'total_votes': ['2,421,273', '1,711,081', '2,172,346', '102,470'], 'release_date': ['July 18, 2008 ', 'December 17, 2003 ', 'July 16, 2010 ', 'August 12, 2021 '], 'duration': ['2h 32min', '3h 21min', '2h 28min', '2h 15min'], 'description': ['Set within a year after the events of Batman Begins (2005), Batman, Lieutenant James Gordon, and new District Attorney Harvey Dent successfully begin to round up the criminals that plague Gotham City, until a mysterious and sadistic criminal mastermind known only as \"The Joker\" appears in Gotham, creating a new wave of chaos. Batman\\'s struggle against The Joker becomes deeply personal, forcing him to \"confront everything he believes\" and improve his technology to stop him. A love triangle develops between Bruce Wayne, Dent, and Rachel Dawes. —Leon Lombardi', \"The final confrontation between the forces of good and evil fighting for control of the future of Middle-earth. Frodo and Sam reach Mordor in their quest to destroy the One Ring, while Aragorn leads the forces of good against Sauron's evil army at the stone city of Minas Tirith. —Jwelch5742\", \"Dom Cobb is a skilled thief, the absolute best in the dangerous art of extraction, stealing valuable secrets from deep within the subconscious during the dream state, when the mind is at its most vulnerable. Cobb's rare ability has made him a coveted player in this treacherous new world of corporate espionage, but it has also made him an international fugitive and cost him everything he has ever loved. Now Cobb is being offered a chance at redemption. One last job could give him his life back but only if he can accomplish the impossible, inception. Instead of the perfect heist, Cobb and his team of specialists have to pull off the reverse: their task is not to steal an idea, but to plant one. If they succeed, it could be the perfect crime. But no amount of careful planning or expertise can prepare the team for the dangerous enemy that seems to predict their every move. An enemy that only Cobb could have seen coming.\", \"Based on the life of Captain Vikram Batra who was an officer of the Indian Army, posthumously awarded with the Param Vir Chakra, India's highest and most prestigious award for valour, for his actions during the 1999 Kargil War in Kashmir between India and Pakistan.\"], 'genres': [['Action', 'Crime', 'Drama', 'Thriller'], ['Action', 'Adventure', 'Drama', 'Fantasy'], ['Action', 'Adventure', 'Sci-Fi', 'Thriller'], ['Action', 'Biography', 'Drama', 'History', 'War']], 'casts': [['Christian Bale', 'Heath Ledger', 'Aaron Eckhart', 'Michael Caine', 'Maggie Gyllenhaal', 'Gary Oldman', 'Morgan Freeman', 'Monique Gabriela Curnen', 'Ron Dean', 'Cillian Murphy', 'Chin Han', 'Nestor Carbonell', 'Eric Roberts', 'Ritchie Coster', 'Anthony Michael Hall', 'Keith Szarabajka', 'Colin McFarlane', 'Joshua Harto'], ['Elijah Wood', 'Viggo Mortensen', 'Ian McKellen', 'Orlando Bloom', 'Noel Appleby', 'Ali Astin', 'Sean Astin', 'David Aston', 'John Bach', 'Sean Bean', 'Cate Blanchett', 'Billy Boyd', 'Sadwyn Brophy', 'Alistair Browning', 'Marton Csokas', 'Richard Edge', 'Jason Fitch', 'Bernard Hill'], ['Leonardo DiCaprio', 'Joseph Gordon-Levitt', 'Elliot Page', 'Ken Watanabe', 'Tom Hardy', 'Dileep Rao', 'Cillian Murphy', 'Tom Berenger', 'Marion Cotillard', 'Pete Postlethwaite', 'Michael Caine', 'Lukas Haas', 'Tai-Li Lee', 'Claire Geare', 'Magnus Nolan', 'Taylor Geare', 'Johnathan Geare', 'Tohoru Masamune'], ['Sidharth Malhotra', 'Kiara Advani', 'Shiv Panditt', 'Pranay Pachauri', 'Sahil Vaid', 'Atul Singh Verma', 'Shataf Figar', 'Vijay Meenu', 'Anil Charanjeett', 'Raj Arjun', 'Abhiroy Singh', 'Jaykartik', 'Nikitin Dheer', 'Himanshu Ashok Malhotra', 'Ankur Sharma', 'Trishaan', 'Rakesh Dubey', 'Manmeet Kaur']], 'director': ['Christopher Nolan', 'Peter Jackson', 'Christopher Nolan', 'Vishnuvardhan']}\n"
     ]
    }
   ],
   "metadata": {}
  },
  {
   "cell_type": "code",
   "execution_count": null,
   "source": [],
   "outputs": [],
   "metadata": {}
  }
 ],
 "metadata": {
  "kernelspec": {
   "name": "python3",
   "display_name": "Python 3.8.11 64-bit ('strive': conda)"
  },
  "language_info": {
   "codemirror_mode": {
    "name": "ipython",
    "version": 3
   },
   "file_extension": ".py",
   "mimetype": "text/x-python",
   "name": "python",
   "nbconvert_exporter": "python",
   "pygments_lexer": "ipython3",
   "version": "3.8.11"
  },
  "interpreter": {
   "hash": "2f9376a53bea67c1ed5cf17fe4a618ec842560647dcd0f876afebe1c5f60995f"
  }
 },
 "nbformat": 4,
 "nbformat_minor": 4
}