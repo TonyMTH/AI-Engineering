{
 "cells": [
  {
   "cell_type": "markdown",
   "source": [
    "## NOTES ON Linear Algebra\r\n",
    "\r\n",
    " https://strive-school.zoom.us/rec/share/bKqjQrgxpTljao75kpoesMafGtzQcwFtXuWqSVTOvuoO36i0b1pDTtVOK1RbwHRa.00z2B3Y_wtvKKbMA."
   ],
   "metadata": {}
  },
  {
   "cell_type": "markdown",
   "source": [
    "### Norm of a vector\n",
    "\n",
    "$$ v = (v_{1}, v_{2}, ...,v_{n})$$\n",
    "\n",
    "$$ ||v|| = \\sqrt{v_{1}^{2}+v_{2}^{2} + ... + v_{n}^{2}}$$"
   ],
   "metadata": {}
  },
  {
   "cell_type": "code",
   "execution_count": 2,
   "source": [
    "import numpy as np\r\n",
    "v = np.array([1,2,3,4])\r\n",
    "v_norm = np.linalg.norm(v)\r\n",
    "v_norm"
   ],
   "outputs": [
    {
     "output_type": "execute_result",
     "data": {
      "text/plain": [
       "5.477225575051661"
      ]
     },
     "metadata": {},
     "execution_count": 2
    }
   ],
   "metadata": {
    "ExecuteTime": {
     "end_time": "2021-07-12T06:40:03.948538Z",
     "start_time": "2021-07-12T06:40:03.924970Z"
    }
   }
  },
  {
   "cell_type": "code",
   "execution_count": null,
   "source": [],
   "outputs": [],
   "metadata": {}
  }
 ],
 "metadata": {
  "kernelspec": {
   "display_name": "Python 3",
   "language": "python",
   "name": "python3"
  },
  "language_info": {
   "codemirror_mode": {
    "name": "ipython",
    "version": 3
   },
   "file_extension": ".py",
   "mimetype": "text/x-python",
   "name": "python",
   "nbconvert_exporter": "python",
   "pygments_lexer": "ipython3",
   "version": "3.9.1"
  },
  "varInspector": {
   "cols": {
    "lenName": 16,
    "lenType": 16,
    "lenVar": 40
   },
   "kernels_config": {
    "python": {
     "delete_cmd_postfix": "",
     "delete_cmd_prefix": "del ",
     "library": "var_list.py",
     "varRefreshCmd": "print(var_dic_list())"
    },
    "r": {
     "delete_cmd_postfix": ") ",
     "delete_cmd_prefix": "rm(",
     "library": "var_list.r",
     "varRefreshCmd": "cat(var_dic_list()) "
    }
   },
   "types_to_exclude": [
    "module",
    "function",
    "builtin_function_or_method",
    "instance",
    "_Feature"
   ],
   "window_display": false
  }
 },
 "nbformat": 4,
 "nbformat_minor": 5
}