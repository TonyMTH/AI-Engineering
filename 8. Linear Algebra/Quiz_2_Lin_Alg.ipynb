{
 "cells": [
  {
   "cell_type": "markdown",
   "source": [
    "## Linear Algebra Quiz #2\n",
    "\n",
    "![title](./img/2_1.jpeg)\n",
    "\n",
    "We strongly suggest working with numpy :)"
   ],
   "metadata": {}
  },
  {
   "cell_type": "code",
   "execution_count": 1,
   "source": [
    "import numpy as np\r\n",
    "import sympy as sy"
   ],
   "outputs": [],
   "metadata": {}
  },
  {
   "cell_type": "markdown",
   "source": [
    "![title](./img/2_2.png)\r\n",
    "- Which vectors below define a plane spanned by a linear combination?"
   ],
   "metadata": {}
  },
  {
   "cell_type": "code",
   "execution_count": 63,
   "source": [
    "def plane(a,b,c):\r\n",
    "    #returns false if the vectors don't define a plane and returns which are those vectors if true\r\n",
    "    mat = np.array([a,b,c])\r\n",
    "    _, inds = sy.Matrix(mat).rref()\r\n",
    "    return False if  len(inds) < 2 else mat[inds,:]\r\n",
    "\r\n",
    "# Harder exercise\r\n",
    "\r\n",
    "def complete_plane(*inputs):\r\n",
    "    #returns the first set of vectors to complete a plane, false otherwise\r\n",
    "    mat = np.array(inputs)\r\n",
    "    _, inds = sy.Matrix(mat).rref()\r\n",
    "    return False if  len(inds) < 2 else mat[inds,:]"
   ],
   "outputs": [],
   "metadata": {}
  },
  {
   "cell_type": "code",
   "execution_count": 64,
   "source": [
    "v1=[1,2,3]\r\n",
    "v2=[2,2,2]\r\n",
    "v3=[8,8,8]\r\n",
    "v4=[1,1,1]\r\n",
    "print(plane(v1,v2,v3))\r\n",
    "print(plane(v4,v2,v3))\r\n",
    "print(complete_plane(v4,v1,v2,v3))"
   ],
   "outputs": [
    {
     "output_type": "stream",
     "name": "stdout",
     "text": [
      "[[1 2 3]\n",
      " [2 2 2]]\n",
      "False\n",
      "[[1 1 1]\n",
      " [1 2 3]]\n"
     ]
    }
   ],
   "metadata": {}
  },
  {
   "cell_type": "markdown",
   "source": [
    "![title](./img/2_3.png)\n",
    "- What is the solution for a and b?"
   ],
   "metadata": {}
  },
  {
   "cell_type": "code",
   "execution_count": 56,
   "source": [
    "def linearly_dependent(arg):\r\n",
    "    mat = np.array(arg)\r\n",
    "    _, inds = sy.Matrix(mat).rref()\r\n",
    "    \r\n",
    "    return len(inds) != mat.shape[0]\r\n",
    "    \r\n",
    "def solve_linequa(A,b):\r\n",
    "    if linearly_dependent(np.c_[ A, b]):\r\n",
    "        return \"infinitly many solutions\"\r\n",
    "    elif linearly_dependent(A):\r\n",
    "        return \"no solution\"\r\n",
    "    else:\r\n",
    "        return np.linalg.inv(A).dot(b)"
   ],
   "outputs": [],
   "metadata": {}
  },
  {
   "cell_type": "code",
   "execution_count": 58,
   "source": [
    "A = np.array([[2, 3], [10, 15]])\r\n",
    "b = np.array([[-1],[-5]])\r\n",
    "print(solve_linequa(A,b))\r\n"
   ],
   "outputs": [
    {
     "output_type": "stream",
     "name": "stdout",
     "text": [
      "infinitly many solutions\n"
     ]
    }
   ],
   "metadata": {}
  },
  {
   "cell_type": "markdown",
   "source": [
    "![title](./img/2_4.png)\n",
    "- What is the solution for a and b?"
   ],
   "metadata": {}
  },
  {
   "cell_type": "code",
   "execution_count": 59,
   "source": [
    "A = np.array([[-1, 3], [-1, 3]])\r\n",
    "b = np.array([[1],[5]])\r\n",
    "print(solve_linequa(A,b))"
   ],
   "outputs": [
    {
     "output_type": "stream",
     "name": "stdout",
     "text": [
      "no solution\n"
     ]
    }
   ],
   "metadata": {}
  },
  {
   "cell_type": "code",
   "execution_count": 65,
   "source": [
    "#personal test for problem with solution\r\n",
    "A = np.array([[-3, 3], [-1, 3]])\r\n",
    "b = np.array([[1],[5]])\r\n",
    "print(solve_linequa(A,b))"
   ],
   "outputs": [
    {
     "output_type": "stream",
     "name": "stdout",
     "text": [
      "[[2.        ]\n",
      " [2.33333333]]\n"
     ]
    }
   ],
   "metadata": {}
  }
 ],
 "metadata": {
  "kernelspec": {
   "name": "python3",
   "display_name": "Python 3.8.11 64-bit ('strive': conda)"
  },
  "language_info": {
   "codemirror_mode": {
    "name": "ipython",
    "version": 3
   },
   "file_extension": ".py",
   "mimetype": "text/x-python",
   "name": "python",
   "nbconvert_exporter": "python",
   "pygments_lexer": "ipython3",
   "version": "3.8.11"
  },
  "varInspector": {
   "cols": {
    "lenName": 16,
    "lenType": 16,
    "lenVar": 40
   },
   "kernels_config": {
    "python": {
     "delete_cmd_postfix": "",
     "delete_cmd_prefix": "del ",
     "library": "var_list.py",
     "varRefreshCmd": "print(var_dic_list())"
    },
    "r": {
     "delete_cmd_postfix": ") ",
     "delete_cmd_prefix": "rm(",
     "library": "var_list.r",
     "varRefreshCmd": "cat(var_dic_list()) "
    }
   },
   "types_to_exclude": [
    "module",
    "function",
    "builtin_function_or_method",
    "instance",
    "_Feature"
   ],
   "window_display": false
  },
  "interpreter": {
   "hash": "2f9376a53bea67c1ed5cf17fe4a618ec842560647dcd0f876afebe1c5f60995f"
  }
 },
 "nbformat": 4,
 "nbformat_minor": 2
}