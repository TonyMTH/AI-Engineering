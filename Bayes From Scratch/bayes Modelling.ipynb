{
 "cells": [
  {
   "cell_type": "markdown",
   "metadata": {},
   "source": [
    "# KNN From Scratch"
   ]
  },
  {
   "cell_type": "code",
   "execution_count": 1,
   "metadata": {},
   "outputs": [],
   "source": [
    "#import libraries\n",
    "import numpy as np\n",
    "import pandas as pd\n",
    "from sklearn.datasets import make_blobs\n",
    "from sklearn.model_selection import train_test_split\n",
    "from sklearn.preprocessing import LabelEncoder\n",
    "from sklearn.preprocessing import StandardScaler\n",
    "import matplotlib.pyplot as plt\n",
    "import copy\n",
    "\n",
    "# import KNN from knn.py\n",
    "from bayes import NB"
   ]
  },
  {
   "cell_type": "markdown",
   "metadata": {},
   "source": [
    "## Step 1: Import dataset\n"
   ]
  },
  {
   "cell_type": "code",
   "execution_count": 2,
   "metadata": {},
   "outputs": [
    {
     "name": "stdout",
     "output_type": "stream",
     "text": [
      "Original Dataset\n",
      "   vhigh vhigh.1  2 2.1 small  high  unacc\n",
      "0  vhigh   vhigh  2   2   med   low  unacc\n",
      "1  vhigh   vhigh  2   2   med   med  unacc\n",
      "2  vhigh   vhigh  2   2   med  high  unacc\n",
      "3  vhigh   vhigh  2   2   big   low  unacc\n",
      "4  vhigh   vhigh  2   2   big   med  unacc\n",
      "\n",
      "Processed Dataset\n",
      "   unacc  vhigh_high  vhigh_low  vhigh_med  vhigh_vhigh  vhigh.1_high  \\\n",
      "0      2           0          0          0            1             0   \n",
      "1      2           0          0          0            1             0   \n",
      "2      2           0          0          0            1             0   \n",
      "3      2           0          0          0            1             0   \n",
      "4      2           0          0          0            1             0   \n",
      "\n",
      "   vhigh.1_low  vhigh.1_med  vhigh.1_vhigh  2_2  ...  2_5more  2.1_2  2.1_4  \\\n",
      "0            0            0              1    1  ...        0      1      0   \n",
      "1            0            0              1    1  ...        0      1      0   \n",
      "2            0            0              1    1  ...        0      1      0   \n",
      "3            0            0              1    1  ...        0      1      0   \n",
      "4            0            0              1    1  ...        0      1      0   \n",
      "\n",
      "   2.1_more  small_big  small_med  small_small  high_high  high_low  high_med  \n",
      "0         0          0          1            0          0         1         0  \n",
      "1         0          0          1            0          0         0         1  \n",
      "2         0          0          1            0          1         0         0  \n",
      "3         0          1          0            0          0         1         0  \n",
      "4         0          1          0            0          0         0         1  \n",
      "\n",
      "[5 rows x 22 columns]\n"
     ]
    }
   ],
   "source": [
    "#load to dataframe\n",
    "path = 'https://archive.ics.uci.edu/ml/machine-learning-databases/car/car.data'\n",
    "df = pd.read_csv(path, skiprows=2, index_col=False,encoding=\"utf8\")\n",
    "\n",
    "print('Original Dataset')\n",
    "print(df.head())\n",
    "\n",
    "#make categorical variables (except the target) into one-hot encoding\n",
    "df = pd.get_dummies(df,columns=df.columns.values[:-1])\n",
    "\n",
    "#transform the target into numeric codes\n",
    "labelencoder= LabelEncoder()\n",
    "df.unacc = labelencoder.fit_transform(df.unacc)\n",
    "\n",
    "#inspect the head\n",
    "print('\\nProcessed Dataset')\n",
    "print(df.head())"
   ]
  },
  {
   "cell_type": "markdown",
   "metadata": {},
   "source": [
    "## Load your data into X and y"
   ]
  },
  {
   "cell_type": "code",
   "execution_count": 3,
   "metadata": {},
   "outputs": [],
   "source": [
    "X,y = df.drop('unacc',axis=1).values, df.unacc.values\n",
    "# X,y = make_blobs(n_samples=300,centers=4,cluster_std=0.6,random_state=0)"
   ]
  },
  {
   "cell_type": "markdown",
   "metadata": {},
   "source": [
    "## Plot X (Use this is X has 2-dimension)"
   ]
  },
  {
   "cell_type": "code",
   "execution_count": 4,
   "metadata": {},
   "outputs": [
    {
     "data": {
      "image/png": "[encoded data removed]",
      "text/plain": [
       "<Figure size 432x288 with 1 Axes>"
      ]
     },
     "metadata": {
      "needs_background": "light"
     },
     "output_type": "display_data"
    }
   ],
   "source": [
    "KNN().make_plot(y,X,'Car Evaluation')"
   ]
  },
  {
   "cell_type": "markdown",
   "metadata": {},
   "source": [
    "## Define train test split"
   ]
  },
  {
   "cell_type": "code",
   "execution_count": 13,
   "metadata": {},
   "outputs": [],
   "source": [
    "train_X, test_X, y_train, y_test = train_test_split(X,y,test_size=.2,stratify=y,random_state=0)"
   ]
  },
  {
   "cell_type": "markdown",
   "metadata": {},
   "source": [
    "## Normalize the dataset"
   ]
  },
  {
   "cell_type": "code",
   "execution_count": 6,
   "metadata": {},
   "outputs": [],
   "source": [
    "scalar = StandardScaler()\n",
    "Xfit = scalar.fit(train_X)\n",
    "X_train = Xfit.transform(train_X)\n",
    "X_test = Xfit.transform(test_X)"
   ]
  },
  {
   "cell_type": "markdown",
   "metadata": {},
   "source": [
    "## Fit the model"
   ]
  },
  {
   "cell_type": "code",
   "execution_count": 7,
   "metadata": {},
   "outputs": [],
   "source": [
    "model = KNN().fit(X_train, y_train)"
   ]
  },
  {
   "cell_type": "markdown",
   "metadata": {},
   "source": [
    "## Compute Accuracy"
   ]
  },
  {
   "cell_type": "code",
   "execution_count": 8,
   "metadata": {},
   "outputs": [
    {
     "name": "stdout",
     "output_type": "stream",
     "text": [
      "Train Accuracy 83.19%\n",
      "Test Accuracy 68.41%\n"
     ]
    }
   ],
   "source": [
    "Train_pred_y = model.predict(X_train)\n",
    "Test_pred_y = model.predict(X_test)\n",
    "\n",
    "print('Train Accuracy {:0.2f}%'.format( model.evaluate(y_train,Train_pred_y)*100 ))\n",
    "print('Test Accuracy {:0.2f}%'.format( model.evaluate(y_test,Test_pred_y)*100 ))"
   ]
  },
  {
   "cell_type": "markdown",
   "metadata": {},
   "source": [
    "## Search for best k"
   ]
  },
  {
   "cell_type": "code",
   "execution_count": 9,
   "metadata": {},
   "outputs": [
    {
     "name": "stdout",
     "output_type": "stream",
     "text": [
      "Maximum k: 37\n",
      "\n",
      "Iterations\n",
      "=============================================\n",
      "\n",
      "Train Accuracy: 100.00%\tTest Accuracy: 51.59%\n",
      "Train Accuracy: 83.19%\tTest Accuracy: 68.41%\n",
      "Train Accuracy: 89.42%\tTest Accuracy: 84.06%\n",
      "Train Accuracy: 93.12%\tTest Accuracy: 86.67%\n",
      "Train Accuracy: 94.93%\tTest Accuracy: 91.59%\n",
      "Train Accuracy: 95.80%\tTest Accuracy: 91.88%\n",
      "Train Accuracy: 94.78%\tTest Accuracy: 89.86%\n",
      "Train Accuracy: 92.17%\tTest Accuracy: 87.25%\n",
      "Train Accuracy: 88.99%\tTest Accuracy: 82.03%\n",
      "Train Accuracy: 86.09%\tTest Accuracy: 80.87%\n",
      "Train Accuracy: 84.57%\tTest Accuracy: 78.84%\n",
      "Train Accuracy: 83.55%\tTest Accuracy: 77.97%\n",
      "Train Accuracy: 81.52%\tTest Accuracy: 76.52%\n",
      "Train Accuracy: 78.19%\tTest Accuracy: 75.94%\n",
      "Train Accuracy: 76.88%\tTest Accuracy: 73.91%\n",
      "Train Accuracy: 76.01%\tTest Accuracy: 73.91%\n",
      "Train Accuracy: 75.43%\tTest Accuracy: 73.04%\n",
      "Train Accuracy: 75.22%\tTest Accuracy: 73.91%\n",
      "Best k:  11\n"
     ]
    }
   ],
   "source": [
    "max_k = int(np.sqrt(X_train.shape[0]))\n",
    "print('Maximum k: '+str(max_k)+ '\\n\\nIterations\\n'+'='*45+'\\n') \n",
    "\n",
    "best_model = None\n",
    "best_test_accuracy = 0\n",
    "train,test = [],[]\n",
    "all_k = range(1,max_k,2)\n",
    "\n",
    "for k in all_k:\n",
    "\n",
    "    #fit model\n",
    "    model = KNN(k).fit(X_train, y_train)\n",
    "\n",
    "    #predict train and test\n",
    "    Train_pred_y = model.predict(X_train)\n",
    "    Test_pred_y = model.predict(X_test)\n",
    "    Train_pred_y = model.evaluate(y_train,Train_pred_y)*100\n",
    "    Test_pred_y = model.evaluate(y_test,Test_pred_y)*100\n",
    "\n",
    "    #add to lists\n",
    "    train.append(Train_pred_y)\n",
    "    test.append(Test_pred_y)\n",
    "\n",
    "    #get best model\n",
    "    if Test_pred_y > best_test_accuracy:\n",
    "        best_test_accuracy = Test_pred_y\n",
    "        best_model = copy.deepcopy(model)\n",
    "    print('Train Accuracy: {:0.2f}%\\tTest Accuracy: {:0.2f}%'.format( Train_pred_y, Test_pred_y ))\n",
    "\n",
    "print('Best k: ',best_model.k)"
   ]
  },
  {
   "cell_type": "markdown",
   "metadata": {},
   "source": [
    "## Plot Accuracy curve"
   ]
  },
  {
   "cell_type": "code",
   "execution_count": 10,
   "metadata": {},
   "outputs": [
    {
     "data": {
      "text/plain": [
       "<matplotlib.legend.Legend at 0x24f66b04070>"
      ]
     },
     "execution_count": 10,
     "metadata": {},
     "output_type": "execute_result"
    },
    {
     "data": {
      "image/png": "[encoded data removed]",
      "text/plain": [
       "<Figure size 432x288 with 1 Axes>"
      ]
     },
     "metadata": {
      "needs_background": "light"
     },
     "output_type": "display_data"
    }
   ],
   "source": [
    "plt.plot(all_k,train,label='train')\n",
    "plt.plot(all_k,test,label='test')\n",
    "plt.xlabel('k')\n",
    "plt.ylabel('Accuracy')\n",
    "plt.title('Accuracy Curve')\n",
    "plt.legend()"
   ]
  },
  {
   "cell_type": "markdown",
   "metadata": {},
   "source": [
    "## Single value prediction with best model"
   ]
  },
  {
   "cell_type": "code",
   "execution_count": 14,
   "metadata": {},
   "outputs": [
    {
     "name": "stdout",
     "output_type": "stream",
     "text": [
      "[[0 1 0 0 0 1 0 0 1 0 0 0 0 0 1 0 0 1 1 0 0]] [2]\n"
     ]
    }
   ],
   "source": [
    "features = test_X[0].reshape(1, -1)\n",
    "\n",
    "features_norm = Xfit.transform(features)\n",
    "y_pred = best_model.predict(features_norm)\n",
    "\n",
    "print(features, y_pred)"
   ]
  },
  {
   "cell_type": "markdown",
   "metadata": {},
   "source": []
  }
 ],
 "metadata": {
  "interpreter": {
   "hash": "2f9376a53bea67c1ed5cf17fe4a618ec842560647dcd0f876afebe1c5f60995f"
  },
  "kernelspec": {
   "display_name": "Python 3.8.11 64-bit ('strive': conda)",
   "name": "python3"
  },
  "language_info": {
   "codemirror_mode": {
    "name": "ipython",
    "version": 3
   },
   "file_extension": ".py",
   "mimetype": "text/x-python",
   "name": "python",
   "nbconvert_exporter": "python",
   "pygments_lexer": "ipython3",
   "version": "3.8.11"
  },
  "varInspector": {
   "cols": {
    "lenName": 16,
    "lenType": 16,
    "lenVar": 40
   },
   "kernels_config": {
    "python": {
     "delete_cmd_postfix": "",
     "delete_cmd_prefix": "del ",
     "library": "var_list.py",
     "varRefreshCmd": "print(var_dic_list())"
    },
    "r": {
     "delete_cmd_postfix": ") ",
     "delete_cmd_prefix": "rm(",
     "library": "var_list.r",
     "varRefreshCmd": "cat(var_dic_list()) "
    }
   },
   "types_to_exclude": [
    "module",
    "function",
    "builtin_function_or_method",
    "instance",
    "_Feature"
   ],
   "window_display": false
  }
 },
 "nbformat": 4,
 "nbformat_minor": 4
}
